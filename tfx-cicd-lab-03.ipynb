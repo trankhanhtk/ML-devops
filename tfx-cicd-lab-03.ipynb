{
 "cells": [
  {
   "cell_type": "markdown",
   "metadata": {},
   "source": [
    "# CI/CD for TFX pipelines"
   ]
  },
  {
   "cell_type": "markdown",
   "metadata": {},
   "source": [
    "## Learning Objectives\n",
    "\n",
    "1.  Develop a CI/CD workflow with Cloud Build to build and deploy TFX pipeline code.\n",
    "2.  Integrate with Github to automatically trigger pipeline deployment with source code repository changes."
   ]
  },
  {
   "cell_type": "markdown",
   "metadata": {},
   "source": [
    "In this lab, you will walk through authoring a Cloud Build CI/CD workflow that automatically builds and deploys the same TFX pipeline from `lab-02.ipynb`. You will also integrate your workflow with GitHub by setting up a trigger that starts the workflow when a new tag is applied to the GitHub repo hosting the pipeline's code.\n",
    "\n"
   ]
  },
  {
   "cell_type": "markdown",
   "metadata": {},
   "source": [
    "## Setup"
   ]
  },
  {
   "cell_type": "code",
   "execution_count": 1,
   "metadata": {},
   "outputs": [
    {
     "name": "stdout",
     "output_type": "stream",
     "text": [
      "env: PATH=/home/jupyter/.local/bin:/opt/conda/bin:/opt/conda/condabin:/usr/local/bin:/usr/bin:/bin:/usr/local/games:/usr/games\n"
     ]
    }
   ],
   "source": [
    "import yaml\n",
    "\n",
    "# Set `PATH` to include the directory containing TFX CLI.\n",
    "PATH=%env PATH\n",
    "%env PATH=/home/jupyter/.local/bin:{PATH}"
   ]
  },
  {
   "cell_type": "code",
   "execution_count": 2,
   "metadata": {},
   "outputs": [
    {
     "name": "stdout",
     "output_type": "stream",
     "text": [
      "TFX version: 0.25.0\n"
     ]
    }
   ],
   "source": [
    "!python -c \"import tfx; print('TFX version: {}'.format(tfx.__version__))\""
   ]
  },
  {
   "cell_type": "markdown",
   "metadata": {},
   "source": [
    "**Note**: this lab was built and tested with the following package versions:\n",
    "\n",
    "`TFX version: 0.25.0`"
   ]
  },
  {
   "cell_type": "markdown",
   "metadata": {},
   "source": [
    "(Optional) If the TFX version above does not match the lab tested defaults, run the command below:"
   ]
  },
  {
   "cell_type": "code",
   "execution_count": null,
   "metadata": {},
   "outputs": [],
   "source": [
    "%pip install --upgrade --user tfx==0.25.0"
   ]
  },
  {
   "cell_type": "markdown",
   "metadata": {},
   "source": [
    "**Note**: you may need to restart the kernel to pick up the correct package versions."
   ]
  },
  {
   "cell_type": "markdown",
   "metadata": {},
   "source": [
    "## Understanding the Cloud Build workflow\n",
    "Review the `cloudbuild.yaml` file to understand how the CI/CD workflow is implemented and how environment specific settings are abstracted using **Cloud Build** variables.\n",
    "\n",
    "The **Cloud Build** CI/CD workflow automates the steps you walked through manually during `lab-02`:\n",
    "1. Builds the custom TFX image to be used as a runtime execution environment for TFX components and as the AI Platform Training training container.\n",
    "1. Compiles the pipeline and uploads the pipeline to the KFP environment\n",
    "1. Pushes the custom TFX image to your project's **Container Registry**\n",
    "\n",
    "The **Cloud Build** workflow configuration uses both standard and custom [Cloud Build builders](https://cloud.google.com/cloud-build/docs/cloud-builders). The custom builder encapsulates **TFX CLI**. \n"
   ]
  },
  {
   "cell_type": "markdown",
   "metadata": {},
   "source": [
    "## Configuring environment settings\n",
    "\n",
    "Navigate to [AI Platform Pipelines](https://console.cloud.google.com/ai-platform/pipelines/clusters) page in the Google Cloud Console.\n",
    "\n",
    "### Create or select an existing Kubernetes cluster (GKE) and deploy AI Platform\n",
    "\n",
    "Make sure to select `\"Allow access to the following Cloud APIs https://www.googleapis.com/auth/cloud-platform\"` to allow for programmatic access to your pipeline by the Kubeflow SDK for the rest of the lab. Also, provide an `App instance name` such as \"tfx\" or \"mlops\". Note you may have already deployed an AI Pipelines instance during the Setup for the lab series. If so, you can proceed using that instance below in the next step.\n",
    "\n",
    "Validate the deployment of your AI Platform Pipelines instance in the console before proceeding."
   ]
  },
  {
   "cell_type": "markdown",
   "metadata": {},
   "source": [
    "### Configure environment settings\n",
    "\n",
    "Update  the below constants  with the settings reflecting your lab environment. \n",
    "\n",
    "- `GCP_REGION` - the compute region for AI Platform Training and Prediction\n",
    "- `ARTIFACT_STORE` - the GCS bucket created during installation of AI Platform Pipelines. The bucket name starts with the `kubeflowpipelines-` prefix."
   ]
  },
  {
   "cell_type": "code",
   "execution_count": 3,
   "metadata": {},
   "outputs": [
    {
     "name": "stdout",
     "output_type": "stream",
     "text": [
      "gs://qwiklabs-gcp-01-b1bce7199536-kubeflowpipelines-default/\n"
     ]
    }
   ],
   "source": [
    "# Use the following command to identify the GCS bucket for metadata and pipeline storage.\n",
    "!gsutil ls"
   ]
  },
  {
   "cell_type": "markdown",
   "metadata": {},
   "source": [
    "* `CUSTOM_SERVICE_ACCOUNT` - In the gcp console Click on the Navigation Menu and navigate to `IAM & Admin`, then to `Service Accounts` and use the service account starting with prefix - 'tfx-tuner-caip-service-account'. This enables CloudTuner and the Google Cloud AI Platform extensions Tuner component to work together and allows for distributed and parallel tuning backed by AI Platform Vizier's hyperparameter search algorithm. Please see the lab setup `README` for setup instructions."
   ]
  },
  {
   "cell_type": "markdown",
   "metadata": {},
   "source": [
    "- `ENDPOINT` - set the `ENDPOINT` constant to the endpoint to your AI Platform Pipelines instance. The endpoint to the AI Platform Pipelines instance can be found on the [AI Platform Pipelines](https://console.cloud.google.com/ai-platform/pipelines/clusters) page in the Google Cloud Console. Open the *SETTINGS* for your instance and use the value of the `host` variable in the *Connect to this Kubeflow Pipelines instance from a Python client via Kubeflow Pipelines SKD* section of the *SETTINGS* window. The format is `'....[region].pipelines.googleusercontent.com'`."
   ]
  },
  {
   "cell_type": "code",
   "execution_count": 4,
   "metadata": {},
   "outputs": [],
   "source": [
    "#TODO: Set your environment resource settings here for GCP_REGION, ARTIFACT_STORE_URI, ENDPOINT, and CUSTOM_SERVICE_ACCOUNT. \n",
    "\n",
    "GCP_REGION = 'us-central1'\n",
    "ARTIFACT_STORE_URI = 'gs://qwiklabs-gcp-01-b1bce7199536-kubeflowpipelines-default/'\n",
    "CUSTOM_SERVICE_ACCOUNT = 'tfx-tuner-caip-service-account@qwiklabs-gcp-01-b1bce7199536.iam.gserviceaccount.com'\n",
    "ENDPOINT = '11745ce1a6199788-dot-us-central1.pipelines.googleusercontent.com'\n",
    "\n",
    "PROJECT_ID = !(gcloud config get-value core/project)\n",
    "PROJECT_ID = PROJECT_ID[0]"
   ]
  },
  {
   "cell_type": "markdown",
   "metadata": {},
   "source": [
    "## Creating the TFX CLI builder"
   ]
  },
  {
   "cell_type": "markdown",
   "metadata": {},
   "source": [
    "### Review the Dockerfile for the TFX CLI builder"
   ]
  },
  {
   "cell_type": "code",
   "execution_count": 5,
   "metadata": {},
   "outputs": [
    {
     "name": "stdout",
     "output_type": "stream",
     "text": [
      "FROM gcr.io/deeplearning-platform-release/tf2-cpu.2-3\n",
      "COPY requirements.txt .\n",
      "RUN python3 -m pip install -U -r requirements.txt\n",
      "\n",
      "ENTRYPOINT [\"tfx\"]\n"
     ]
    }
   ],
   "source": [
    "!cat tfx-cli/Dockerfile"
   ]
  },
  {
   "cell_type": "code",
   "execution_count": 6,
   "metadata": {},
   "outputs": [
    {
     "name": "stdout",
     "output_type": "stream",
     "text": [
      "pandas>1.0.0\n",
      "tfx==0.25.0\n",
      "kfp==1.0.4\n",
      "requests-toolbelt==0.10.1\n"
     ]
    }
   ],
   "source": [
    "!cat tfx-cli/requirements.txt"
   ]
  },
  {
   "cell_type": "markdown",
   "metadata": {},
   "source": [
    "### Build the image and push it to your project's Container Registry"
   ]
  },
  {
   "cell_type": "markdown",
   "metadata": {},
   "source": [
    "**Hint**: Review the [Cloud Build](https://cloud.google.com/cloud-build/docs/running-builds/start-build-manually#gcloud) gcloud command line reference for builds submit. Your image should follow the format `gcr.io/[PROJECT_ID]/[IMAGE_NAME]:latest`. Note the source code for the tfx-cli is in the directory `./tfx-cli`."
   ]
  },
  {
   "cell_type": "code",
   "execution_count": 7,
   "metadata": {},
   "outputs": [],
   "source": [
    "IMAGE_NAME='tfx-cli'\n",
    "TAG='latest'\n",
    "IMAGE_URI='gcr.io/{}/{}:{}'.format(PROJECT_ID, IMAGE_NAME, TAG)"
   ]
  },
  {
   "cell_type": "code",
   "execution_count": 9,
   "metadata": {},
   "outputs": [
    {
     "data": {
      "text/plain": [
       "'gcr.io/qwiklabs-gcp-01-b1bce7199536/tfx-cli:latest'"
      ]
     },
     "execution_count": 9,
     "metadata": {},
     "output_type": "execute_result"
    }
   ],
   "source": [
    "IMAGE_URI"
   ]
  },
  {
   "cell_type": "code",
   "execution_count": null,
   "metadata": {},
   "outputs": [],
   "source": [
    "# TODO: Your gcloud command here to build tfx-cli and submit to Container Registry.\n",
    "!gcloud builds submit --timeout=15m --tag {IMAGE_URI} tfx-cli"
   ]
  },
  {
   "cell_type": "code",
   "execution_count": 13,
   "metadata": {},
   "outputs": [],
   "source": [
    "# latest: digest: sha256:d51ad97ae5d4eeb5ed6bba454bfcc306554d0c63f1299e54933a969181ab6dd5 size: 6183\n",
    "# DONE\n",
    "# --------------------------------------------------------------------------------\n",
    "# ID                                    CREATE_TIME                DURATION  SOURCE                                                                                                      IMAGES                                                 STATUS\n",
    "# f7e2dfd0-19d7-461c-8a3b-d4c74507d791  2023-06-16T09:36:04+00:00  6M45S     gs://qwiklabs-gcp-01-b1bce7199536_cloudbuild/source/1686908162.898777-cc6a78bc78d646029fa029d2bad33dc1.tgz  gcr.io/qwiklabs-gcp-01-b1bce7199536/tfx-cli (+1 more)  SUCCESS"
   ]
  },
  {
   "cell_type": "markdown",
   "metadata": {},
   "source": [
    "## Exercise: manually trigger CI/CD pipeline run with Cloud Build\n",
    "\n",
    "You can manually trigger **Cloud Build** runs using the `gcloud builds submit` command."
   ]
  },
  {
   "cell_type": "code",
   "execution_count": 10,
   "metadata": {},
   "outputs": [],
   "source": [
    "PIPELINE_NAME='tfx_covertype_continuous_training'\n",
    "MODEL_NAME='tfx_covertype_classifier'\n",
    "DATA_ROOT_URI='gs://cloud-training/OCBL203/workshop-datasets'\n",
    "TAG_NAME='test'\n",
    "TFX_IMAGE_NAME='lab-03-tfx-image'\n",
    "PIPELINE_FOLDER='pipeline'\n",
    "PIPELINE_DSL='runner.py'\n",
    "RUNTIME_VERSION='2.3'\n",
    "PYTHON_VERSION='3.7'\n",
    "USE_KFP_SA='False'\n",
    "ENABLE_TUNING='True'\n",
    "\n",
    "SUBSTITUTIONS=\"\"\"\n",
    "_GCP_REGION={},\\\n",
    "_ARTIFACT_STORE_URI={},\\\n",
    "_CUSTOM_SERVICE_ACCOUNT={},\\\n",
    "_ENDPOINT={},\\\n",
    "_PIPELINE_NAME={},\\\n",
    "_MODEL_NAME={},\\\n",
    "_DATA_ROOT_URI={},\\\n",
    "_TFX_IMAGE_NAME={},\\\n",
    "TAG_NAME={},\\\n",
    "_PIPELINE_FOLDER={},\\\n",
    "_PIPELINE_DSL={},\\\n",
    "_RUNTIME_VERSION={},\\\n",
    "_PYTHON_VERSION={},\\\n",
    "_USE_KFP_SA={},\\\n",
    "_ENABLE_TUNING={},\n",
    "\"\"\".format(GCP_REGION, \n",
    "           ARTIFACT_STORE_URI,\n",
    "           CUSTOM_SERVICE_ACCOUNT,\n",
    "           ENDPOINT,\n",
    "           PIPELINE_NAME,\n",
    "           MODEL_NAME,\n",
    "           DATA_ROOT_URI,\n",
    "           TFX_IMAGE_NAME,\n",
    "           TAG_NAME, \n",
    "           PIPELINE_FOLDER,\n",
    "           PIPELINE_DSL,\n",
    "           RUNTIME_VERSION,\n",
    "           PYTHON_VERSION,\n",
    "           USE_KFP_SA,\n",
    "           ENABLE_TUNING\n",
    "           ).strip()"
   ]
  },
  {
   "cell_type": "code",
   "execution_count": 11,
   "metadata": {},
   "outputs": [
    {
     "data": {
      "text/plain": [
       "'_GCP_REGION=us-central1,_ARTIFACT_STORE_URI=gs://qwiklabs-gcp-01-b1bce7199536-kubeflowpipelines-default/,_CUSTOM_SERVICE_ACCOUNT=tfx-tuner-caip-service-account@qwiklabs-gcp-01-b1bce7199536.iam.gserviceaccount.com,_ENDPOINT=11745ce1a6199788-dot-us-central1.pipelines.googleusercontent.com,_PIPELINE_NAME=tfx_covertype_continuous_training,_MODEL_NAME=tfx_covertype_classifier,_DATA_ROOT_URI=gs://cloud-training/OCBL203/workshop-datasets,_TFX_IMAGE_NAME=lab-03-tfx-image,TAG_NAME=test,_PIPELINE_FOLDER=pipeline,_PIPELINE_DSL=runner.py,_RUNTIME_VERSION=2.3,_PYTHON_VERSION=3.7,_USE_KFP_SA=False,_ENABLE_TUNING=True,'"
      ]
     },
     "execution_count": 11,
     "metadata": {},
     "output_type": "execute_result"
    }
   ],
   "source": [
    "SUBSTITUTIONS"
   ]
  },
  {
   "cell_type": "markdown",
   "metadata": {},
   "source": [
    "Hint: you can manually trigger **Cloud Build** runs using the `gcloud builds submit` command. See the [documentation](https://cloud.google.com/sdk/gcloud/reference/builds/submit) for pass the `cloudbuild.yaml` file and SUBSTITIONS as arguments."
   ]
  },
  {
   "cell_type": "code",
   "execution_count": 12,
   "metadata": {},
   "outputs": [
    {
     "name": "stdout",
     "output_type": "stream",
     "text": [
      "Creating temporary tarball archive of 15 file(s) totalling 125.7 KiB before compression.\n",
      "Uploading tarball of [.] to [gs://qwiklabs-gcp-01-b1bce7199536_cloudbuild/source/1686908957.558198-4e9c28c2b0c64b988039fbc4fd3faeff.tgz]\n",
      "Created [https://cloudbuild.googleapis.com/v1/projects/qwiklabs-gcp-01-b1bce7199536/locations/global/builds/4d4caf54-6eda-4532-b52f-fb17cd038992].\n",
      "Logs are available at [https://console.cloud.google.com/cloud-build/builds/4d4caf54-6eda-4532-b52f-fb17cd038992?project=754554374790].\n",
      "----------------------------- REMOTE BUILD OUTPUT ------------------------------\n",
      "starting build \"4d4caf54-6eda-4532-b52f-fb17cd038992\"\n",
      "\n",
      "FETCHSOURCE\n",
      "Fetching storage object: gs://qwiklabs-gcp-01-b1bce7199536_cloudbuild/source/1686908957.558198-4e9c28c2b0c64b988039fbc4fd3faeff.tgz#1686908957806154\n",
      "Copying gs://qwiklabs-gcp-01-b1bce7199536_cloudbuild/source/1686908957.558198-4e9c28c2b0c64b988039fbc4fd3faeff.tgz#1686908957806154...\n",
      "/ [1 files][ 24.0 KiB/ 24.0 KiB]                                                \n",
      "Operation completed over 1 objects/24.0 KiB.\n",
      "BUILD\n",
      "Starting Step #0\n",
      "Step #0: Already have image (with digest): gcr.io/cloud-builders/docker\n",
      "Step #0: Sending build context to Docker daemon  41.47kB\n",
      "Step #0: Step 1/4 : FROM tensorflow/tfx:0.25.0\n",
      "Step #0: 0.25.0: Pulling from tensorflow/tfx\n",
      "Step #0: bd47987755ba: Pulling fs layer\n",
      "Step #0: 831c222b21d8: Pulling fs layer\n",
      "Step #0: 3c2cba919283: Pulling fs layer\n",
      "Step #0: e378d88a5f59: Pulling fs layer\n",
      "Step #0: df37508d2f5c: Pulling fs layer\n",
      "Step #0: c28e7cc900d1: Pulling fs layer\n",
      "Step #0: 9019978541a7: Pulling fs layer\n",
      "Step #0: 80dc388c898c: Pulling fs layer\n",
      "Step #0: afebcf787e04: Pulling fs layer\n",
      "Step #0: b32cc9704312: Pulling fs layer\n",
      "Step #0: a0336ba74309: Pulling fs layer\n",
      "Step #0: e378d88a5f59: Waiting\n",
      "Step #0: df37508d2f5c: Waiting\n",
      "Step #0: c28e7cc900d1: Waiting\n",
      "Step #0: 9019978541a7: Waiting\n",
      "Step #0: 80dc388c898c: Waiting\n",
      "Step #0: afebcf787e04: Waiting\n",
      "Step #0: b32cc9704312: Waiting\n",
      "Step #0: a0336ba74309: Waiting\n",
      "Step #0: 3c2cba919283: Verifying Checksum\n",
      "Step #0: 3c2cba919283: Download complete\n",
      "Step #0: 831c222b21d8: Verifying Checksum\n",
      "Step #0: 831c222b21d8: Download complete\n",
      "Step #0: bd47987755ba: Verifying Checksum\n",
      "Step #0: bd47987755ba: Download complete\n",
      "Step #0: e378d88a5f59: Verifying Checksum\n",
      "Step #0: e378d88a5f59: Download complete\n",
      "Step #0: c28e7cc900d1: Verifying Checksum\n",
      "Step #0: c28e7cc900d1: Download complete\n",
      "Step #0: 9019978541a7: Verifying Checksum\n",
      "Step #0: 9019978541a7: Download complete\n",
      "Step #0: df37508d2f5c: Verifying Checksum\n",
      "Step #0: df37508d2f5c: Download complete\n",
      "Step #0: afebcf787e04: Verifying Checksum\n",
      "Step #0: afebcf787e04: Download complete\n",
      "Step #0: a0336ba74309: Verifying Checksum\n",
      "Step #0: a0336ba74309: Download complete\n",
      "Step #0: bd47987755ba: Pull complete\n",
      "Step #0: b32cc9704312: Verifying Checksum\n",
      "Step #0: b32cc9704312: Download complete\n",
      "Step #0: 831c222b21d8: Pull complete\n",
      "Step #0: 3c2cba919283: Pull complete\n",
      "Step #0: 80dc388c898c: Verifying Checksum\n",
      "Step #0: 80dc388c898c: Download complete\n",
      "Step #0: e378d88a5f59: Pull complete\n",
      "Step #0: df37508d2f5c: Pull complete\n",
      "Step #0: c28e7cc900d1: Pull complete\n",
      "Step #0: 9019978541a7: Pull complete\n",
      "Step #0: 80dc388c898c: Pull complete\n",
      "Step #0: afebcf787e04: Pull complete\n",
      "Step #0: b32cc9704312: Pull complete\n",
      "Step #0: a0336ba74309: Pull complete\n",
      "Step #0: Digest: sha256:0700c27c6492b8b2998e7d543ca13088db8d40ef26bd5c6eec58245ff8cdec35\n",
      "Step #0: Status: Downloaded newer image for tensorflow/tfx:0.25.0\n",
      "Step #0:  ---> 05d9b228cf63\n",
      "Step #0: Step 2/4 : WORKDIR ./pipeline\n",
      "Step #0:  ---> Running in f42c8a2a20eb\n",
      "Step #0: Removing intermediate container f42c8a2a20eb\n",
      "Step #0:  ---> 275d7c87d918\n",
      "Step #0: Step 3/4 : COPY ./ ./\n",
      "Step #0:  ---> ae83f2f85121\n",
      "Step #0: Step 4/4 : ENV PYTHONPATH=\"/pipeline:${PYTHONPATH}\"\n",
      "Step #0:  ---> Running in fcad6708b0ee\n",
      "Step #0: Removing intermediate container fcad6708b0ee\n",
      "Step #0:  ---> 5383befea916\n",
      "Step #0: Successfully built 5383befea916\n",
      "Step #0: Successfully tagged gcr.io/qwiklabs-gcp-01-b1bce7199536/lab-03-tfx-image:test\n",
      "Finished Step #0\n",
      "Starting Step #1\n",
      "Step #1: Pulling image: gcr.io/qwiklabs-gcp-01-b1bce7199536/tfx-cli\n",
      "Step #1: Using default tag: latest\n",
      "Step #1: latest: Pulling from qwiklabs-gcp-01-b1bce7199536/tfx-cli\n",
      "Step #1: ca1778b69356: Already exists\n",
      "Step #1: 101ba79a4276: Pulling fs layer\n",
      "Step #1: 9b74e450f5c2: Pulling fs layer\n",
      "Step #1: 4f4fb700ef54: Pulling fs layer\n",
      "Step #1: 68c3b0bdd6ac: Pulling fs layer\n",
      "Step #1: f4a801b8dcf6: Pulling fs layer\n",
      "Step #1: 6b95e7478eca: Pulling fs layer\n",
      "Step #1: 42ded40ef955: Pulling fs layer\n",
      "Step #1: 9388f5d8fed6: Pulling fs layer\n",
      "Step #1: 7d205de1f0a3: Pulling fs layer\n",
      "Step #1: 4eecb5bc31d5: Pulling fs layer\n",
      "Step #1: 1e195550b4ca: Pulling fs layer\n",
      "Step #1: fb8ccd705ac1: Pulling fs layer\n",
      "Step #1: 7654db2a387a: Pulling fs layer\n",
      "Step #1: ff38606848b4: Pulling fs layer\n",
      "Step #1: 395bf5302360: Pulling fs layer\n",
      "Step #1: 027390f27455: Pulling fs layer\n",
      "Step #1: 5faa80890e69: Pulling fs layer\n",
      "Step #1: ba03a619d7cb: Pulling fs layer\n",
      "Step #1: d461882332ae: Pulling fs layer\n",
      "Step #1: 33db7ed1517b: Pulling fs layer\n",
      "Step #1: 2f8bad2e1609: Pulling fs layer\n",
      "Step #1: 34f659191cc3: Pulling fs layer\n",
      "Step #1: 5e91ff1a1dbb: Pulling fs layer\n",
      "Step #1: ad996bab6e53: Pulling fs layer\n",
      "Step #1: dbb875f736f9: Pulling fs layer\n",
      "Step #1: 050891b99f4a: Pulling fs layer\n",
      "Step #1: ff38606848b4: Waiting\n",
      "Step #1: 395bf5302360: Waiting\n",
      "Step #1: 027390f27455: Waiting\n",
      "Step #1: 5faa80890e69: Waiting\n",
      "Step #1: ba03a619d7cb: Waiting\n",
      "Step #1: d461882332ae: Waiting\n",
      "Step #1: 33db7ed1517b: Waiting\n",
      "Step #1: 2f8bad2e1609: Waiting\n",
      "Step #1: 34f659191cc3: Waiting\n",
      "Step #1: 5e91ff1a1dbb: Waiting\n",
      "Step #1: ad996bab6e53: Waiting\n",
      "Step #1: dbb875f736f9: Waiting\n",
      "Step #1: 050891b99f4a: Waiting\n",
      "Step #1: 42ded40ef955: Waiting\n",
      "Step #1: 9388f5d8fed6: Waiting\n",
      "Step #1: 7d205de1f0a3: Waiting\n",
      "Step #1: 4eecb5bc31d5: Waiting\n",
      "Step #1: 1e195550b4ca: Waiting\n",
      "Step #1: fb8ccd705ac1: Waiting\n",
      "Step #1: 7654db2a387a: Waiting\n",
      "Step #1: f4a801b8dcf6: Waiting\n",
      "Step #1: 6b95e7478eca: Waiting\n",
      "Step #1: 68c3b0bdd6ac: Waiting\n",
      "Step #1: 4f4fb700ef54: Verifying Checksum\n",
      "Step #1: 4f4fb700ef54: Download complete\n",
      "Step #1: 9b74e450f5c2: Download complete\n",
      "Step #1: 101ba79a4276: Verifying Checksum\n",
      "Step #1: 101ba79a4276: Download complete\n",
      "Step #1: 6b95e7478eca: Verifying Checksum\n",
      "Step #1: 6b95e7478eca: Download complete\n",
      "Step #1: 42ded40ef955: Verifying Checksum\n",
      "Step #1: 42ded40ef955: Download complete\n",
      "Step #1: 9388f5d8fed6: Download complete\n",
      "Step #1: 7d205de1f0a3: Verifying Checksum\n",
      "Step #1: 7d205de1f0a3: Download complete\n",
      "Step #1: f4a801b8dcf6: Verifying Checksum\n",
      "Step #1: f4a801b8dcf6: Download complete\n",
      "Step #1: 1e195550b4ca: Verifying Checksum\n",
      "Step #1: 1e195550b4ca: Download complete\n",
      "Step #1: fb8ccd705ac1: Verifying Checksum\n",
      "Step #1: fb8ccd705ac1: Download complete\n",
      "Step #1: 7654db2a387a: Verifying Checksum\n",
      "Step #1: 7654db2a387a: Download complete\n",
      "Step #1: ff38606848b4: Verifying Checksum\n",
      "Step #1: ff38606848b4: Download complete\n",
      "Step #1: 395bf5302360: Verifying Checksum\n",
      "Step #1: 395bf5302360: Download complete\n",
      "Step #1: 027390f27455: Verifying Checksum\n",
      "Step #1: 027390f27455: Download complete\n",
      "Step #1: 5faa80890e69: Download complete\n",
      "Step #1: ba03a619d7cb: Verifying Checksum\n",
      "Step #1: ba03a619d7cb: Download complete\n",
      "Step #1: 68c3b0bdd6ac: Verifying Checksum\n",
      "Step #1: 68c3b0bdd6ac: Download complete\n",
      "Step #1: d461882332ae: Verifying Checksum\n",
      "Step #1: d461882332ae: Download complete\n",
      "Step #1: 33db7ed1517b: Verifying Checksum\n",
      "Step #1: 33db7ed1517b: Download complete\n",
      "Step #1: 4eecb5bc31d5: Verifying Checksum\n",
      "Step #1: 4eecb5bc31d5: Download complete\n",
      "Step #1: 5e91ff1a1dbb: Verifying Checksum\n",
      "Step #1: 5e91ff1a1dbb: Download complete\n",
      "Step #1: 34f659191cc3: Verifying Checksum\n",
      "Step #1: 34f659191cc3: Download complete\n",
      "Step #1: dbb875f736f9: Verifying Checksum\n",
      "Step #1: dbb875f736f9: Download complete\n",
      "Step #1: 101ba79a4276: Pull complete\n",
      "Step #1: 9b74e450f5c2: Pull complete\n",
      "Step #1: 4f4fb700ef54: Pull complete\n",
      "Step #1: ad996bab6e53: Verifying Checksum\n",
      "Step #1: ad996bab6e53: Download complete\n",
      "Step #1: 050891b99f4a: Verifying Checksum\n",
      "Step #1: 050891b99f4a: Download complete\n",
      "Step #1: 2f8bad2e1609: Verifying Checksum\n",
      "Step #1: 2f8bad2e1609: Download complete\n",
      "Step #1: 68c3b0bdd6ac: Pull complete\n",
      "Step #1: f4a801b8dcf6: Pull complete\n",
      "Step #1: 6b95e7478eca: Pull complete\n",
      "Step #1: 42ded40ef955: Pull complete\n",
      "Step #1: 9388f5d8fed6: Pull complete\n",
      "Step #1: 7d205de1f0a3: Pull complete\n",
      "Step #1: 4eecb5bc31d5: Pull complete\n",
      "Step #1: 1e195550b4ca: Pull complete\n",
      "Step #1: fb8ccd705ac1: Pull complete\n",
      "Step #1: 7654db2a387a: Pull complete\n",
      "Step #1: ff38606848b4: Pull complete\n",
      "Step #1: 395bf5302360: Pull complete\n",
      "Step #1: 027390f27455: Pull complete\n",
      "Step #1: 5faa80890e69: Pull complete\n",
      "Step #1: ba03a619d7cb: Pull complete\n",
      "Step #1: d461882332ae: Pull complete\n",
      "Step #1: 33db7ed1517b: Pull complete\n",
      "Step #1: 2f8bad2e1609: Pull complete\n",
      "Step #1: 34f659191cc3: Pull complete\n",
      "Step #1: 5e91ff1a1dbb: Pull complete\n",
      "Step #1: ad996bab6e53: Pull complete\n",
      "Step #1: dbb875f736f9: Pull complete\n",
      "Step #1: 050891b99f4a: Pull complete\n",
      "Step #1: Digest: sha256:d51ad97ae5d4eeb5ed6bba454bfcc306554d0c63f1299e54933a969181ab6dd5\n",
      "Step #1: Status: Downloaded newer image for gcr.io/qwiklabs-gcp-01-b1bce7199536/tfx-cli:latest\n",
      "Step #1: gcr.io/qwiklabs-gcp-01-b1bce7199536/tfx-cli:latest\n",
      "Step #1: CLI\n",
      "Step #1: Creating pipeline\n",
      "Step #1: New container image is built. Target image is available in the build spec file.\n",
      "Step #1: WARNING:absl:RuntimeParameter is only supported on Cloud-based DAG runner currently.\n",
      "Step #1: WARNING:absl:RuntimeParameter is only supported on Cloud-based DAG runner currently.\n",
      "Step #1: WARNING:absl:RuntimeParameter is only supported on Cloud-based DAG runner currently.\n",
      "Step #1: WARNING:absl:RuntimeParameter is only supported on Cloud-based DAG runner currently.\n",
      "Step #1: WARNING:absl:`instance_name` is deprecated, please set node id directly using`with_id()` or `.id` setter.\n",
      "Step #1: WARNING:absl:`instance_name` is deprecated, please set node id directly using`with_id()` or `.id` setter.\n",
      "Step #1: Pipeline compiled successfully.\n",
      "Step #1: Pipeline package path: /workspace/pipeline/tfx_covertype_continuous_training-test.tar.gz\n",
      "Step #1: {'created_at': datetime.datetime(2023, 6, 16, 9, 58, 13, tzinfo=tzlocal()),\n",
      "Step #1:  'default_version': {'code_source_url': None,\n",
      "Step #1:                      'created_at': datetime.datetime(2023, 6, 16, 9, 58, 13, tzinfo=tzlocal()),\n",
      "Step #1:                      'description': None,\n",
      "Step #1:                      'id': 'c8eed3eb-e2f5-498b-8675-95e1dd90ded9',\n",
      "Step #1:                      'name': 'tfx_covertype_continuous_training-test',\n",
      "Step #1:                      'package_url': None,\n",
      "Step #1:                      'parameters': [{'name': 'pipeline-root',\n",
      "Step #1:                                      'value': 'gs://qwiklabs-gcp-01-b1bce7199536-kubeflowpipelines-default//tfx_covertype_continuous_training-test/{{workflow.uid}}'},\n",
      "Step #1:                                     {'name': 'data-root-uri',\n",
      "Step #1:                                      'value': 'gs://cloud-training/OCBL203/workshop-datasets'},\n",
      "Step #1:                                     {'name': 'eval-steps', 'value': '500'},\n",
      "Step #1:                                     {'name': 'train-steps', 'value': '5000'}],\n",
      "Step #1:                      'resource_references': [{'key': {'id': 'c8eed3eb-e2f5-498b-8675-95e1dd90ded9',\n",
      "Step #1:                                                       'type': 'PIPELINE'},\n",
      "Step #1:                                               'name': None,\n",
      "Step #1:                                               'relationship': 'OWNER'}]},\n",
      "Step #1:  'description': None,\n",
      "Step #1:  'error': None,\n",
      "Step #1:  'id': 'c8eed3eb-e2f5-498b-8675-95e1dd90ded9',\n",
      "Step #1:  'name': 'tfx_covertype_continuous_training-test',\n",
      "Step #1:  'parameters': [{'name': 'pipeline-root',\n",
      "Step #1:                  'value': 'gs://qwiklabs-gcp-01-b1bce7199536-kubeflowpipelines-default//tfx_covertype_continuous_training-test/{{workflow.uid}}'},\n",
      "Step #1:                 {'name': 'data-root-uri',\n",
      "Step #1:                  'value': 'gs://cloud-training/OCBL203/workshop-datasets'},\n",
      "Step #1:                 {'name': 'eval-steps', 'value': '500'},\n",
      "Step #1:                 {'name': 'train-steps', 'value': '5000'}],\n",
      "Step #1:  'resource_references': None,\n",
      "Step #1:  'url': None}\n",
      "Step #1: Please access the pipeline detail page at http://11745ce1a6199788-dot-us-central1.pipelines.googleusercontent.com/#/pipelines/details/c8eed3eb-e2f5-498b-8675-95e1dd90ded9\n",
      "Step #1: Pipeline \"tfx_covertype_continuous_training-test\" created successfully.\n",
      "Finished Step #1\n",
      "PUSH\n",
      "Pushing gcr.io/qwiklabs-gcp-01-b1bce7199536/lab-03-tfx-image:test\n",
      "The push refers to repository [gcr.io/qwiklabs-gcp-01-b1bce7199536/lab-03-tfx-image]\n",
      "cf1fe64ef277: Preparing\n",
      "1185cd116be9: Preparing\n",
      "5dadc0a09248: Preparing\n",
      "8fb12d3bda49: Preparing\n",
      "2471eac28ba8: Preparing\n",
      "674ba689ae71: Preparing\n",
      "4058ae03fa32: Preparing\n",
      "e3437c61d457: Preparing\n",
      "84ff92691f90: Preparing\n",
      "54b00d861a7a: Preparing\n",
      "c547358928ab: Preparing\n",
      "84ff92691f90: Preparing\n",
      "c4e66be694ce: Preparing\n",
      "47cc65c6dd57: Preparing\n",
      "84ff92691f90: Waiting\n",
      "54b00d861a7a: Waiting\n",
      "c547358928ab: Waiting\n",
      "c4e66be694ce: Waiting\n",
      "47cc65c6dd57: Waiting\n",
      "4058ae03fa32: Waiting\n",
      "e3437c61d457: Waiting\n",
      "8fb12d3bda49: Layer already exists\n",
      "2471eac28ba8: Layer already exists\n",
      "5dadc0a09248: Layer already exists\n",
      "4058ae03fa32: Layer already exists\n",
      "674ba689ae71: Layer already exists\n",
      "e3437c61d457: Layer already exists\n",
      "84ff92691f90: Layer already exists\n",
      "54b00d861a7a: Layer already exists\n",
      "c547358928ab: Layer already exists\n",
      "47cc65c6dd57: Layer already exists\n",
      "c4e66be694ce: Layer already exists\n",
      "1185cd116be9: Pushed\n",
      "cf1fe64ef277: Pushed\n",
      "test: digest: sha256:286eafc4a685b587bc3b4dfe5de2a8d1a618b5cb6a85aff40d223bbb1247452c size: 3266\n",
      "DONE\n",
      "--------------------------------------------------------------------------------\n",
      "ID                                    CREATE_TIME                DURATION  SOURCE                                                                                                      IMAGES                                                     STATUS\n",
      "4d4caf54-6eda-4532-b52f-fb17cd038992  2023-06-16T09:49:17+00:00  9M4S      gs://qwiklabs-gcp-01-b1bce7199536_cloudbuild/source/1686908957.558198-4e9c28c2b0c64b988039fbc4fd3faeff.tgz  gcr.io/qwiklabs-gcp-01-b1bce7199536/lab-03-tfx-image:test  SUCCESS\n"
     ]
    }
   ],
   "source": [
    "# TODO: write gcloud builds submit command to trigger manual pipeline run.\n",
    "!gcloud builds submit . --timeout=15m --config cloudbuild.yaml --substitutions {SUBSTITUTIONS}"
   ]
  },
  {
   "cell_type": "markdown",
   "metadata": {},
   "source": [
    "## Exercise: Setting up GitHub integration"
   ]
  },
  {
   "cell_type": "markdown",
   "metadata": {},
   "source": [
    "In this exercise you integrate your CI/CD workflow with **GitHub**, using [Cloud Build GitHub App](https://github.com/marketplace/google-cloud-build). \n",
    "You will set up a trigger that starts the CI/CD workflow when a new tag is applied to the **GitHub** repo managing the  pipeline source code. You will use a fork of this repo as your source GitHub repository."
   ]
  },
  {
   "cell_type": "markdown",
   "metadata": {},
   "source": [
    "### Create a fork of this repo"
   ]
  },
  {
   "cell_type": "markdown",
   "metadata": {},
   "source": [
    "#### [Follow the GitHub documentation](https://help.github.com/en/github/getting-started-with-github/fork-a-repo) to fork this repo"
   ]
  },
  {
   "cell_type": "markdown",
   "metadata": {},
   "source": [
    "#### Create a Cloud Build trigger\n",
    "\n",
    "Connect the fork you created in the previous step to your Google Cloud project and create a trigger following the steps in the [Creating GitHub app trigger](https://cloud.google.com/cloud-build/docs/create-github-app-triggers) article. Use the following values on the **Edit trigger** form:\n",
    "\n",
    "|Field|Value|\n",
    "|-----|-----|\n",
    "|Name|[YOUR TRIGGER NAME]|\n",
    "|Description|[YOUR TRIGGER DESCRIPTION]|\n",
    "|Event| Tag|\n",
    "|Source| [YOUR FORK]|\n",
    "|Tag (regex)|.\\*|\n",
    "|Build Configuration|Cloud Build configuration file (yaml or json)|\n",
    "|Cloud Build configuration file location|/ workshops/tfx-caip-tf23/lab-03-tfx-cicd/labs/cloudbuild.yaml|\n",
    "\n",
    "\n",
    "Use the following values for the substitution variables:\n",
    "\n",
    "|Variable|Value|\n",
    "|--------|-----|\n",
    "|_GCP_REGION|[YOUR GCP_REGION]|\n",
    "|_CUSTOM_SERVICE_ACCOUNT|[YOUR CUSTOM_SERVICE_ACCOUNT]|\n",
    "|_ENDPOINT|[Your inverting proxy host pipeline ENDPOINT]|\n",
    "|_TFX_IMAGE_NAME|lab-03-tfx-image|\n",
    "|_PIPELINE_NAME|tfx_covertype_continuous_training|\n",
    "|_MODEL_NAME|tfx_covertype_classifier|\n",
    "|_DATA_ROOT_URI|gs://cloud-training/OCBL203/workshop-datasets|\n",
    "|_PIPELINE_FOLDER|workshops/tfx-caip-tf23/lab-03-tfx-cicd/labs/pipeline|\n",
    "|_PIPELINE_DSL|runner.py|\n",
    "|_PYTHON_VERSION|3.7|\n",
    "|_RUNTIME_VERSION|2.3|\n",
    "|_USE_KFP_SA|False|\n",
    "|_ENABLE_TUNING|True|"
   ]
  },
  {
   "cell_type": "markdown",
   "metadata": {},
   "source": [
    "#### Trigger the build\n",
    "\n",
    "To start an automated build [create a new release of the repo in GitHub](https://help.github.com/en/github/administering-a-repository/creating-releases). Alternatively, you can start the build by applying a tag using `git`. \n",
    "```\n",
    "git tag [TAG NAME]\n",
    "git push origin --tags\n",
    "```\n"
   ]
  },
  {
   "cell_type": "markdown",
   "metadata": {},
   "source": [
    "#### Verify triggered build in Cloud Build dashboard\n",
    "\n",
    "After you see the pipeline finish building on the Cloud Build dashboard, return to [AI Platform Pipelines](https://console.cloud.google.com/ai-platform/pipelines/clusters) in the console. Click `OPEN PIPELINES DASHBOARD` and view the newly deployed pipeline. Creating a release tag on GitHub will create a pipeline with the name `tfx_covertype_continuous_training-[TAG NAME]` while doing so from GitHub will create a pipeline with the name `tfx_covertype_continuous_training_github-[TAG NAME]`."
   ]
  },
  {
   "cell_type": "markdown",
   "metadata": {},
   "source": [
    "## Next Steps"
   ]
  },
  {
   "cell_type": "markdown",
   "metadata": {},
   "source": [
    "In this lab, you walked through authoring a Cloud Build CI/CD workflow that automatically builds and deploys a TFX pipeline. You also integrated your TFX workflow with GitHub by setting up a Cloud Build trigger. In the next lab, you will walk through inspection of TFX metadata and pipeline artifacts created during TFX pipeline runs."
   ]
  },
  {
   "cell_type": "markdown",
   "metadata": {},
   "source": [
    "# License"
   ]
  },
  {
   "cell_type": "markdown",
   "metadata": {},
   "source": [
    "<font size=-1>Licensed under the Apache License, Version 2.0 (the \\\"License\\\");\n",
    "you may not use this file except in compliance with the License.\n",
    "You may obtain a copy of the License at [https://www.apache.org/licenses/LICENSE-2.0](https://www.apache.org/licenses/LICENSE-2.0)\n",
    "\n",
    "Unless required by applicable law or agreed to in writing, software distributed under the License is distributed on an \\\"AS IS\\\" BASIS, WITHOUT WARRANTIES OR CONDITIONS OF ANY KIND, either express or implied.  See the License for the specific language governing permissions and limitations under the License.</font>"
   ]
  }
 ],
 "metadata": {
  "environment": {
   "kernel": "conda-root-py",
   "name": "tf2-cpu.2-3.m87",
   "type": "gcloud",
   "uri": "gcr.io/deeplearning-platform-release/tf2-cpu.2-3:m87"
  },
  "kernelspec": {
   "display_name": "Python [conda env:root] *",
   "language": "python",
   "name": "conda-root-py"
  },
  "language_info": {
   "codemirror_mode": {
    "name": "ipython",
    "version": 3
   },
   "file_extension": ".py",
   "mimetype": "text/x-python",
   "name": "python",
   "nbconvert_exporter": "python",
   "pygments_lexer": "ipython3",
   "version": "3.7.12"
  }
 },
 "nbformat": 4,
 "nbformat_minor": 4
}
