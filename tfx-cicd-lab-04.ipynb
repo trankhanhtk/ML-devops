{
 "cells": [
  {
   "cell_type": "markdown",
   "metadata": {},
   "source": [
    "# Inspecting TFX metadata\n",
    "\n",
    "\n",
    "## Learning Objectives\n",
    "\n",
    "1. Use a GRPC server to access and analyze pipeline artifacts stored in the ML Metadata service of your AI Platform Pipelines instance.\n",
    "\n",
    "In this lab, you will explore TFX pipeline metadata including pipeline and run artifacts. A hosted **AI Platform Pipelines** instance includes the [ML Metadata](https://github.com/google/ml-metadata) service. In **AI Platform Pipelines**, ML Metadata uses *MySQL* as a database backend and can be accessed using a GRPC server."
   ]
  },
  {
   "cell_type": "markdown",
   "metadata": {},
   "source": [
    "## Setup"
   ]
  },
  {
   "cell_type": "code",
   "execution_count": 3,
   "metadata": {},
   "outputs": [],
   "source": [
    "import os\n",
    "import json\n",
    "\n",
    "import ml_metadata\n",
    "import tensorflow_data_validation as tfdv\n",
    "import tensorflow_model_analysis as tfma\n",
    "\n",
    "\n",
    "from ml_metadata.metadata_store import metadata_store\n",
    "from ml_metadata.proto import metadata_store_pb2\n",
    "\n",
    "from tfx.orchestration import metadata\n",
    "from tfx.types import standard_artifacts\n",
    "\n",
    "from tensorflow.python.lib.io import file_io"
   ]
  },
  {
   "cell_type": "code",
   "execution_count": 4,
   "metadata": {},
   "outputs": [
    {
     "name": "stdout",
     "output_type": "stream",
     "text": [
      "TFX version: 0.25.0\n",
      "KFP version: 1.0.4\n"
     ]
    }
   ],
   "source": [
    "!python -c \"import tfx; print('TFX version: {}'.format(tfx.__version__))\"\n",
    "!python -c \"import kfp; print('KFP version: {}'.format(kfp.__version__))\""
   ]
  },
  {
   "cell_type": "markdown",
   "metadata": {},
   "source": [
    "### Option 1: Explore metadata from existing TFX pipeline runs from AI Pipelines instance created in `lab-02` or `lab-03`."
   ]
  },
  {
   "cell_type": "markdown",
   "metadata": {
    "tags": []
   },
   "source": [
    "#### 1.1 Configure Kubernetes port forwarding\n",
    "\n",
    "To enable access to the ML Metadata GRPC server, configure Kubernetes port forwarding.\n",
    "\n",
    "From a JupyterLab terminal, execute the following commands:\n",
    "\n",
    "```\n",
    "gcloud container clusters get-credentials [YOUR CLUSTER] --zone [YOUR CLUSTER ZONE]  \n",
    "kubectl port-forward  service/metadata-grpc-service --namespace [YOUR NAMESPACE] 7000:8080\n",
    "```"
   ]
  },
  {
   "cell_type": "markdown",
   "metadata": {},
   "source": [
    "Proceed to the next step, \"Connecting to ML Metadata\"."
   ]
  },
  {
   "cell_type": "markdown",
   "metadata": {},
   "source": [
    "### Option 2: Create new AI Pipelines instance and evaluate metadata on newly triggered pipeline runs.\n",
    "\n",
    "Hosted AI Pipelines incurs cost for the duration your Kubernetes cluster is running. If you deleted your previous lab instance, proceed with the 6 steps below to deploy a new TFX pipeline and triggers runs to inspect its metadata."
   ]
  },
  {
   "cell_type": "code",
   "execution_count": 5,
   "metadata": {},
   "outputs": [
    {
     "name": "stdout",
     "output_type": "stream",
     "text": [
      "env: PATH=/home/jupyter/.local/bin:/opt/conda/bin:/opt/conda/condabin:/usr/local/bin:/usr/bin:/bin:/usr/local/games:/usr/games\n"
     ]
    }
   ],
   "source": [
    "import yaml\n",
    "\n",
    "# Set `PATH` to include the directory containing TFX CLI.\n",
    "PATH=%env PATH\n",
    "%env PATH=/home/jupyter/.local/bin:{PATH}"
   ]
  },
  {
   "cell_type": "markdown",
   "metadata": {},
   "source": [
    "The pipeline source can be found in the `pipeline` folder. Switch to the `pipeline` folder and compile the pipeline."
   ]
  },
  {
   "cell_type": "code",
   "execution_count": 6,
   "metadata": {},
   "outputs": [
    {
     "name": "stdout",
     "output_type": "stream",
     "text": [
      "/home/jupyter/mlops-on-gcp/workshops/tfx-caip-tf23/lab-04-tfx-metadata/labs/pipeline\n"
     ]
    }
   ],
   "source": [
    "%cd pipeline"
   ]
  },
  {
   "cell_type": "markdown",
   "metadata": {},
   "source": [
    "#### 2.1 Create AI Platform Pipelines cluster\n",
    "\n",
    "Navigate to [AI Platform Pipelines](https://console.cloud.google.com/ai-platform/pipelines/clusters) page in the Google Cloud Console.\n",
    "\n",
    "Create or select an existing Kubernetes cluster (GKE) and deploy AI Platform. Make sure to select `\"Allow access to the following Cloud APIs https://www.googleapis.com/auth/cloud-platform\"` to allow for programmatic access to your pipeline by the Kubeflow SDK for the rest of the lab. Also, provide an `App instance name` such as \"TFX-lab-04\"."
   ]
  },
  {
   "cell_type": "markdown",
   "metadata": {},
   "source": [
    "#### 2.2 Configure environment settings"
   ]
  },
  {
   "cell_type": "markdown",
   "metadata": {},
   "source": [
    "Update  the below constants  with the settings reflecting your lab environment.\n",
    "\n",
    "- `GCP_REGION` - the compute region for AI Platform Training and Prediction\n",
    "- `ARTIFACT_STORE` - the GCS bucket created during installation of AI Platform Pipelines. The bucket name starts with the `kubeflowpipelines-` prefix. Alternatively, you can specify create a new storage bucket to write pipeline artifacts to. When specifying the bucket, do not use the trailing slash (/) at the end of the bucket name."
   ]
  },
  {
   "cell_type": "code",
   "execution_count": 7,
   "metadata": {},
   "outputs": [
    {
     "name": "stdout",
     "output_type": "stream",
     "text": [
      "gs://qwiklabs-gcp-00-0e8fe5b33e70-kubeflowpipelines-default/\n"
     ]
    }
   ],
   "source": [
    "!gsutil ls"
   ]
  },
  {
   "cell_type": "markdown",
   "metadata": {},
   "source": [
    "* `CUSTOM_SERVICE_ACCOUNT` - In the gcp console Click on the Navigation Menu. Navigate to `IAM & Admin`, then to `Service Accounts` and use the service account starting with prefix - `'tfx-tuner-caip-service-account'`. This enables CloudTuner and the Google Cloud AI Platform extensions Tuner component to work together and allows for distributed and parallel tuning backed by AI Platform Vizier's hyperparameter search algorithm. Please see the lab setup `README` for setup instructions."
   ]
  },
  {
   "cell_type": "markdown",
   "metadata": {},
   "source": [
    "- `ENDPOINT` - set the `ENDPOINT` constant to the endpoint to your AI Platform Pipelines instance. The endpoint to the AI Platform Pipelines instance can be found on the [AI Platform Pipelines](https://console.cloud.google.com/ai-platform/pipelines/clusters) page in the Google Cloud Console.\n",
    "\n",
    "1. Open the *SETTINGS* for your instance\n",
    "2. Use the value of the `host` variable in the *Connect to this Kubeflow Pipelines instance from a Python client via Kubeflow Pipelines SKD* section of the *SETTINGS* window."
   ]
  },
  {
   "cell_type": "code",
   "execution_count": 8,
   "metadata": {},
   "outputs": [],
   "source": [
    "#TODO: Set your environment resource settings here for GCP_REGION, ARTIFACT_STORE_URI, ENDPOINT, and CUSTOM_SERVICE_ACCOUNT.\n",
    "GCP_REGION = 'us-central1'\n",
    "ARTIFACT_STORE_URI = 'gs://qwiklabs-gcp-00-0e8fe5b33e70-kubeflowpipelines-default/'\n",
    "ENDPOINT = '63cda99a077e27dc-dot-us-central1.pipelines.googleusercontent.com'\n",
    "CUSTOM_SERVICE_ACCOUNT = 'tfx-tuner-caip-service-account@qwiklabs-gcp-00-0e8fe5b33e70.iam.gserviceaccount.com'\n",
    "\n",
    "PROJECT_ID = !(gcloud config get-value core/project)\n",
    "PROJECT_ID = PROJECT_ID[0]"
   ]
  },
  {
   "cell_type": "code",
   "execution_count": 9,
   "metadata": {},
   "outputs": [
    {
     "name": "stdout",
     "output_type": "stream",
     "text": [
      "env: GCP_REGION=us-central1\n",
      "env: ARTIFACT_STORE_URI=gs://qwiklabs-gcp-00-0e8fe5b33e70-kubeflowpipelines-default/\n",
      "env: CUSTOM_SERVICE_ACCOUNT=tfx-tuner-caip-service-account@qwiklabs-gcp-00-0e8fe5b33e70.iam.gserviceaccount.com\n",
      "env: PROJECT_ID=qwiklabs-gcp-00-0e8fe5b33e70\n"
     ]
    }
   ],
   "source": [
    "# Set your resource settings as environment variables. These override the default values in pipeline/config.py.\n",
    "%env GCP_REGION={GCP_REGION}\n",
    "%env ARTIFACT_STORE_URI={ARTIFACT_STORE_URI}\n",
    "%env CUSTOM_SERVICE_ACCOUNT={CUSTOM_SERVICE_ACCOUNT}\n",
    "%env PROJECT_ID={PROJECT_ID}"
   ]
  },
  {
   "cell_type": "markdown",
   "metadata": {},
   "source": [
    "#### 2.3 Compile pipeline"
   ]
  },
  {
   "cell_type": "code",
   "execution_count": 11,
   "metadata": {},
   "outputs": [],
   "source": [
    "PIPELINE_NAME = 'tfx_covertype_lab_04_test_1111xx'\n",
    "MODEL_NAME = 'tfx_covertype_classifier'\n",
    "DATA_ROOT_URI = 'gs://cloud-training/OCBL203/workshop-datasets'\n",
    "CUSTOM_TFX_IMAGE = 'gcr.io/{}/{}'.format(PROJECT_ID, PIPELINE_NAME)\n",
    "RUNTIME_VERSION = '2.3'\n",
    "PYTHON_VERSION = '3.7'\n",
    "USE_KFP_SA=False\n",
    "ENABLE_TUNING=True"
   ]
  },
  {
   "cell_type": "code",
   "execution_count": 13,
   "metadata": {},
   "outputs": [
    {
     "data": {
      "text/plain": [
       "'gcr.io/qwiklabs-gcp-00-0e8fe5b33e70/tfx_covertype_lab_04_test_1111xx'"
      ]
     },
     "execution_count": 13,
     "metadata": {},
     "output_type": "execute_result"
    }
   ],
   "source": [
    "CUSTOM_TFX_IMAGE"
   ]
  },
  {
   "cell_type": "code",
   "execution_count": 14,
   "metadata": {},
   "outputs": [
    {
     "name": "stdout",
     "output_type": "stream",
     "text": [
      "env: PIPELINE_NAME=tfx_covertype_lab_04_test_1111xx\n",
      "env: MODEL_NAME=tfx_covertype_classifier\n",
      "env: DATA_ROOT_URI=gs://cloud-training/OCBL203/workshop-datasets\n",
      "env: KUBEFLOW_TFX_IMAGE=gcr.io/qwiklabs-gcp-00-0e8fe5b33e70/tfx_covertype_lab_04_test_1111xx\n",
      "env: RUNTIME_VERSION=2.3\n",
      "env: PYTHON_VERIONS=3.7\n",
      "env: USE_KFP_SA=False\n",
      "env: ENABLE_TUNING=True\n"
     ]
    }
   ],
   "source": [
    "%env PIPELINE_NAME={PIPELINE_NAME}\n",
    "%env MODEL_NAME={MODEL_NAME}\n",
    "%env DATA_ROOT_URI={DATA_ROOT_URI}\n",
    "%env KUBEFLOW_TFX_IMAGE={CUSTOM_TFX_IMAGE}\n",
    "%env RUNTIME_VERSION={RUNTIME_VERSION}\n",
    "%env PYTHON_VERIONS={PYTHON_VERSION}\n",
    "%env USE_KFP_SA={USE_KFP_SA}\n",
    "%env ENABLE_TUNING={ENABLE_TUNING}"
   ]
  },
  {
   "cell_type": "code",
   "execution_count": 17,
   "metadata": {},
   "outputs": [
    {
     "name": "stdout",
     "output_type": "stream",
     "text": [
      "CLI\n",
      "Compiling pipeline\n",
      "WARNING:absl:RuntimeParameter is only supported on Cloud-based DAG runner currently.\n",
      "WARNING:absl:RuntimeParameter is only supported on Cloud-based DAG runner currently.\n",
      "WARNING:absl:RuntimeParameter is only supported on Cloud-based DAG runner currently.\n",
      "WARNING:absl:RuntimeParameter is only supported on Cloud-based DAG runner currently.\n",
      "WARNING:absl:`instance_name` is deprecated, please set node id directly using`with_id()` or `.id` setter.\n",
      "WARNING:absl:`instance_name` is deprecated, please set node id directly using`with_id()` or `.id` setter.\n",
      "\u001b[0mPipeline compiled successfully.\n",
      "Pipeline package path: /home/jupyter/mlops-on-gcp/workshops/tfx-caip-tf23/lab-04-tfx-metadata/labs/pipeline/tfx_covertype_lab_04_test_1111xx.tar.gz\n"
     ]
    }
   ],
   "source": [
    "!tfx pipeline compile --engine kubeflow --pipeline_path runner.py"
   ]
  },
  {
   "cell_type": "code",
   "execution_count": 18,
   "metadata": {},
   "outputs": [
    {
     "name": "stdout",
     "output_type": "stream",
     "text": [
      "Dockerfile   model.py\t       schema\n",
      "__pycache__  pipeline.py       tfx_covertype_lab_04_test_1111xx.tar.gz\n",
      "config.py    preprocessing.py\n",
      "features.py  runner.py\n"
     ]
    }
   ],
   "source": [
    "!ls"
   ]
  },
  {
   "cell_type": "markdown",
   "metadata": {
    "tags": []
   },
   "source": [
    "#### 2.4 Deploy pipeline to AI Platform"
   ]
  },
  {
   "cell_type": "code",
   "execution_count": 19,
   "metadata": {},
   "outputs": [
    {
     "name": "stdout",
     "output_type": "stream",
     "text": [
      "CLI\n",
      "Creating pipeline\n",
      "Detected Kubeflow.\n",
      "Use --engine flag if you intend to use a different orchestrator.\n",
      "Reading build spec from build.yaml\n",
      "[Skaffold] W0616 14:41:47.544850   12391 gcp.go:119] WARNING: the gcp auth plugin is deprecated in v1.22+, unavailable in v1.26+; use gcloud instead.\n",
      "[Skaffold] To learn more, consult https://cloud.google.com/blog/products/containers-kubernetes/kubectl-auth-changes-in-gke\n",
      "[Skaffold] Generating tags...\n",
      "[Skaffold]  - gcr.io/qwiklabs-gcp-00-0e8fe5b33e70/tfx_covertype_lab_04_test_1111xx -> gcr.io/qwiklabs-gcp-00-0e8fe5b33e70/tfx_covertype_lab_04_test_1111xx:latest\n",
      "[Skaffold] Checking cache...\n",
      "[Skaffold]  - gcr.io/qwiklabs-gcp-00-0e8fe5b33e70/tfx_covertype_lab_04_test_1111xx: Not found. Building\n",
      "[Skaffold] Starting build...\n",
      "[Skaffold] Building [gcr.io/qwiklabs-gcp-00-0e8fe5b33e70/tfx_covertype_lab_04_test_1111xx]...\n",
      "[Skaffold] #1 [internal] load .dockerignore\n",
      "[Skaffold] #1 transferring context: 2B 0.0s done\n",
      "[Skaffold] #1 DONE 0.2s\n",
      "[Skaffold] \n",
      "[Skaffold] #2 [internal] load build definition from Dockerfile\n",
      "[Skaffold] #2 transferring dockerfile: 134B done\n",
      "[Skaffold] #2 DONE 0.2s\n",
      "[Skaffold] \n",
      "[Skaffold] #3 [internal] load metadata for docker.io/tensorflow/tfx:0.25.0\n",
      "[Skaffold] #3 DONE 0.6s\n",
      "[Skaffold] \n",
      "[Skaffold] #4 [internal] load build context\n",
      "[Skaffold] #4 transferring context: 60.79kB 0.0s done\n",
      "[Skaffold] #4 DONE 0.1s\n",
      "[Skaffold] \n",
      "[Skaffold] #5 [1/3] FROM docker.io/tensorflow/tfx:0.25.0@sha256:0700c27c6492b8b2998e7d543ca13088db8d40ef26bd5c6eec58245ff8cdec35\n",
      "[Skaffold] #5 resolve docker.io/tensorflow/tfx:0.25.0@sha256:0700c27c6492b8b2998e7d543ca13088db8d40ef26bd5c6eec58245ff8cdec35 done\n",
      "[Skaffold] #5 sha256:bd47987755ba5e5a41a43bb514db39abded9ea182367ea095d27bb248e3fbf7d 0B / 44.53MB 0.0s\n",
      "[Skaffold] #5 sha256:831c222b21d8d78fd475c38622ca0d892d0899fdda283251f5b02bcb0b945d84 0B / 10.20MB 0.0s\n",
      "[Skaffold] #5 sha256:0700c27c6492b8b2998e7d543ca13088db8d40ef26bd5c6eec58245ff8cdec35 2.85kB / 2.85kB done\n",
      "[Skaffold] #5 sha256:05d9b228cf63233a5dc37f474c29ddaadff8c2d0aa7df269802b1641e8eaea51 7.36kB / 7.36kB done\n",
      "[Skaffold] #5 sha256:3c2cba919283a210665e480bcbf943eaaf4ed87a83f02e81bb286b8bdead0e75 0B / 49B 0.0s\n",
      "[Skaffold] #5 sha256:3c2cba919283a210665e480bcbf943eaaf4ed87a83f02e81bb286b8bdead0e75 49B / 49B 0.1s done\n",
      "[Skaffold] #5 sha256:e378d88a5f590a1106078d781af78bddc23e6a26bb5e65e94511ec2d65f5536a 0B / 317.94MB 0.1s\n",
      "[Skaffold] #5 sha256:bd47987755ba5e5a41a43bb514db39abded9ea182367ea095d27bb248e3fbf7d 2.85MB / 44.53MB 0.2s\n",
      "[Skaffold] #5 sha256:831c222b21d8d78fd475c38622ca0d892d0899fdda283251f5b02bcb0b945d84 3.39MB / 10.20MB 0.2s\n",
      "[Skaffold] #5 sha256:bd47987755ba5e5a41a43bb514db39abded9ea182367ea095d27bb248e3fbf7d 19.67MB / 44.53MB 0.4s\n",
      "[Skaffold] #5 sha256:831c222b21d8d78fd475c38622ca0d892d0899fdda283251f5b02bcb0b945d84 10.20MB / 10.20MB 0.4s\n",
      "[Skaffold] #5 sha256:bd47987755ba5e5a41a43bb514db39abded9ea182367ea095d27bb248e3fbf7d 27.72MB / 44.53MB 0.6s\n",
      "[Skaffold] #5 sha256:e378d88a5f590a1106078d781af78bddc23e6a26bb5e65e94511ec2d65f5536a 19.51MB / 317.94MB 0.6s\n",
      "[Skaffold] #5 sha256:bd47987755ba5e5a41a43bb514db39abded9ea182367ea095d27bb248e3fbf7d 35.67MB / 44.53MB 0.6s\n",
      "[Skaffold] #5 sha256:831c222b21d8d78fd475c38622ca0d892d0899fdda283251f5b02bcb0b945d84 10.20MB / 10.20MB 0.6s done\n",
      "[Skaffold] #5 sha256:df37508d2f5c9a1e8883b204d04d37b1cbd7754a1bc765b8d72c36f7b90d37df 0B / 324.06MB 0.6s\n",
      "[Skaffold] #5 sha256:bd47987755ba5e5a41a43bb514db39abded9ea182367ea095d27bb248e3fbf7d 44.53MB / 44.53MB 0.8s\n",
      "[Skaffold] #5 sha256:e378d88a5f590a1106078d781af78bddc23e6a26bb5e65e94511ec2d65f5536a 42.92MB / 317.94MB 1.0s\n",
      "[Skaffold] #5 sha256:df37508d2f5c9a1e8883b204d04d37b1cbd7754a1bc765b8d72c36f7b90d37df 17.69MB / 324.06MB 1.0s\n",
      "[Skaffold] #5 sha256:bd47987755ba5e5a41a43bb514db39abded9ea182367ea095d27bb248e3fbf7d 44.53MB / 44.53MB 1.1s done\n",
      "[Skaffold] #5 sha256:e378d88a5f590a1106078d781af78bddc23e6a26bb5e65e94511ec2d65f5536a 60.13MB / 317.94MB 1.2s\n",
      "[Skaffold] #5 sha256:c28e7cc900d1694e0e795239419bc679665e8abc02ba40c30d7794836d1d7640 0B / 162.53MB 1.2s\n",
      "[Skaffold] #5 sha256:df37508d2f5c9a1e8883b204d04d37b1cbd7754a1bc765b8d72c36f7b90d37df 42.23MB / 324.06MB 1.4s\n",
      "[Skaffold] #5 sha256:c28e7cc900d1694e0e795239419bc679665e8abc02ba40c30d7794836d1d7640 13.17MB / 162.53MB 1.6s\n",
      "[Skaffold] #5 sha256:e378d88a5f590a1106078d781af78bddc23e6a26bb5e65e94511ec2d65f5536a 78.81MB / 317.94MB 1.7s\n",
      "[Skaffold] #5 sha256:df37508d2f5c9a1e8883b204d04d37b1cbd7754a1bc765b8d72c36f7b90d37df 74.91MB / 324.06MB 1.9s\n",
      "[Skaffold] #5 sha256:c28e7cc900d1694e0e795239419bc679665e8abc02ba40c30d7794836d1d7640 25.34MB / 162.53MB 1.9s\n",
      "[Skaffold] #5 extracting sha256:bd47987755ba5e5a41a43bb514db39abded9ea182367ea095d27bb248e3fbf7d\n",
      "[Skaffold] #5 sha256:e378d88a5f590a1106078d781af78bddc23e6a26bb5e65e94511ec2d65f5536a 96.62MB / 317.94MB 2.1s\n",
      "[Skaffold] #5 sha256:df37508d2f5c9a1e8883b204d04d37b1cbd7754a1bc765b8d72c36f7b90d37df 100.47MB / 324.06MB 2.3s\n",
      "[Skaffold] #5 sha256:c28e7cc900d1694e0e795239419bc679665e8abc02ba40c30d7794836d1d7640 40.43MB / 162.53MB 2.3s\n",
      "[Skaffold] #5 sha256:e378d88a5f590a1106078d781af78bddc23e6a26bb5e65e94511ec2d65f5536a 119.01MB / 317.94MB 2.7s\n",
      "[Skaffold] #5 sha256:df37508d2f5c9a1e8883b204d04d37b1cbd7754a1bc765b8d72c36f7b90d37df 126.68MB / 324.06MB 2.7s\n",
      "[Skaffold] #5 sha256:c28e7cc900d1694e0e795239419bc679665e8abc02ba40c30d7794836d1d7640 59.53MB / 162.53MB 2.7s\n",
      "[Skaffold] #5 sha256:df37508d2f5c9a1e8883b204d04d37b1cbd7754a1bc765b8d72c36f7b90d37df 143.30MB / 324.06MB 2.9s\n",
      "[Skaffold] #5 sha256:e378d88a5f590a1106078d781af78bddc23e6a26bb5e65e94511ec2d65f5536a 137.63MB / 317.94MB 3.1s\n",
      "[Skaffold] #5 sha256:c28e7cc900d1694e0e795239419bc679665e8abc02ba40c30d7794836d1d7640 70.06MB / 162.53MB 3.1s\n",
      "[Skaffold] #5 sha256:df37508d2f5c9a1e8883b204d04d37b1cbd7754a1bc765b8d72c36f7b90d37df 166.85MB / 324.06MB 3.3s\n",
      "[Skaffold] #5 sha256:c28e7cc900d1694e0e795239419bc679665e8abc02ba40c30d7794836d1d7640 78.61MB / 162.53MB 3.3s\n",
      "[Skaffold] #5 sha256:df37508d2f5c9a1e8883b204d04d37b1cbd7754a1bc765b8d72c36f7b90d37df 184.60MB / 324.06MB 3.6s\n",
      "[Skaffold] #5 sha256:c28e7cc900d1694e0e795239419bc679665e8abc02ba40c30d7794836d1d7640 96.98MB / 162.53MB 3.6s\n",
      "[Skaffold] #5 sha256:e378d88a5f590a1106078d781af78bddc23e6a26bb5e65e94511ec2d65f5536a 159.55MB / 317.94MB 3.8s\n",
      "[Skaffold] #5 sha256:df37508d2f5c9a1e8883b204d04d37b1cbd7754a1bc765b8d72c36f7b90d37df 203.52MB / 324.06MB 4.0s\n",
      "[Skaffold] #5 sha256:c28e7cc900d1694e0e795239419bc679665e8abc02ba40c30d7794836d1d7640 108.20MB / 162.53MB 4.0s\n",
      "[Skaffold] #5 sha256:e378d88a5f590a1106078d781af78bddc23e6a26bb5e65e94511ec2d65f5536a 180.40MB / 317.94MB 4.3s\n",
      "[Skaffold] #5 sha256:df37508d2f5c9a1e8883b204d04d37b1cbd7754a1bc765b8d72c36f7b90d37df 222.67MB / 324.06MB 4.3s\n",
      "[Skaffold] #5 sha256:c28e7cc900d1694e0e795239419bc679665e8abc02ba40c30d7794836d1d7640 121.17MB / 162.53MB 4.3s\n",
      "[Skaffold] #5 sha256:c28e7cc900d1694e0e795239419bc679665e8abc02ba40c30d7794836d1d7640 131.10MB / 162.53MB 4.6s\n",
      "[Skaffold] #5 sha256:df37508d2f5c9a1e8883b204d04d37b1cbd7754a1bc765b8d72c36f7b90d37df 240.58MB / 324.06MB 4.6s\n",
      "[Skaffold] #5 sha256:e378d88a5f590a1106078d781af78bddc23e6a26bb5e65e94511ec2d65f5536a 199.31MB / 317.94MB 4.8s\n",
      "[Skaffold] #5 sha256:c28e7cc900d1694e0e795239419bc679665e8abc02ba40c30d7794836d1d7640 143.10MB / 162.53MB 4.9s\n",
      "[Skaffold] #5 sha256:df37508d2f5c9a1e8883b204d04d37b1cbd7754a1bc765b8d72c36f7b90d37df 261.65MB / 324.06MB 5.1s\n",
      "[Skaffold] #5 sha256:e378d88a5f590a1106078d781af78bddc23e6a26bb5e65e94511ec2d65f5536a 220.14MB / 317.94MB 5.2s\n",
      "[Skaffold] #5 sha256:c28e7cc900d1694e0e795239419bc679665e8abc02ba40c30d7794836d1d7640 155.33MB / 162.53MB 5.3s\n",
      "[Skaffold] #5 sha256:e378d88a5f590a1106078d781af78bddc23e6a26bb5e65e94511ec2d65f5536a 237.42MB / 317.94MB 5.5s\n",
      "[Skaffold] #5 sha256:df37508d2f5c9a1e8883b204d04d37b1cbd7754a1bc765b8d72c36f7b90d37df 280.48MB / 324.06MB 5.5s\n",
      "[Skaffold] #5 sha256:e378d88a5f590a1106078d781af78bddc23e6a26bb5e65e94511ec2d65f5536a 257.35MB / 317.94MB 5.7s\n",
      "[Skaffold] #5 sha256:df37508d2f5c9a1e8883b204d04d37b1cbd7754a1bc765b8d72c36f7b90d37df 301.23MB / 324.06MB 5.9s\n",
      "[Skaffold] #5 sha256:e378d88a5f590a1106078d781af78bddc23e6a26bb5e65e94511ec2d65f5536a 278.39MB / 317.94MB 6.0s\n",
      "[Skaffold] #5 sha256:df37508d2f5c9a1e8883b204d04d37b1cbd7754a1bc765b8d72c36f7b90d37df 324.06MB / 324.06MB 6.2s\n",
      "[Skaffold] #5 sha256:e378d88a5f590a1106078d781af78bddc23e6a26bb5e65e94511ec2d65f5536a 300.35MB / 317.94MB 6.3s\n",
      "[Skaffold] #5 extracting sha256:bd47987755ba5e5a41a43bb514db39abded9ea182367ea095d27bb248e3fbf7d 5.0s\n",
      "[Skaffold] #5 sha256:e378d88a5f590a1106078d781af78bddc23e6a26bb5e65e94511ec2d65f5536a 317.94MB / 317.94MB 7.9s\n",
      "[Skaffold] #5 sha256:c28e7cc900d1694e0e795239419bc679665e8abc02ba40c30d7794836d1d7640 162.53MB / 162.53MB 6.5s done\n",
      "[Skaffold] #5 sha256:9019978541a7e6c7d3721643cd10251c5394315944e76929056f46cbd6f2e8d6 5.72MB / 7.93MB 7.9s\n",
      "[Skaffold] #5 sha256:9019978541a7e6c7d3721643cd10251c5394315944e76929056f46cbd6f2e8d6 7.93MB / 7.93MB 7.9s\n",
      "[Skaffold] #5 sha256:e378d88a5f590a1106078d781af78bddc23e6a26bb5e65e94511ec2d65f5536a 317.94MB / 317.94MB 9.0s done\n",
      "[Skaffold] #5 sha256:df37508d2f5c9a1e8883b204d04d37b1cbd7754a1bc765b8d72c36f7b90d37df 324.06MB / 324.06MB 9.1s done\n",
      "[Skaffold] #5 sha256:9019978541a7e6c7d3721643cd10251c5394315944e76929056f46cbd6f2e8d6 7.93MB / 7.93MB 8.7s done\n",
      "[Skaffold] #5 sha256:80dc388c898ccf048dd63c09c4e66748f8a7eeafebb8fa1e3e1e0c8007c0c4da 9.71MB / 739.98MB 9.5s\n",
      "[Skaffold] #5 sha256:afebcf787e04cc5eac5c15ece7fa3cd6665d1256b37ebadd947d93793e1a748a 4.57MB / 246.48MB 9.5s\n",
      "[Skaffold] #5 sha256:b32cc97043126eb1aaa0ca0b39f1713e76a0c3977054a2a4211788f27d0b2707 1.43MB / 519.69MB 9.5s\n",
      "[Skaffold] #5 sha256:afebcf787e04cc5eac5c15ece7fa3cd6665d1256b37ebadd947d93793e1a748a 22.10MB / 246.48MB 9.9s\n",
      "[Skaffold] #5 sha256:afebcf787e04cc5eac5c15ece7fa3cd6665d1256b37ebadd947d93793e1a748a 37.45MB / 246.48MB 10.2s\n",
      "[Skaffold] #5 sha256:b32cc97043126eb1aaa0ca0b39f1713e76a0c3977054a2a4211788f27d0b2707 30.43MB / 519.69MB 10.2s\n",
      "[Skaffold] #5 sha256:80dc388c898ccf048dd63c09c4e66748f8a7eeafebb8fa1e3e1e0c8007c0c4da 51.77MB / 739.98MB 10.4s\n",
      "[Skaffold] #5 sha256:afebcf787e04cc5eac5c15ece7fa3cd6665d1256b37ebadd947d93793e1a748a 54.38MB / 246.48MB 10.5s\n",
      "[Skaffold] #5 sha256:afebcf787e04cc5eac5c15ece7fa3cd6665d1256b37ebadd947d93793e1a748a 70.78MB / 246.48MB 10.9s\n",
      "[Skaffold] #5 sha256:b32cc97043126eb1aaa0ca0b39f1713e76a0c3977054a2a4211788f27d0b2707 63.64MB / 519.69MB 10.9s\n",
      "[Skaffold] #5 sha256:80dc388c898ccf048dd63c09c4e66748f8a7eeafebb8fa1e3e1e0c8007c0c4da 88.93MB / 739.98MB 11.0s\n",
      "[Skaffold] #5 sha256:afebcf787e04cc5eac5c15ece7fa3cd6665d1256b37ebadd947d93793e1a748a 87.71MB / 246.48MB 11.2s\n",
      "[Skaffold] #5 sha256:afebcf787e04cc5eac5c15ece7fa3cd6665d1256b37ebadd947d93793e1a748a 100.69MB / 246.48MB 11.6s\n",
      "[Skaffold] #5 sha256:b32cc97043126eb1aaa0ca0b39f1713e76a0c3977054a2a4211788f27d0b2707 90.99MB / 519.69MB 11.6s\n",
      "[Skaffold] #5 sha256:80dc388c898ccf048dd63c09c4e66748f8a7eeafebb8fa1e3e1e0c8007c0c4da 129.19MB / 739.98MB 11.9s\n",
      "[Skaffold] #5 sha256:afebcf787e04cc5eac5c15ece7fa3cd6665d1256b37ebadd947d93793e1a748a 114.77MB / 246.48MB 11.9s\n",
      "[Skaffold] #5 extracting sha256:bd47987755ba5e5a41a43bb514db39abded9ea182367ea095d27bb248e3fbf7d 10.1s\n",
      "[Skaffold] #5 sha256:afebcf787e04cc5eac5c15ece7fa3cd6665d1256b37ebadd947d93793e1a748a 127.19MB / 246.48MB 12.2s\n",
      "[Skaffold] #5 sha256:b32cc97043126eb1aaa0ca0b39f1713e76a0c3977054a2a4211788f27d0b2707 118.45MB / 519.69MB 12.2s\n",
      "[Skaffold] #5 sha256:afebcf787e04cc5eac5c15ece7fa3cd6665d1256b37ebadd947d93793e1a748a 140.52MB / 246.48MB 12.6s\n",
      "[Skaffold] #5 sha256:80dc388c898ccf048dd63c09c4e66748f8a7eeafebb8fa1e3e1e0c8007c0c4da 167.99MB / 739.98MB 13.2s\n",
      "[Skaffold] #5 sha256:afebcf787e04cc5eac5c15ece7fa3cd6665d1256b37ebadd947d93793e1a748a 158.13MB / 246.48MB 13.2s\n",
      "[Skaffold] #5 sha256:b32cc97043126eb1aaa0ca0b39f1713e76a0c3977054a2a4211788f27d0b2707 152.44MB / 519.69MB 13.2s\n",
      "[Skaffold] #5 sha256:afebcf787e04cc5eac5c15ece7fa3cd6665d1256b37ebadd947d93793e1a748a 173.17MB / 246.48MB 13.4s\n",
      "[Skaffold] #5 sha256:afebcf787e04cc5eac5c15ece7fa3cd6665d1256b37ebadd947d93793e1a748a 191.68MB / 246.48MB 13.9s\n",
      "[Skaffold] #5 sha256:b32cc97043126eb1aaa0ca0b39f1713e76a0c3977054a2a4211788f27d0b2707 183.03MB / 519.69MB 13.9s\n",
      "[Skaffold] #5 sha256:80dc388c898ccf048dd63c09c4e66748f8a7eeafebb8fa1e3e1e0c8007c0c4da 208.18MB / 739.98MB 14.6s\n",
      "[Skaffold] #5 sha256:afebcf787e04cc5eac5c15ece7fa3cd6665d1256b37ebadd947d93793e1a748a 206.67MB / 246.48MB 14.6s\n",
      "[Skaffold] #5 sha256:afebcf787e04cc5eac5c15ece7fa3cd6665d1256b37ebadd947d93793e1a748a 226.25MB / 246.48MB 15.1s\n",
      "[Skaffold] #5 sha256:b32cc97043126eb1aaa0ca0b39f1713e76a0c3977054a2a4211788f27d0b2707 211.88MB / 519.69MB 15.1s\n",
      "[Skaffold] #5 sha256:80dc388c898ccf048dd63c09c4e66748f8a7eeafebb8fa1e3e1e0c8007c0c4da 245.27MB / 739.98MB 15.6s\n",
      "[Skaffold] #5 sha256:afebcf787e04cc5eac5c15ece7fa3cd6665d1256b37ebadd947d93793e1a748a 239.35MB / 246.48MB 15.6s\n",
      "[Skaffold] #5 sha256:b32cc97043126eb1aaa0ca0b39f1713e76a0c3977054a2a4211788f27d0b2707 244.45MB / 519.69MB 16.1s\n",
      "[Skaffold] #5 sha256:80dc388c898ccf048dd63c09c4e66748f8a7eeafebb8fa1e3e1e0c8007c0c4da 282.69MB / 739.98MB 16.3s\n",
      "[Skaffold] #5 sha256:b32cc97043126eb1aaa0ca0b39f1713e76a0c3977054a2a4211788f27d0b2707 283.90MB / 519.69MB 16.6s\n",
      "[Skaffold] #5 extracting sha256:bd47987755ba5e5a41a43bb514db39abded9ea182367ea095d27bb248e3fbf7d 15.2s\n",
      "[Skaffold] #5 sha256:80dc388c898ccf048dd63c09c4e66748f8a7eeafebb8fa1e3e1e0c8007c0c4da 327.92MB / 739.98MB 17.1s\n",
      "[Skaffold] #5 sha256:b32cc97043126eb1aaa0ca0b39f1713e76a0c3977054a2a4211788f27d0b2707 311.29MB / 519.69MB 17.1s\n",
      "[Skaffold] #5 sha256:b32cc97043126eb1aaa0ca0b39f1713e76a0c3977054a2a4211788f27d0b2707 340.92MB / 519.69MB 17.6s\n",
      "[Skaffold] #5 sha256:80dc388c898ccf048dd63c09c4e66748f8a7eeafebb8fa1e3e1e0c8007c0c4da 373.36MB / 739.98MB 17.7s\n",
      "[Skaffold] #5 sha256:afebcf787e04cc5eac5c15ece7fa3cd6665d1256b37ebadd947d93793e1a748a 246.48MB / 246.48MB 17.9s done\n",
      "[Skaffold] #5 sha256:b32cc97043126eb1aaa0ca0b39f1713e76a0c3977054a2a4211788f27d0b2707 385.93MB / 519.69MB 18.3s\n",
      "[Skaffold] #5 sha256:a0336ba74309c55f765d1646412fb242fd31141c990741fcb6eec643c731607e 23.27kB / 23.27kB 18.3s\n",
      "[Skaffold] #5 sha256:80dc388c898ccf048dd63c09c4e66748f8a7eeafebb8fa1e3e1e0c8007c0c4da 411.66MB / 739.98MB 18.4s\n",
      "[Skaffold] #5 sha256:a0336ba74309c55f765d1646412fb242fd31141c990741fcb6eec643c731607e 23.27kB / 23.27kB 18.5s done\n",
      "[Skaffold] #5 sha256:b32cc97043126eb1aaa0ca0b39f1713e76a0c3977054a2a4211788f27d0b2707 423.67MB / 519.69MB 18.9s\n",
      "[Skaffold] #5 sha256:80dc388c898ccf048dd63c09c4e66748f8a7eeafebb8fa1e3e1e0c8007c0c4da 459.05MB / 739.98MB 19.1s\n",
      "[Skaffold] #5 sha256:b32cc97043126eb1aaa0ca0b39f1713e76a0c3977054a2a4211788f27d0b2707 451.42MB / 519.69MB 19.3s\n",
      "[Skaffold] #5 sha256:80dc388c898ccf048dd63c09c4e66748f8a7eeafebb8fa1e3e1e0c8007c0c4da 496.53MB / 739.98MB 19.6s\n",
      "[Skaffold] #5 sha256:b32cc97043126eb1aaa0ca0b39f1713e76a0c3977054a2a4211788f27d0b2707 480.95MB / 519.69MB 19.8s\n",
      "[Skaffold] #5 sha256:80dc388c898ccf048dd63c09c4e66748f8a7eeafebb8fa1e3e1e0c8007c0c4da 534.67MB / 739.98MB 20.2s\n",
      "[Skaffold] #5 sha256:b32cc97043126eb1aaa0ca0b39f1713e76a0c3977054a2a4211788f27d0b2707 511.76MB / 519.69MB 20.6s\n",
      "[Skaffold] #5 extracting sha256:bd47987755ba5e5a41a43bb514db39abded9ea182367ea095d27bb248e3fbf7d 19.0s done\n",
      "[Skaffold] #5 sha256:80dc388c898ccf048dd63c09c4e66748f8a7eeafebb8fa1e3e1e0c8007c0c4da 584.61MB / 739.98MB 21.1s\n",
      "[Skaffold] #5 sha256:80dc388c898ccf048dd63c09c4e66748f8a7eeafebb8fa1e3e1e0c8007c0c4da 622.82MB / 739.98MB 21.5s\n",
      "[Skaffold] #5 sha256:80dc388c898ccf048dd63c09c4e66748f8a7eeafebb8fa1e3e1e0c8007c0c4da 660.70MB / 739.98MB 22.0s\n",
      "[Skaffold] #5 sha256:80dc388c898ccf048dd63c09c4e66748f8a7eeafebb8fa1e3e1e0c8007c0c4da 704.80MB / 739.98MB 22.4s\n",
      "[Skaffold] #5 sha256:b32cc97043126eb1aaa0ca0b39f1713e76a0c3977054a2a4211788f27d0b2707 519.69MB / 519.69MB 22.3s done\n",
      "[Skaffold] #5 extracting sha256:831c222b21d8d78fd475c38622ca0d892d0899fdda283251f5b02bcb0b945d84\n",
      "[Skaffold] #5 sha256:80dc388c898ccf048dd63c09c4e66748f8a7eeafebb8fa1e3e1e0c8007c0c4da 739.98MB / 739.98MB 24.5s done\n",
      "[Skaffold] #5 extracting sha256:831c222b21d8d78fd475c38622ca0d892d0899fdda283251f5b02bcb0b945d84 3.1s done\n",
      "[Skaffold] #5 extracting sha256:3c2cba919283a210665e480bcbf943eaaf4ed87a83f02e81bb286b8bdead0e75\n",
      "[Skaffold] #5 extracting sha256:3c2cba919283a210665e480bcbf943eaaf4ed87a83f02e81bb286b8bdead0e75 done\n",
      "[Skaffold] #5 extracting sha256:e378d88a5f590a1106078d781af78bddc23e6a26bb5e65e94511ec2d65f5536a 0.1s\n",
      "[Skaffold] #5 extracting sha256:e378d88a5f590a1106078d781af78bddc23e6a26bb5e65e94511ec2d65f5536a 5.3s\n",
      "[Skaffold] #5 extracting sha256:e378d88a5f590a1106078d781af78bddc23e6a26bb5e65e94511ec2d65f5536a 10.5s\n",
      "[Skaffold] #5 extracting sha256:e378d88a5f590a1106078d781af78bddc23e6a26bb5e65e94511ec2d65f5536a 15.7s\n",
      "[Skaffold] #5 extracting sha256:e378d88a5f590a1106078d781af78bddc23e6a26bb5e65e94511ec2d65f5536a 17.3s done\n",
      "[Skaffold] #5 extracting sha256:df37508d2f5c9a1e8883b204d04d37b1cbd7754a1bc765b8d72c36f7b90d37df\n",
      "[Skaffold] #5 extracting sha256:df37508d2f5c9a1e8883b204d04d37b1cbd7754a1bc765b8d72c36f7b90d37df 5.1s\n",
      "[Skaffold] #5 extracting sha256:df37508d2f5c9a1e8883b204d04d37b1cbd7754a1bc765b8d72c36f7b90d37df 10.2s\n",
      "[Skaffold] #5 extracting sha256:df37508d2f5c9a1e8883b204d04d37b1cbd7754a1bc765b8d72c36f7b90d37df 11.5s done\n",
      "[Skaffold] #5 extracting sha256:c28e7cc900d1694e0e795239419bc679665e8abc02ba40c30d7794836d1d7640\n",
      "[Skaffold] #5 extracting sha256:c28e7cc900d1694e0e795239419bc679665e8abc02ba40c30d7794836d1d7640 5.0s\n",
      "[Skaffold] #5 extracting sha256:c28e7cc900d1694e0e795239419bc679665e8abc02ba40c30d7794836d1d7640 8.8s done\n",
      "[Skaffold] #5 extracting sha256:9019978541a7e6c7d3721643cd10251c5394315944e76929056f46cbd6f2e8d6\n",
      "[Skaffold] #5 extracting sha256:9019978541a7e6c7d3721643cd10251c5394315944e76929056f46cbd6f2e8d6 0.8s done\n",
      "[Skaffold] #5 extracting sha256:80dc388c898ccf048dd63c09c4e66748f8a7eeafebb8fa1e3e1e0c8007c0c4da\n",
      "[Skaffold] #5 extracting sha256:80dc388c898ccf048dd63c09c4e66748f8a7eeafebb8fa1e3e1e0c8007c0c4da 5.1s\n",
      "[Skaffold] #5 extracting sha256:80dc388c898ccf048dd63c09c4e66748f8a7eeafebb8fa1e3e1e0c8007c0c4da 10.1s\n",
      "[Skaffold] #5 extracting sha256:80dc388c898ccf048dd63c09c4e66748f8a7eeafebb8fa1e3e1e0c8007c0c4da 15.2s\n",
      "[Skaffold] #5 extracting sha256:80dc388c898ccf048dd63c09c4e66748f8a7eeafebb8fa1e3e1e0c8007c0c4da 20.2s\n",
      "[Skaffold] #5 extracting sha256:80dc388c898ccf048dd63c09c4e66748f8a7eeafebb8fa1e3e1e0c8007c0c4da 25.3s\n",
      "[Skaffold] #5 extracting sha256:80dc388c898ccf048dd63c09c4e66748f8a7eeafebb8fa1e3e1e0c8007c0c4da 28.5s done\n",
      "[Skaffold] #5 extracting sha256:afebcf787e04cc5eac5c15ece7fa3cd6665d1256b37ebadd947d93793e1a748a 0.1s\n",
      "[Skaffold] #5 extracting sha256:afebcf787e04cc5eac5c15ece7fa3cd6665d1256b37ebadd947d93793e1a748a 5.2s\n",
      "[Skaffold] #5 extracting sha256:afebcf787e04cc5eac5c15ece7fa3cd6665d1256b37ebadd947d93793e1a748a 7.2s done\n",
      "[Skaffold] #5 extracting sha256:b32cc97043126eb1aaa0ca0b39f1713e76a0c3977054a2a4211788f27d0b2707\n",
      "[Skaffold] #5 extracting sha256:b32cc97043126eb1aaa0ca0b39f1713e76a0c3977054a2a4211788f27d0b2707 5.2s\n",
      "[Skaffold] #5 extracting sha256:b32cc97043126eb1aaa0ca0b39f1713e76a0c3977054a2a4211788f27d0b2707 10.3s\n",
      "[Skaffold] #5 extracting sha256:b32cc97043126eb1aaa0ca0b39f1713e76a0c3977054a2a4211788f27d0b2707 15.4s\n",
      "[Skaffold] #5 extracting sha256:b32cc97043126eb1aaa0ca0b39f1713e76a0c3977054a2a4211788f27d0b2707 20.4s\n",
      "[Skaffold] #5 extracting sha256:b32cc97043126eb1aaa0ca0b39f1713e76a0c3977054a2a4211788f27d0b2707 25.5s\n",
      "[Skaffold] #5 extracting sha256:b32cc97043126eb1aaa0ca0b39f1713e76a0c3977054a2a4211788f27d0b2707 30.5s\n",
      "[Skaffold] #5 extracting sha256:b32cc97043126eb1aaa0ca0b39f1713e76a0c3977054a2a4211788f27d0b2707 35.6s\n",
      "[Skaffold] #5 extracting sha256:b32cc97043126eb1aaa0ca0b39f1713e76a0c3977054a2a4211788f27d0b2707 38.5s done\n",
      "[Skaffold] #5 extracting sha256:a0336ba74309c55f765d1646412fb242fd31141c990741fcb6eec643c731607e done\n",
      "[Skaffold] #5 DONE 143.1s\n",
      "[Skaffold] \n",
      "[Skaffold] #6 [2/3] WORKDIR ./pipeline\n",
      "[Skaffold] #6 DONE 1.9s\n",
      "[Skaffold] \n",
      "[Skaffold] #7 [3/3] COPY ./ ./\n",
      "[Skaffold] #7 DONE 0.1s\n",
      "[Skaffold] \n",
      "[Skaffold] #8 exporting to image\n",
      "[Skaffold] #8 exporting layers\n",
      "[Skaffold] #8 exporting layers 0.0s done\n",
      "[Skaffold] #8 writing image sha256:801424d71f9269146517805585607f6df82c0bbe4e7578c979c3ccc69bd3e53a 0.0s done\n",
      "[Skaffold] #8 naming to gcr.io/qwiklabs-gcp-00-0e8fe5b33e70/tfx_covertype_lab_04_test_1111xx:latest 0.0s done\n",
      "[Skaffold] #8 DONE 0.1s\n",
      "[Skaffold] The push refers to repository [gcr.io/qwiklabs-gcp-00-0e8fe5b33e70/tfx_covertype_lab_04_test_1111xx]\n",
      "[Skaffold] b7a8f23f5260: Preparing\n",
      "[Skaffold] 7a010ef9514c: Preparing\n",
      "[Skaffold] 5dadc0a09248: Preparing\n",
      "[Skaffold] 8fb12d3bda49: Preparing\n",
      "[Skaffold] 2471eac28ba8: Preparing\n",
      "[Skaffold] 674ba689ae71: Preparing\n",
      "[Skaffold] 4058ae03fa32: Preparing\n",
      "[Skaffold] e3437c61d457: Preparing\n",
      "[Skaffold] 84ff92691f90: Preparing\n",
      "[Skaffold] 54b00d861a7a: Preparing\n",
      "[Skaffold] c547358928ab: Preparing\n",
      "[Skaffold] 84ff92691f90: Preparing\n",
      "[Skaffold] c4e66be694ce: Preparing\n",
      "[Skaffold] 47cc65c6dd57: Preparing\n",
      "[Skaffold] 674ba689ae71: Waiting\n",
      "[Skaffold] 4058ae03fa32: Waiting\n",
      "[Skaffold] e3437c61d457: Waiting\n",
      "[Skaffold] 84ff92691f90: Waiting\n",
      "[Skaffold] 54b00d861a7a: Waiting\n",
      "[Skaffold] c547358928ab: Waiting\n",
      "[Skaffold] c4e66be694ce: Waiting\n",
      "[Skaffold] 47cc65c6dd57: Waiting\n",
      "[Skaffold] 2471eac28ba8: Layer already exists\n",
      "[Skaffold] 8fb12d3bda49: Layer already exists\n",
      "[Skaffold] 5dadc0a09248: Layer already exists\n",
      "[Skaffold] 674ba689ae71: Layer already exists\n",
      "[Skaffold] e3437c61d457: Layer already exists\n",
      "[Skaffold] 4058ae03fa32: Layer already exists\n",
      "[Skaffold] 84ff92691f90: Layer already exists\n",
      "[Skaffold] 54b00d861a7a: Layer already exists\n",
      "[Skaffold] c547358928ab: Layer already exists\n",
      "[Skaffold] 47cc65c6dd57: Layer already exists\n",
      "[Skaffold] c4e66be694ce: Layer already exists\n",
      "[Skaffold] b7a8f23f5260: Pushed\n",
      "[Skaffold] 7a010ef9514c: Pushed\n",
      "[Skaffold] latest: digest: sha256:d6e3d9cf62ea77fc8125cd5481e599fac58128b81999b315bf7935f1d38845f6 size: 3267\n",
      "[Skaffold] Build [gcr.io/qwiklabs-gcp-00-0e8fe5b33e70/tfx_covertype_lab_04_test_1111xx] succeeded\n",
      "[Skaffold] \n",
      "[Skaffold] Help improve Skaffold with our 2-minute anonymous survey: run 'skaffold survey'\n",
      "[Skaffold] To help improve the quality of this product, we collect anonymized usage data for details on what is tracked and how we use this data visit <https://skaffold.dev/docs/resources/telemetry/>. This data is handled in accordance with our privacy policy <https://policies.google.com/privacy>\n",
      "[Skaffold] \n",
      "[Skaffold] You may choose to opt out of this collection by running the following command:\n",
      "[Skaffold] \tskaffold config set --global collect-metrics false\n",
      "New container image is built. Target image is available in the build spec file.\n",
      "WARNING:absl:RuntimeParameter is only supported on Cloud-based DAG runner currently.\n",
      "WARNING:absl:RuntimeParameter is only supported on Cloud-based DAG runner currently.\n",
      "WARNING:absl:RuntimeParameter is only supported on Cloud-based DAG runner currently.\n",
      "WARNING:absl:RuntimeParameter is only supported on Cloud-based DAG runner currently.\n",
      "WARNING:absl:`instance_name` is deprecated, please set node id directly using`with_id()` or `.id` setter.\n",
      "WARNING:absl:`instance_name` is deprecated, please set node id directly using`with_id()` or `.id` setter.\n",
      "\u001b[0mPipeline compiled successfully.\n",
      "Pipeline package path: /home/jupyter/mlops-on-gcp/workshops/tfx-caip-tf23/lab-04-tfx-metadata/labs/pipeline/tfx_covertype_lab_04_test_1111xx.tar.gz\n",
      "{'created_at': datetime.datetime(2023, 6, 16, 14, 44, 56, tzinfo=tzlocal()),\n",
      " 'default_version': {'code_source_url': None,\n",
      "                     'created_at': datetime.datetime(2023, 6, 16, 14, 44, 56, tzinfo=tzlocal()),\n",
      "                     'description': None,\n",
      "                     'id': 'e31e2268-b82d-490b-8ddb-2fac458930a8',\n",
      "                     'name': 'tfx_covertype_lab_04_test_1111xx',\n",
      "                     'package_url': None,\n",
      "                     'parameters': [{'name': 'pipeline-root',\n",
      "                                     'value': 'gs://qwiklabs-gcp-00-0e8fe5b33e70-kubeflowpipelines-default//tfx_covertype_lab_04_test_1111xx/{{workflow.uid}}'},\n",
      "                                    {'name': 'data-root-uri',\n",
      "                                     'value': 'gs://cloud-training/OCBL203/workshop-datasets'},\n",
      "                                    {'name': 'eval-steps', 'value': '500'},\n",
      "                                    {'name': 'train-steps', 'value': '5000'}],\n",
      "                     'resource_references': [{'key': {'id': 'e31e2268-b82d-490b-8ddb-2fac458930a8',\n",
      "                                                      'type': 'PIPELINE'},\n",
      "                                              'name': None,\n",
      "                                              'relationship': 'OWNER'}]},\n",
      " 'description': None,\n",
      " 'error': None,\n",
      " 'id': 'e31e2268-b82d-490b-8ddb-2fac458930a8',\n",
      " 'name': 'tfx_covertype_lab_04_test_1111xx',\n",
      " 'parameters': [{'name': 'pipeline-root',\n",
      "                 'value': 'gs://qwiklabs-gcp-00-0e8fe5b33e70-kubeflowpipelines-default//tfx_covertype_lab_04_test_1111xx/{{workflow.uid}}'},\n",
      "                {'name': 'data-root-uri',\n",
      "                 'value': 'gs://cloud-training/OCBL203/workshop-datasets'},\n",
      "                {'name': 'eval-steps', 'value': '500'},\n",
      "                {'name': 'train-steps', 'value': '5000'}],\n",
      " 'resource_references': None,\n",
      " 'url': None}\n",
      "Please access the pipeline detail page at http://63cda99a077e27dc-dot-us-central1.pipelines.googleusercontent.com/#/pipelines/details/e31e2268-b82d-490b-8ddb-2fac458930a8\n",
      "Pipeline \"tfx_covertype_lab_04_test_1111xx\" created successfully.\n"
     ]
    }
   ],
   "source": [
    "!tfx pipeline create  \\\n",
    "--pipeline_path=runner.py \\\n",
    "--endpoint={ENDPOINT} \\\n",
    "--build_target_image={CUSTOM_TFX_IMAGE}"
   ]
  },
  {
   "cell_type": "markdown",
   "metadata": {},
   "source": [
    "(optional) If you make local changes to the pipeline, you can update the deployed package on AI Platform with the following command:"
   ]
  },
  {
   "cell_type": "code",
   "execution_count": null,
   "metadata": {},
   "outputs": [],
   "source": [
    "!tfx pipeline update --pipeline_path runner.py --endpoint {ENDPOINT}"
   ]
  },
  {
   "cell_type": "markdown",
   "metadata": {},
   "source": [
    "#### 2.5 Create and monitor pipeline run"
   ]
  },
  {
   "cell_type": "code",
   "execution_count": 20,
   "metadata": {},
   "outputs": [
    {
     "name": "stdout",
     "output_type": "stream",
     "text": [
      "CLI\n",
      "Creating a run for pipeline: tfx_covertype_lab_04_test_1111xx\n",
      "Detected Kubeflow.\n",
      "Use --engine flag if you intend to use a different orchestrator.\n",
      "Run created for pipeline: tfx_covertype_lab_04_test_1111xx\n",
      "+----------------------------------+--------------------------------------+----------+---------------------------+-----------------------------------------------------------------------------------------------------------------------------+\n",
      "| pipeline_name                    | run_id                               | status   | created_at                | link                                                                                                                        |\n",
      "+==================================+======================================+==========+===========================+=============================================================================================================================+\n",
      "| tfx_covertype_lab_04_test_1111xx | 6fe21c90-d49a-4f8d-b167-2c8310efde32 |          | 2023-06-16T14:45:07+00:00 | http://63cda99a077e27dc-dot-us-central1.pipelines.googleusercontent.com/#/runs/details/6fe21c90-d49a-4f8d-b167-2c8310efde32 |\n",
      "+----------------------------------+--------------------------------------+----------+---------------------------+-----------------------------------------------------------------------------------------------------------------------------+\n"
     ]
    }
   ],
   "source": [
    "!tfx run create --pipeline_name={PIPELINE_NAME} --endpoint={ENDPOINT}"
   ]
  },
  {
   "cell_type": "markdown",
   "metadata": {},
   "source": [
    "#### 2.6 Configure Kubernetes port forwarding"
   ]
  },
  {
   "cell_type": "markdown",
   "metadata": {},
   "source": [
    "To enable access to the ML Metadata GRPC server, configure Kubernetes port forwarding.\n",
    "\n",
    "From a JupyterLab terminal, execute the following commands:\n",
    "\n",
    "```\n",
    "gcloud container clusters get-credentials [YOUR CLUSTER] --zone [YOURE CLUSTER ZONE]  \n",
    "kubectl port-forward  service/metadata-grpc-service --namespace [YOUR NAMESPACE] 7000:8080\n",
    "```"
   ]
  },
  {
   "cell_type": "markdown",
   "metadata": {},
   "source": [
    "## Connecting to ML Metadata "
   ]
  },
  {
   "cell_type": "markdown",
   "metadata": {},
   "source": [
    "### Configure ML Metadata GRPC client"
   ]
  },
  {
   "cell_type": "code",
   "execution_count": 21,
   "metadata": {},
   "outputs": [],
   "source": [
    "grpc_host = 'localhost'\n",
    "grpc_port = 7000\n",
    "connection_config = metadata_store_pb2.MetadataStoreClientConfig()\n",
    "connection_config.host = grpc_host\n",
    "connection_config.port = grpc_port"
   ]
  },
  {
   "cell_type": "markdown",
   "metadata": {},
   "source": [
    "### Connect to ML Metadata service"
   ]
  },
  {
   "cell_type": "code",
   "execution_count": 22,
   "metadata": {},
   "outputs": [],
   "source": [
    "store = metadata_store.MetadataStore(connection_config)"
   ]
  },
  {
   "cell_type": "markdown",
   "metadata": {},
   "source": [
    "### Important\n",
    "\n",
    "A full pipeline run without tuning takes about 40-45 minutes to complete. You need to wait until a pipeline run is complete before proceeding with the steps below."
   ]
  },
  {
   "cell_type": "markdown",
   "metadata": {},
   "source": [
    "## Exploring ML Metadata \n",
    "\n",
    "The Metadata Store uses the following data model:\n",
    "\n",
    "- `ArtifactType` describes an artifact's type and its properties that are stored in the Metadata Store. These types can be registered on-the-fly with the Metadata Store in code, or they can be loaded in the store from a serialized format. Once a type is registered, its definition is available throughout the lifetime of the store.\n",
    "- `Artifact` describes a specific instances of an ArtifactType, and its properties that are written to the Metadata Store.\n",
    "- `ExecutionType` describes a type of component or step in a workflow, and its runtime parameters.\n",
    "- `Execution` is a record of a component run or a step in an ML workflow and the runtime parameters. An Execution can be thought of as an instance of an ExecutionType. Every time a developer runs an ML pipeline or step, executions are recorded for each step.\n",
    "- `Event` is a record of the relationship between an Artifact and Executions. When an Execution happens, Events record every Artifact that was used by the Execution, and every Artifact that was produced. These records allow for provenance tracking throughout a workflow. By looking at all Events MLMD knows what Executions happened, what Artifacts were created as a result, and can recurse back from any Artifact to all of its upstream inputs.\n",
    "- `ContextType` describes a type of conceptual group of Artifacts and Executions in a workflow, and its structural properties. For example: projects, pipeline runs, experiments, owners.\n",
    "- `Context` is an instances of a ContextType. It captures the shared information within the group. For example: project name, changelist commit id, experiment annotations. It has a user-defined unique name within its ContextType.\n",
    "- `Attribution` is a record of the relationship between Artifacts and Contexts.\n",
    "- `Association` is a record of the relationship between Executions and Contexts."
   ]
  },
  {
   "cell_type": "markdown",
   "metadata": {},
   "source": [
    "List the registered artifact types."
   ]
  },
  {
   "cell_type": "code",
   "execution_count": 23,
   "metadata": {},
   "outputs": [
    {
     "name": "stdout",
     "output_type": "stream",
     "text": [
      "Examples\n",
      "Schema\n",
      "ExampleStatistics\n",
      "TransformGraph\n",
      "TransformCache\n",
      "ExampleAnomalies\n",
      "HyperParameters\n"
     ]
    }
   ],
   "source": [
    "for artifact_type in store.get_artifact_types():\n",
    "    print(artifact_type.name)"
   ]
  },
  {
   "cell_type": "markdown",
   "metadata": {},
   "source": [
    "Display the registered execution types."
   ]
  },
  {
   "cell_type": "code",
   "execution_count": 24,
   "metadata": {},
   "outputs": [
    {
     "name": "stdout",
     "output_type": "stream",
     "text": [
      "DummyExecutionType\n",
      "tfx.components.example_gen.csv_example_gen.component.CsvExampleGen\n",
      "tfx.components.common_nodes.importer_node.ImporterNode\n",
      "tfx.components.common_nodes.resolver_node.ResolverNode\n",
      "tfx.components.statistics_gen.component.StatisticsGen\n",
      "tfx.components.transform.component.Transform\n",
      "tfx.components.example_validator.component.ExampleValidator\n",
      "tfx.components.schema_gen.component.SchemaGen\n",
      "tfx.extensions.google_cloud_ai_platform.tuner.component.Tuner\n"
     ]
    }
   ],
   "source": [
    "for execution_type in store.get_execution_types():\n",
    "    print(execution_type.name)"
   ]
  },
  {
   "cell_type": "markdown",
   "metadata": {},
   "source": [
    "List the registered context types."
   ]
  },
  {
   "cell_type": "code",
   "execution_count": 25,
   "metadata": {},
   "outputs": [
    {
     "name": "stdout",
     "output_type": "stream",
     "text": [
      "pipeline\n",
      "run\n",
      "component_run\n"
     ]
    }
   ],
   "source": [
    "for context_type in store.get_context_types():\n",
    "    print(context_type.name)"
   ]
  },
  {
   "cell_type": "markdown",
   "metadata": {},
   "source": [
    "## Visualizing TFX artifacts"
   ]
  },
  {
   "cell_type": "markdown",
   "metadata": {},
   "source": [
    "### Retrieve data analysis and validation artifacts"
   ]
  },
  {
   "cell_type": "code",
   "execution_count": 26,
   "metadata": {},
   "outputs": [],
   "source": [
    "with metadata.Metadata(connection_config) as store:\n",
    "    schema_artifacts = store.get_artifacts_by_type(standard_artifacts.Schema.TYPE_NAME)    \n",
    "    stats_artifacts = store.get_artifacts_by_type(standard_artifacts.ExampleStatistics.TYPE_NAME)\n",
    "    anomalies_artifacts = store.get_artifacts_by_type(standard_artifacts.ExampleAnomalies.TYPE_NAME)"
   ]
  },
  {
   "cell_type": "code",
   "execution_count": null,
   "metadata": {},
   "outputs": [],
   "source": [
    "schema_file = os.path.join(schema_artifacts[-1].uri, 'schema.pbtxt')\n",
    "print(\"Generated schame file:{}\".format(schema_file))\n",
    "\n",
    "stats_path = stats_artifacts[-1].uri\n",
    "train_stats_file = os.path.join(stats_path, 'train', 'stats_tfrecord')\n",
    "eval_stats_file = os.path.join(stats_path, 'eval', 'stats_tfrecord')\n",
    "print(\"Train stats file:{}, Eval stats file:{}\".format(\n",
    "    train_stats_file, eval_stats_file))\n",
    "\n",
    "anomalies_path = anomalies_artifacts[-1].uri\n",
    "train_anomalies_file = os.path.join(anomalies_path, 'train', 'anomalies.pbtxt')\n",
    "eval_anomalies_file = os.path.join(anomalies_path, 'eval', 'anomalies.pbtxt')\n",
    "\n",
    "print(\"Train anomalies file:{}, Eval anomalies file:{}\".format(\n",
    "    train_anomalies_file, eval_anomalies_file))"
   ]
  },
  {
   "cell_type": "markdown",
   "metadata": {},
   "source": [
    "### Visualize schema"
   ]
  },
  {
   "cell_type": "code",
   "execution_count": null,
   "metadata": {},
   "outputs": [],
   "source": [
    "schema = tfdv.load_schema_text(schema_file)\n",
    "tfdv.display_schema(schema=schema)"
   ]
  },
  {
   "cell_type": "markdown",
   "metadata": {},
   "source": [
    "### Visualize statistics"
   ]
  },
  {
   "cell_type": "markdown",
   "metadata": {},
   "source": [
    "#### Exercise: looking at the features visualized below, answer the following questions:\n",
    "\n",
    "- Which feature transformations would you apply to each feature with TF Transform?\n",
    "- Are there data quality issues with certain features that may impact your model performance? How might you deal with it?"
   ]
  },
  {
   "cell_type": "code",
   "execution_count": null,
   "metadata": {},
   "outputs": [],
   "source": [
    "train_stats = tfdv.load_statistics(train_stats_file)\n",
    "eval_stats = tfdv.load_statistics(eval_stats_file)\n",
    "tfdv.visualize_statistics(lhs_statistics=eval_stats, rhs_statistics=train_stats,\n",
    "                          lhs_name='EVAL_DATASET', rhs_name='TRAIN_DATASET')"
   ]
  },
  {
   "cell_type": "markdown",
   "metadata": {},
   "source": [
    "### Visualize anomalies"
   ]
  },
  {
   "cell_type": "code",
   "execution_count": null,
   "metadata": {},
   "outputs": [],
   "source": [
    "train_anomalies = tfdv.load_anomalies_text(train_anomalies_file)\n",
    "tfdv.display_anomalies(train_anomalies)"
   ]
  },
  {
   "cell_type": "code",
   "execution_count": null,
   "metadata": {},
   "outputs": [],
   "source": [
    "eval_anomalies = tfdv.load_anomalies_text(eval_anomalies_file)\n",
    "tfdv.display_anomalies(eval_anomalies)"
   ]
  },
  {
   "cell_type": "markdown",
   "metadata": {},
   "source": [
    "### Retrieve model artifacts"
   ]
  },
  {
   "cell_type": "code",
   "execution_count": null,
   "metadata": {},
   "outputs": [],
   "source": [
    "with metadata.Metadata(connection_config) as store:\n",
    "    model_eval_artifacts = store.get_artifacts_by_type(standard_artifacts.ModelEvaluation.TYPE_NAME)\n",
    "    hyperparam_artifacts = store.get_artifacts_by_type(standard_artifacts.HyperParameters.TYPE_NAME)\n",
    "    \n",
    "model_eval_path = model_eval_artifacts[-1].uri\n",
    "print(\"Generated model evaluation result:{}\".format(model_eval_path))\n",
    "best_hparams_path = os.path.join(hyperparam_artifacts[-1].uri, 'best_hyperparameters.txt')\n",
    "print(\"Generated model best hyperparameters result:{}\".format(best_hparams_path))"
   ]
  },
  {
   "cell_type": "markdown",
   "metadata": {},
   "source": [
    "### Return best hyperparameters"
   ]
  },
  {
   "cell_type": "code",
   "execution_count": null,
   "metadata": {},
   "outputs": [],
   "source": [
    "# Latest pipeline run Tuner search space.\n",
    "json.loads(file_io.read_file_to_string(best_hparams_path))['space']"
   ]
  },
  {
   "cell_type": "code",
   "execution_count": null,
   "metadata": {},
   "outputs": [],
   "source": [
    "# Latest pipeline run Tuner searched best_hyperparameters artifacts.\n",
    "json.loads(file_io.read_file_to_string(best_hparams_path))['values']"
   ]
  },
  {
   "cell_type": "markdown",
   "metadata": {},
   "source": [
    "### Visualize model evaluations"
   ]
  },
  {
   "cell_type": "markdown",
   "metadata": {},
   "source": [
    "#### Exercise: review the model evaluation results below and answer the following questions:\n",
    "\n",
    "- Which Wilderness Area had the highest accuracy?\n",
    "- Which Wilderness Area had the lowest performance? Why do you think that is? What are some steps you could take to improve your next model runs?"
   ]
  },
  {
   "cell_type": "code",
   "execution_count": null,
   "metadata": {},
   "outputs": [],
   "source": [
    "eval_result = tfma.load_eval_result(model_eval_path)\n",
    "tfma.view.render_slicing_metrics(\n",
    "    eval_result, slicing_column='Wilderness_Area')"
   ]
  },
  {
   "cell_type": "markdown",
   "metadata": {},
   "source": [
    "**Debugging tip**: If the TFMA visualization of the Evaluator results do not render, try switching to view in a Classic Jupyter Notebook. You do so by clicking `Help > Launch Classic Notebook` and re-opening the notebook and running the above cell to see the interactive TFMA results."
   ]
  },
  {
   "cell_type": "markdown",
   "metadata": {},
   "source": [
    "## License"
   ]
  },
  {
   "cell_type": "markdown",
   "metadata": {},
   "source": [
    "<font size=-1>Licensed under the Apache License, Version 2.0 (the \\\"License\\\");\n",
    "you may not use this file except in compliance with the License.\n",
    "You may obtain a copy of the License at [https://www.apache.org/licenses/LICENSE-2.0](https://www.apache.org/licenses/LICENSE-2.0)\n",
    "\n",
    "Unless required by applicable law or agreed to in writing, software distributed under the License is distributed on an \\\"AS IS\\\" BASIS, WITHOUT WARRANTIES OR CONDITIONS OF ANY KIND, either express or implied.  See the License for the specific language governing permissions and limitations under the License.</font>\n"
   ]
  }
 ],
 "metadata": {
  "environment": {
   "kernel": "conda-root-py",
   "name": "tf2-cpu.2-3.m87",
   "type": "gcloud",
   "uri": "gcr.io/deeplearning-platform-release/tf2-cpu.2-3:m87"
  },
  "kernelspec": {
   "display_name": "Python [conda env:root] *",
   "language": "python",
   "name": "conda-root-py"
  },
  "language_info": {
   "codemirror_mode": {
    "name": "ipython",
    "version": 3
   },
   "file_extension": ".py",
   "mimetype": "text/x-python",
   "name": "python",
   "nbconvert_exporter": "python",
   "pygments_lexer": "ipython3",
   "version": "3.7.12"
  }
 },
 "nbformat": 4,
 "nbformat_minor": 4
}
