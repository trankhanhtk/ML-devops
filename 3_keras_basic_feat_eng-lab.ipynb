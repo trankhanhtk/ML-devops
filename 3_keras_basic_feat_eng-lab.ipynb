{
 "cells": [
  {
   "cell_type": "markdown",
   "metadata": {
    "colab_type": "text",
    "id": "rNdWfPXCjTjY"
   },
   "source": [
    "# Performing Basic Feature Engineering in Keras \n",
    "\n",
    "## Learning objectives\n",
    "\n",
    "\n",
    "1. Create an input pipeline using tf.data.\n",
    "2. Engineer features to create categorical, crossed, and numerical feature columns.\n",
    "\n",
    "\n",
    "## Introduction \n",
    "In this lab, we utilize feature engineering to improve the prediction of housing prices using a Keras Sequential Model.\n",
    "\n",
    "Each learning objective will correspond to a __#TODO__ in the notebook where you will complete the notebook cell's code before running. Refer to the [solution](../solutions/3_keras_basic_feat_eng.ipynb) for reference. \n"
   ]
  },
  {
   "cell_type": "markdown",
   "metadata": {
    "colab_type": "text",
    "id": "VxyBFc_kKazA"
   },
   "source": [
    "Start by importing the necessary libraries for this lab."
   ]
  },
  {
   "cell_type": "code",
   "execution_count": null,
   "metadata": {},
   "outputs": [],
   "source": [
    "!sudo chown -R jupyter:jupyter /home/jupyter/training-data-analyst"
   ]
  },
  {
   "cell_type": "code",
   "execution_count": null,
   "metadata": {},
   "outputs": [],
   "source": [
    "# Install Sklearn\n",
    "!python3 -m pip install --user sklearn"
   ]
  },
  {
   "cell_type": "markdown",
   "metadata": {
    "id": "hhq5zEbGg0XX"
   },
   "source": [
    "### Restart the kernel\n",
    "\n",
    "After you install the packages, you need to restart the notebook kernel so that it can find the packages. (Click **Kernel > Restart Kernel > Restart**)."
   ]
  },
  {
   "cell_type": "code",
   "execution_count": 1,
   "metadata": {
    "colab": {},
    "colab_type": "code",
    "id": "9dEreb4QKizj"
   },
   "outputs": [
    {
     "name": "stdout",
     "output_type": "stream",
     "text": [
      "TensorFlow version:  2.6.5\n"
     ]
    }
   ],
   "source": [
    "import os\n",
    "import tensorflow.keras\n",
    "\n",
    "import matplotlib.pyplot as plt\n",
    "import pandas as pd\n",
    "import tensorflow as tf\n",
    "\n",
    "from tensorflow import feature_column as fc\n",
    "from tensorflow.keras import layers\n",
    "from sklearn.model_selection import train_test_split\n",
    "#from keras.utils import plot_model\n",
    "\n",
    "print(\"TensorFlow version: \",tf.version.VERSION)"
   ]
  },
  {
   "cell_type": "markdown",
   "metadata": {},
   "source": [
    "Many of the Google Machine Learning Courses Programming Exercises use the  [California Housing Dataset](https://developers.google.com/machine-learning/crash-course/california-housing-data-description\n",
    "), which contains data drawn from the 1990 U.S. Census.  Our lab dataset has been pre-processed so that there are no missing values.\n",
    "\n",
    "First, let's download the raw .csv data by copying the data from a cloud storage bucket.\n"
   ]
  },
  {
   "cell_type": "code",
   "execution_count": 2,
   "metadata": {},
   "outputs": [],
   "source": [
    "if not os.path.isdir(\"../data\"):\n",
    "    os.makedirs(\"../data\")"
   ]
  },
  {
   "cell_type": "code",
   "execution_count": 3,
   "metadata": {},
   "outputs": [
    {
     "name": "stdout",
     "output_type": "stream",
     "text": [
      "Copying gs://cloud-training/mlongcp/v3.0_MLonGC/toy_data/housing_pre-proc_toy.csv...\n",
      "/ [1 files][138.8 KiB/138.8 KiB]                                                \n",
      "Operation completed over 1 objects/138.8 KiB.                                    \n"
     ]
    }
   ],
   "source": [
    "!gsutil cp gs://cloud-training/mlongcp/v3.0_MLonGC/toy_data/housing_pre-proc_toy.csv ../data    "
   ]
  },
  {
   "cell_type": "code",
   "execution_count": 4,
   "metadata": {},
   "outputs": [
    {
     "name": "stdout",
     "output_type": "stream",
     "text": [
      "total 140\n",
      "-rw-r--r-- 1 jupyter jupyter 142150 Jun 14 06:20 housing_pre-proc_toy.csv\n"
     ]
    }
   ],
   "source": [
    "!ls -l ../data/"
   ]
  },
  {
   "cell_type": "markdown",
   "metadata": {
    "colab_type": "text",
    "id": "lM6-n6xntv3t"
   },
   "source": [
    "Now, let's read in the dataset just copied from the cloud storage bucket and create a Pandas dataframe."
   ]
  },
  {
   "cell_type": "code",
   "execution_count": 11,
   "metadata": {
    "colab": {
     "base_uri": "https://localhost:8080/",
     "height": 222
    },
    "colab_type": "code",
    "id": "REZ57BXCLdfG",
    "outputId": "a6ef2eda-c7eb-4e2d-92e4-e7fcaa20b0af"
   },
   "outputs": [
    {
     "data": {
      "text/html": [
       "<div>\n",
       "<style scoped>\n",
       "    .dataframe tbody tr th:only-of-type {\n",
       "        vertical-align: middle;\n",
       "    }\n",
       "\n",
       "    .dataframe tbody tr th {\n",
       "        vertical-align: top;\n",
       "    }\n",
       "\n",
       "    .dataframe thead th {\n",
       "        text-align: right;\n",
       "    }\n",
       "</style>\n",
       "<table border=\"1\" class=\"dataframe\">\n",
       "  <thead>\n",
       "    <tr style=\"text-align: right;\">\n",
       "      <th></th>\n",
       "      <th>longitude</th>\n",
       "      <th>latitude</th>\n",
       "      <th>housing_median_age</th>\n",
       "      <th>total_rooms</th>\n",
       "      <th>total_bedrooms</th>\n",
       "      <th>population</th>\n",
       "      <th>households</th>\n",
       "      <th>median_income</th>\n",
       "      <th>median_house_value</th>\n",
       "      <th>ocean_proximity</th>\n",
       "    </tr>\n",
       "  </thead>\n",
       "  <tbody>\n",
       "    <tr>\n",
       "      <th>0</th>\n",
       "      <td>-122.23</td>\n",
       "      <td>37.88</td>\n",
       "      <td>41</td>\n",
       "      <td>880</td>\n",
       "      <td>129</td>\n",
       "      <td>322</td>\n",
       "      <td>126</td>\n",
       "      <td>8.3252</td>\n",
       "      <td>452600</td>\n",
       "      <td>NEAR BAY</td>\n",
       "    </tr>\n",
       "    <tr>\n",
       "      <th>1</th>\n",
       "      <td>-122.22</td>\n",
       "      <td>37.86</td>\n",
       "      <td>21</td>\n",
       "      <td>7099</td>\n",
       "      <td>1106</td>\n",
       "      <td>2401</td>\n",
       "      <td>1138</td>\n",
       "      <td>8.3014</td>\n",
       "      <td>358500</td>\n",
       "      <td>NEAR BAY</td>\n",
       "    </tr>\n",
       "    <tr>\n",
       "      <th>2</th>\n",
       "      <td>-122.24</td>\n",
       "      <td>37.85</td>\n",
       "      <td>52</td>\n",
       "      <td>1467</td>\n",
       "      <td>190</td>\n",
       "      <td>496</td>\n",
       "      <td>177</td>\n",
       "      <td>7.2574</td>\n",
       "      <td>352100</td>\n",
       "      <td>NEAR BAY</td>\n",
       "    </tr>\n",
       "    <tr>\n",
       "      <th>3</th>\n",
       "      <td>-122.25</td>\n",
       "      <td>37.85</td>\n",
       "      <td>52</td>\n",
       "      <td>1274</td>\n",
       "      <td>235</td>\n",
       "      <td>558</td>\n",
       "      <td>219</td>\n",
       "      <td>5.6431</td>\n",
       "      <td>341300</td>\n",
       "      <td>NEAR BAY</td>\n",
       "    </tr>\n",
       "    <tr>\n",
       "      <th>4</th>\n",
       "      <td>-122.25</td>\n",
       "      <td>37.85</td>\n",
       "      <td>52</td>\n",
       "      <td>1627</td>\n",
       "      <td>280</td>\n",
       "      <td>565</td>\n",
       "      <td>259</td>\n",
       "      <td>3.8462</td>\n",
       "      <td>342200</td>\n",
       "      <td>NEAR BAY</td>\n",
       "    </tr>\n",
       "  </tbody>\n",
       "</table>\n",
       "</div>"
      ],
      "text/plain": [
       "   longitude  latitude  housing_median_age  total_rooms  total_bedrooms  \\\n",
       "0    -122.23     37.88                  41          880             129   \n",
       "1    -122.22     37.86                  21         7099            1106   \n",
       "2    -122.24     37.85                  52         1467             190   \n",
       "3    -122.25     37.85                  52         1274             235   \n",
       "4    -122.25     37.85                  52         1627             280   \n",
       "\n",
       "   population  households  median_income  median_house_value ocean_proximity  \n",
       "0         322         126         8.3252              452600        NEAR BAY  \n",
       "1        2401        1138         8.3014              358500        NEAR BAY  \n",
       "2         496         177         7.2574              352100        NEAR BAY  \n",
       "3         558         219         5.6431              341300        NEAR BAY  \n",
       "4         565         259         3.8462              342200        NEAR BAY  "
      ]
     },
     "execution_count": 11,
     "metadata": {},
     "output_type": "execute_result"
    }
   ],
   "source": [
    "housing_df = pd.read_csv('../data/housing_pre-proc_toy.csv', on_bad_lines='warn')\n",
    "housing_df.head()"
   ]
  },
  {
   "cell_type": "markdown",
   "metadata": {},
   "source": [
    "We can use .describe() to see some summary statistics for the numeric fields in our dataframe. Note, for example, the count row and corresponding columns. The count shows 2500.000000 for all feature columns. Thus, there are no missing values."
   ]
  },
  {
   "cell_type": "code",
   "execution_count": 16,
   "metadata": {},
   "outputs": [
    {
     "name": "stdout",
     "output_type": "stream",
     "text": [
      "<class 'pandas.core.frame.DataFrame'>\n",
      "RangeIndex: 2500 entries, 0 to 2499\n",
      "Data columns (total 10 columns):\n",
      " #   Column              Non-Null Count  Dtype  \n",
      "---  ------              --------------  -----  \n",
      " 0   longitude           2500 non-null   float64\n",
      " 1   latitude            2500 non-null   float64\n",
      " 2   housing_median_age  2500 non-null   int64  \n",
      " 3   total_rooms         2500 non-null   int64  \n",
      " 4   total_bedrooms      2500 non-null   int64  \n",
      " 5   population          2500 non-null   int64  \n",
      " 6   households          2500 non-null   int64  \n",
      " 7   median_income       2500 non-null   float64\n",
      " 8   median_house_value  2500 non-null   int64  \n",
      " 9   ocean_proximity     2500 non-null   object \n",
      "dtypes: float64(3), int64(6), object(1)\n",
      "memory usage: 195.4+ KB\n",
      "None\n"
     ]
    },
    {
     "data": {
      "text/html": [
       "<div>\n",
       "<style scoped>\n",
       "    .dataframe tbody tr th:only-of-type {\n",
       "        vertical-align: middle;\n",
       "    }\n",
       "\n",
       "    .dataframe tbody tr th {\n",
       "        vertical-align: top;\n",
       "    }\n",
       "\n",
       "    .dataframe thead th {\n",
       "        text-align: right;\n",
       "    }\n",
       "</style>\n",
       "<table border=\"1\" class=\"dataframe\">\n",
       "  <thead>\n",
       "    <tr style=\"text-align: right;\">\n",
       "      <th></th>\n",
       "      <th>longitude</th>\n",
       "      <th>latitude</th>\n",
       "      <th>housing_median_age</th>\n",
       "      <th>total_rooms</th>\n",
       "      <th>total_bedrooms</th>\n",
       "      <th>population</th>\n",
       "      <th>households</th>\n",
       "      <th>median_income</th>\n",
       "      <th>median_house_value</th>\n",
       "    </tr>\n",
       "  </thead>\n",
       "  <tbody>\n",
       "    <tr>\n",
       "      <th>count</th>\n",
       "      <td>2500.000000</td>\n",
       "      <td>2500.000000</td>\n",
       "      <td>2500.000000</td>\n",
       "      <td>2500.000000</td>\n",
       "      <td>2500.000000</td>\n",
       "      <td>2500.000000</td>\n",
       "      <td>2500.000000</td>\n",
       "      <td>2500.000000</td>\n",
       "      <td>2500.000000</td>\n",
       "    </tr>\n",
       "    <tr>\n",
       "      <th>mean</th>\n",
       "      <td>-121.501836</td>\n",
       "      <td>37.802288</td>\n",
       "      <td>30.088400</td>\n",
       "      <td>2522.734000</td>\n",
       "      <td>491.862400</td>\n",
       "      <td>1246.225200</td>\n",
       "      <td>458.122000</td>\n",
       "      <td>3.694312</td>\n",
       "      <td>170288.731200</td>\n",
       "    </tr>\n",
       "    <tr>\n",
       "      <th>std</th>\n",
       "      <td>1.015963</td>\n",
       "      <td>0.803090</td>\n",
       "      <td>13.878416</td>\n",
       "      <td>1988.411988</td>\n",
       "      <td>362.499497</td>\n",
       "      <td>925.075463</td>\n",
       "      <td>341.744308</td>\n",
       "      <td>1.859422</td>\n",
       "      <td>97550.278529</td>\n",
       "    </tr>\n",
       "    <tr>\n",
       "      <th>min</th>\n",
       "      <td>-124.300000</td>\n",
       "      <td>36.130000</td>\n",
       "      <td>2.000000</td>\n",
       "      <td>12.000000</td>\n",
       "      <td>4.000000</td>\n",
       "      <td>18.000000</td>\n",
       "      <td>2.000000</td>\n",
       "      <td>0.499900</td>\n",
       "      <td>22500.000000</td>\n",
       "    </tr>\n",
       "    <tr>\n",
       "      <th>25%</th>\n",
       "      <td>-122.200000</td>\n",
       "      <td>37.600000</td>\n",
       "      <td>18.000000</td>\n",
       "      <td>1420.750000</td>\n",
       "      <td>282.000000</td>\n",
       "      <td>718.000000</td>\n",
       "      <td>263.000000</td>\n",
       "      <td>2.357875</td>\n",
       "      <td>92950.000000</td>\n",
       "    </tr>\n",
       "    <tr>\n",
       "      <th>50%</th>\n",
       "      <td>-122.030000</td>\n",
       "      <td>37.800000</td>\n",
       "      <td>30.000000</td>\n",
       "      <td>2052.000000</td>\n",
       "      <td>402.000000</td>\n",
       "      <td>1030.500000</td>\n",
       "      <td>374.500000</td>\n",
       "      <td>3.262200</td>\n",
       "      <td>150800.000000</td>\n",
       "    </tr>\n",
       "    <tr>\n",
       "      <th>75%</th>\n",
       "      <td>-120.697500</td>\n",
       "      <td>37.960000</td>\n",
       "      <td>41.000000</td>\n",
       "      <td>3007.250000</td>\n",
       "      <td>581.250000</td>\n",
       "      <td>1488.250000</td>\n",
       "      <td>538.000000</td>\n",
       "      <td>4.662975</td>\n",
       "      <td>219650.000000</td>\n",
       "    </tr>\n",
       "    <tr>\n",
       "      <th>max</th>\n",
       "      <td>-118.910000</td>\n",
       "      <td>41.950000</td>\n",
       "      <td>52.000000</td>\n",
       "      <td>28258.000000</td>\n",
       "      <td>3864.000000</td>\n",
       "      <td>12203.000000</td>\n",
       "      <td>3701.000000</td>\n",
       "      <td>15.000100</td>\n",
       "      <td>500001.000000</td>\n",
       "    </tr>\n",
       "  </tbody>\n",
       "</table>\n",
       "</div>"
      ],
      "text/plain": [
       "         longitude     latitude  housing_median_age   total_rooms  \\\n",
       "count  2500.000000  2500.000000         2500.000000   2500.000000   \n",
       "mean   -121.501836    37.802288           30.088400   2522.734000   \n",
       "std       1.015963     0.803090           13.878416   1988.411988   \n",
       "min    -124.300000    36.130000            2.000000     12.000000   \n",
       "25%    -122.200000    37.600000           18.000000   1420.750000   \n",
       "50%    -122.030000    37.800000           30.000000   2052.000000   \n",
       "75%    -120.697500    37.960000           41.000000   3007.250000   \n",
       "max    -118.910000    41.950000           52.000000  28258.000000   \n",
       "\n",
       "       total_bedrooms    population   households  median_income  \\\n",
       "count     2500.000000   2500.000000  2500.000000    2500.000000   \n",
       "mean       491.862400   1246.225200   458.122000       3.694312   \n",
       "std        362.499497    925.075463   341.744308       1.859422   \n",
       "min          4.000000     18.000000     2.000000       0.499900   \n",
       "25%        282.000000    718.000000   263.000000       2.357875   \n",
       "50%        402.000000   1030.500000   374.500000       3.262200   \n",
       "75%        581.250000   1488.250000   538.000000       4.662975   \n",
       "max       3864.000000  12203.000000  3701.000000      15.000100   \n",
       "\n",
       "       median_house_value  \n",
       "count         2500.000000  \n",
       "mean        170288.731200  \n",
       "std          97550.278529  \n",
       "min          22500.000000  \n",
       "25%          92950.000000  \n",
       "50%         150800.000000  \n",
       "75%         219650.000000  \n",
       "max         500001.000000  "
      ]
     },
     "execution_count": 16,
     "metadata": {},
     "output_type": "execute_result"
    }
   ],
   "source": [
    "print(housing_df.info())\n",
    "housing_df.describe()"
   ]
  },
  {
   "cell_type": "markdown",
   "metadata": {
    "colab_type": "text",
    "id": "u0zhLtQqMPem"
   },
   "source": [
    "####  Split the dataset for ML\n",
    "\n",
    "The dataset we loaded was a single CSV file. We will split this into train, validation, and test sets.\n"
   ]
  },
  {
   "cell_type": "code",
   "execution_count": 17,
   "metadata": {
    "colab": {
     "base_uri": "https://localhost:8080/",
     "height": 69
    },
    "colab_type": "code",
    "id": "YEOpw7LhMYsI",
    "outputId": "6161a660-7133-465a-d754-d7acae2b68c8"
   },
   "outputs": [
    {
     "name": "stdout",
     "output_type": "stream",
     "text": [
      "1600 train examples\n",
      "400 validation examples\n",
      "500 test examples\n"
     ]
    }
   ],
   "source": [
    "train, test = train_test_split(housing_df, test_size=0.2)\n",
    "train, val = train_test_split(train, test_size=0.2)\n",
    "\n",
    "print(len(train), 'train examples')\n",
    "print(len(val), 'validation examples')\n",
    "print(len(test), 'test examples')"
   ]
  },
  {
   "cell_type": "markdown",
   "metadata": {
    "colab_type": "text",
    "id": "dz9kfjOMBX9U"
   },
   "source": [
    "Now, we need to output the split files.  We will specifically need the test.csv later for testing.  You should see the files appear in the home directory.\n"
   ]
  },
  {
   "cell_type": "code",
   "execution_count": 18,
   "metadata": {
    "colab": {
     "base_uri": "https://localhost:8080/",
     "height": 222
    },
    "colab_type": "code",
    "id": "ADX23QUu_Wiu",
    "outputId": "e97fa59e-4ed4-48a3-8fba-c95f293944ee"
   },
   "outputs": [],
   "source": [
    "train.to_csv('../data/housing-train.csv', encoding='utf-8', index=False)"
   ]
  },
  {
   "cell_type": "code",
   "execution_count": 19,
   "metadata": {},
   "outputs": [],
   "source": [
    "val.to_csv('../data/housing-val.csv', encoding='utf-8', index=False)"
   ]
  },
  {
   "cell_type": "code",
   "execution_count": 20,
   "metadata": {
    "colab": {
     "base_uri": "https://localhost:8080/",
     "height": 222
    },
    "colab_type": "code",
    "id": "CU1FgmKEAmWh",
    "outputId": "2cce91e1-2c4a-4fe8-a6c3-3da52cb9458f"
   },
   "outputs": [],
   "source": [
    "test.to_csv('../data/housing-test.csv', encoding='utf-8', index=False)"
   ]
  },
  {
   "cell_type": "code",
   "execution_count": 21,
   "metadata": {},
   "outputs": [
    {
     "name": "stdout",
     "output_type": "stream",
     "text": [
      "==> ../data/housing-test.csv <==\n",
      "longitude,latitude,housing_median_age,total_rooms,total_bedrooms,population,households,median_income,median_house_value,ocean_proximity\n",
      "-121.8,39.75,28,2551,378,1011,374,4.3309,125200,INLAND\n",
      "-122.26,37.85,52,3618,768,1508,755,3.2619,309600,NEAR BAY\n",
      "-120.8,38.31,37,1341,256,533,242,3.2135,123600,INLAND\n",
      "-122.17,37.71,38,890,200,481,198,3.244,179800,NEAR BAY\n",
      "-122.14,37.71,18,3905,1007,2197,1044,3.6932,166800,NEAR BAY\n",
      "-122.02,37.95,22,3526,510,1660,508,5.6642,237000,NEAR BAY\n",
      "-121.8,38.01,37,3058,567,1351,523,3.5179,130800,INLAND\n",
      "-123.83,41.88,18,1504,357,660,258,3.13,116700,<1H OCEAN\n",
      "-122.09,37.7,30,1751,269,731,263,6.005,263900,NEAR BAY\n",
      "\n",
      "==> ../data/housing-train.csv <==\n",
      "longitude,latitude,housing_median_age,total_rooms,total_bedrooms,population,households,median_income,median_house_value,ocean_proximity\n",
      "-121.86,37.7,13,9621,1344,4389,1391,6.6827,313700,INLAND\n",
      "-124.16,41.74,15,2715,569,1532,530,2.1829,69500,NEAR OCEAN\n",
      "-119.64,36.82,14,4872,656,2085,617,5.6739,173800,INLAND\n",
      "-121.89,37.69,4,6159,1510,2649,1241,3.62,139300,<1H OCEAN\n",
      "-121.58,39.51,24,1865,372,1087,385,1.6389,56700,INLAND\n",
      "-121.98,38.05,31,2810,518,1640,503,3.3661,98500,INLAND\n",
      "-121.46,39.54,14,5549,1000,1822,919,2.9562,142300,INLAND\n",
      "-121.85,39.72,18,7272,1559,5022,1524,1.6911,98800,INLAND\n",
      "-122.27,37.86,52,2307,583,1127,548,1.8447,198200,NEAR BAY\n",
      "\n",
      "==> ../data/housing-val.csv <==\n",
      "longitude,latitude,housing_median_age,total_rooms,total_bedrooms,population,households,median_income,median_house_value,ocean_proximity\n",
      "-121.99,37.54,18,3584,715,1673,661,3.9444,240100,<1H OCEAN\n",
      "-119.8,36.76,52,1853,437,764,390,1.6429,69200,INLAND\n",
      "-119.77,36.74,20,1855,519,1091,443,1.5547,93900,INLAND\n",
      "-122.18,37.86,33,4449,636,1684,617,8.9571,399700,NEAR BAY\n",
      "-122.29,37.91,46,2085,346,748,354,4.0536,262000,NEAR BAY\n",
      "-122.02,37.8,11,6200,907,2286,896,7.6518,359300,NEAR BAY\n",
      "-122.22,37.78,50,1776,473,1807,440,1.7276,102300,NEAR BAY\n",
      "-122.28,37.89,52,2070,329,722,306,5.4171,292000,NEAR BAY\n",
      "-121.59,39.86,14,1527,269,665,261,2.8657,119600,INLAND\n",
      "\n",
      "==> ../data/housing_pre-proc_toy.csv <==\n",
      "longitude,latitude,housing_median_age,total_rooms,total_bedrooms,population,households,median_income,median_house_value,ocean_proximity\n",
      "-122.23,37.88,41,880,129,322,126,8.3252,452600,NEAR BAY\n",
      "-122.22,37.86,21,7099,1106,2401,1138,8.3014,358500,NEAR BAY\n",
      "-122.24,37.85,52,1467,190,496,177,7.2574,352100,NEAR BAY\n",
      "-122.25,37.85,52,1274,235,558,219,5.6431,341300,NEAR BAY\n",
      "-122.25,37.85,52,1627,280,565,259,3.8462,342200,NEAR BAY\n",
      "-122.25,37.85,52,919,213,413,193,4.0368,269700,NEAR BAY\n",
      "-122.25,37.84,52,2535,489,1094,514,3.6591,299200,NEAR BAY\n",
      "-122.25,37.84,52,3104,687,1157,647,3.12,241400,NEAR BAY\n",
      "-122.26,37.84,42,2555,665,1206,595,2.0804,226700,NEAR BAY\n"
     ]
    }
   ],
   "source": [
    "!head ../data/housing*.csv"
   ]
  },
  {
   "cell_type": "markdown",
   "metadata": {
    "colab_type": "text",
    "id": "Aj35eYy_lutI"
   },
   "source": [
    "## Lab Task 1: Create an input pipeline using tf.data"
   ]
  },
  {
   "cell_type": "markdown",
   "metadata": {
    "colab_type": "text",
    "id": "84ef46LXMfvu"
   },
   "source": [
    "Next, we will wrap the dataframes with [tf.data](https://www.tensorflow.org/guide/datasets). This will enable us  to use feature columns as a bridge to map from the columns in the Pandas dataframe to features used to train the model. \n",
    "\n",
    "Here, we create an input pipeline using tf.data.  This function is missing two lines.  Correct and run the cell."
   ]
  },
  {
   "cell_type": "code",
   "execution_count": 93,
   "metadata": {},
   "outputs": [],
   "source": [
    "# A utility method to create a tf.data dataset from a Pandas Dataframe\n",
    "\n",
    "def df_to_dataset(dataframe, shuffle=True, batch_size=32):\n",
    "    dataframe = dataframe.copy()\n",
    "    \n",
    "   # TODO 1a -- Your code here\n",
    "\n",
    "    labels = dataframe.pop('median_house_value')\n",
    "    ds = tf.data.Dataset.from_tensor_slices((dict(dataframe), labels))\n",
    "    if shuffle:\n",
    "        ds = ds.shuffle(buffer_size=len(dataframe))\n",
    "    ds = ds.batch(batch_size)\n",
    "    return ds"
   ]
  },
  {
   "cell_type": "markdown",
   "metadata": {},
   "source": [
    "Next we initialize the training and validation datasets."
   ]
  },
  {
   "cell_type": "code",
   "execution_count": 94,
   "metadata": {},
   "outputs": [],
   "source": [
    "batch_size = 32\n",
    "train_ds = df_to_dataset(train)\n",
    "val_ds = df_to_dataset(val, shuffle=False, batch_size=batch_size)"
   ]
  },
  {
   "cell_type": "markdown",
   "metadata": {
    "colab_type": "text",
    "id": "qRLGSMDzM-dl"
   },
   "source": [
    "Now that we have created the input pipeline, let's call it to see the format of the data it returns. We have used a small batch size to keep the output readable."
   ]
  },
  {
   "cell_type": "code",
   "execution_count": 95,
   "metadata": {
    "colab": {
     "base_uri": "https://localhost:8080/",
     "height": 331
    },
    "colab_type": "code",
    "id": "CSBo3dUVNFc9",
    "outputId": "d1be2646-b1e5-4110-dbba-5bc49d9b30f6"
   },
   "outputs": [
    {
     "name": "stdout",
     "output_type": "stream",
     "text": [
      "Batch size: 32\n",
      "Every feature: ['longitude', 'latitude', 'housing_median_age', 'total_rooms', 'total_bedrooms', 'population', 'households', 'median_income', 'ocean_proximity']\n",
      "A batch of households: tf.Tensor(\n",
      "[ 345  431  648  431 1134  594  474  423  272  545  208  436  452 1224\n",
      "  270  424  442 1047  231 1507  185  365  250  199  238  199  377  218\n",
      "  765  324 1789  244], shape=(32,), dtype=int64)\n",
      "A batch of ocean_proximity: tf.Tensor(\n",
      "[b'INLAND' b'NEAR BAY' b'INLAND' b'INLAND' b'<1H OCEAN' b'NEAR BAY'\n",
      " b'INLAND' b'INLAND' b'INLAND' b'INLAND' b'INLAND' b'NEAR OCEAN'\n",
      " b'NEAR BAY' b'INLAND' b'INLAND' b'INLAND' b'NEAR BAY' b'NEAR BAY'\n",
      " b'INLAND' b'NEAR BAY' b'NEAR BAY' b'NEAR BAY' b'NEAR BAY' b'INLAND'\n",
      " b'INLAND' b'INLAND' b'NEAR BAY' b'NEAR BAY' b'<1H OCEAN' b'NEAR BAY'\n",
      " b'NEAR BAY' b'NEAR BAY'], shape=(32,), dtype=string)\n",
      "A batch of targets: tf.Tensor(\n",
      "[165400 218100  74500 202800 332400 267100 207200 123000  82700 217100\n",
      "  82800 109400 105200  78800 229200  65900 111500 170300 101400 182000\n",
      " 190400 238600 500001 114400  54100 112500 246200 235600 403400 293000\n",
      " 204200  85300], shape=(32,), dtype=int64)\n"
     ]
    }
   ],
   "source": [
    "# TODO 1b -- Your code here\n",
    "for feature_batch, label_batch in train_ds.take(1):\n",
    "    print('Batch size:', len(label_batch))\n",
    "    print('Every feature:', list(feature_batch.keys()))\n",
    "    print('A batch of households:', feature_batch['households'])\n",
    "    print('A batch of ocean_proximity:', feature_batch['ocean_proximity'])\n",
    "    print('A batch of targets:', label_batch)"
   ]
  },
  {
   "cell_type": "markdown",
   "metadata": {
    "colab_type": "text",
    "id": "OT5N6Se-NQsC"
   },
   "source": [
    "We can see that the dataset returns a dictionary of column names (from the dataframe) that map to column values from rows in the dataframe."
   ]
  },
  {
   "cell_type": "markdown",
   "metadata": {
    "colab_type": "text",
    "id": "YEGEAqaziwfC"
   },
   "source": [
    "#### Numeric columns\n",
    "The output of a feature column becomes the input to the model. A numeric is the simplest type of column. It is used to represent real valued features. When using this column, your model will receive the column value from the dataframe unchanged.\n",
    "\n",
    "In the California housing prices dataset, most columns from the dataframe are numeric.  Let' create a variable called **numeric_cols** to hold only the numerical feature columns."
   ]
  },
  {
   "cell_type": "code",
   "execution_count": 96,
   "metadata": {},
   "outputs": [],
   "source": [
    "# TODO 1c -- Your code here\n",
    "numeric_cols = ['longitude', 'latitude', 'housing_median_age', 'total_rooms',\n",
    "                'total_bedrooms', 'population', 'households', 'median_income']"
   ]
  },
  {
   "cell_type": "markdown",
   "metadata": {
    "colab_type": "text",
    "id": "EwMEcH_52JT8"
   },
   "source": [
    "#### Scaler function\n",
    "It is very important for numerical variables to get scaled before they are \"fed\" into the neural network. Here we use min-max scaling. Here we are creating a function named 'get_scal' which takes a list of numerical features and returns a 'minmax' function, which will be used in tf.feature_column.numeric_column() as normalizer_fn in parameters. 'Minmax' function itself takes a 'numerical' number from a particular feature and return scaled value of that number. "
   ]
  },
  {
   "cell_type": "markdown",
   "metadata": {
    "colab_type": "text",
    "id": "ig1k5ovWBnN8"
   },
   "source": [
    "Next, we scale the numerical feature columns that we assigned to the variable \"numeric cols\"."
   ]
  },
  {
   "cell_type": "code",
   "execution_count": 97,
   "metadata": {},
   "outputs": [],
   "source": [
    "# Scalar def get_scal(feature):\n",
    "# TODO 1d -- Your code here\n",
    "def get_scal(feature):\n",
    "    def minmax(x):\n",
    "        mini = train[feature].min()\n",
    "        maxi = train[feature].max()\n",
    "        return (x - mini)/(maxi-mini)\n",
    "        return(minmax)"
   ]
  },
  {
   "cell_type": "code",
   "execution_count": 98,
   "metadata": {
    "colab": {},
    "colab_type": "code",
    "id": "Y8IUfcuVaS_g"
   },
   "outputs": [],
   "source": [
    "# TODO 1e -- Your code here\n",
    "feature_columns = []\n",
    "for header in numeric_cols:\n",
    "    scal_input_fn = get_scal(header)\n",
    "    feature_columns.append(fc.numeric_column(header,\n",
    "                                             normalizer_fn=scal_input_fn))"
   ]
  },
  {
   "cell_type": "markdown",
   "metadata": {
    "colab_type": "text",
    "id": "8v9XoD7WCKRM"
   },
   "source": [
    "Next, we should validate the total number of feature columns.  Compare this number to the number of numeric features you input earlier."
   ]
  },
  {
   "cell_type": "code",
   "execution_count": 99,
   "metadata": {
    "colab": {
     "base_uri": "https://localhost:8080/",
     "height": 34
    },
    "colab_type": "code",
    "id": "4jgPFThi50sS",
    "outputId": "23ede6f5-a62a-4767-b3a6-fe8a3b89a212"
   },
   "outputs": [
    {
     "name": "stdout",
     "output_type": "stream",
     "text": [
      "Total number of feature coLumns:  8\n"
     ]
    }
   ],
   "source": [
    "print('Total number of feature coLumns: ', len(feature_columns))"
   ]
  },
  {
   "cell_type": "markdown",
   "metadata": {
    "colab_type": "text",
    "id": "9Ug3hB8Sl0jO"
   },
   "source": [
    "### Using the Keras Sequential Model\n",
    "\n",
    "Next, we will run this cell to compile and fit the Keras Sequential model."
   ]
  },
  {
   "cell_type": "code",
   "execution_count": 100,
   "metadata": {
    "colab": {
     "base_uri": "https://localhost:8080/",
     "height": 1000
    },
    "colab_type": "code",
    "id": "_YJPPb3xTPeZ",
    "outputId": "2d445722-1d43-4a27-a6c0-c6ce813ab450"
   },
   "outputs": [
    {
     "name": "stdout",
     "output_type": "stream",
     "text": [
      "Epoch 1/32\n",
      "WARNING:tensorflow:Layers in a Sequential model should only have a single input tensor, but we receive a <class 'dict'> input: {'longitude': <tf.Tensor 'ExpandDims_3:0' shape=(None, 1) dtype=float64>, 'latitude': <tf.Tensor 'ExpandDims_2:0' shape=(None, 1) dtype=float64>, 'housing_median_age': <tf.Tensor 'ExpandDims_1:0' shape=(None, 1) dtype=int64>, 'total_rooms': <tf.Tensor 'ExpandDims_8:0' shape=(None, 1) dtype=int64>, 'total_bedrooms': <tf.Tensor 'ExpandDims_7:0' shape=(None, 1) dtype=int64>, 'population': <tf.Tensor 'ExpandDims_6:0' shape=(None, 1) dtype=int64>, 'households': <tf.Tensor 'ExpandDims:0' shape=(None, 1) dtype=int64>, 'median_income': <tf.Tensor 'ExpandDims_4:0' shape=(None, 1) dtype=float64>, 'ocean_proximity': <tf.Tensor 'ExpandDims_5:0' shape=(None, 1) dtype=string>}\n",
      "Consider rewriting this model with the Functional API.\n",
      "WARNING:tensorflow:Layers in a Sequential model should only have a single input tensor, but we receive a <class 'dict'> input: {'longitude': <tf.Tensor 'ExpandDims_3:0' shape=(None, 1) dtype=float64>, 'latitude': <tf.Tensor 'ExpandDims_2:0' shape=(None, 1) dtype=float64>, 'housing_median_age': <tf.Tensor 'ExpandDims_1:0' shape=(None, 1) dtype=int64>, 'total_rooms': <tf.Tensor 'ExpandDims_8:0' shape=(None, 1) dtype=int64>, 'total_bedrooms': <tf.Tensor 'ExpandDims_7:0' shape=(None, 1) dtype=int64>, 'population': <tf.Tensor 'ExpandDims_6:0' shape=(None, 1) dtype=int64>, 'households': <tf.Tensor 'ExpandDims:0' shape=(None, 1) dtype=int64>, 'median_income': <tf.Tensor 'ExpandDims_4:0' shape=(None, 1) dtype=float64>, 'ocean_proximity': <tf.Tensor 'ExpandDims_5:0' shape=(None, 1) dtype=string>}\n",
      "Consider rewriting this model with the Functional API.\n",
      "36/50 [====================>.........] - ETA: 0s - loss: 38396579840.0000 - mse: 38396579840.0000 WARNING:tensorflow:Layers in a Sequential model should only have a single input tensor, but we receive a <class 'dict'> input: {'longitude': <tf.Tensor 'ExpandDims_3:0' shape=(None, 1) dtype=float64>, 'latitude': <tf.Tensor 'ExpandDims_2:0' shape=(None, 1) dtype=float64>, 'housing_median_age': <tf.Tensor 'ExpandDims_1:0' shape=(None, 1) dtype=int64>, 'total_rooms': <tf.Tensor 'ExpandDims_8:0' shape=(None, 1) dtype=int64>, 'total_bedrooms': <tf.Tensor 'ExpandDims_7:0' shape=(None, 1) dtype=int64>, 'population': <tf.Tensor 'ExpandDims_6:0' shape=(None, 1) dtype=int64>, 'households': <tf.Tensor 'ExpandDims:0' shape=(None, 1) dtype=int64>, 'median_income': <tf.Tensor 'ExpandDims_4:0' shape=(None, 1) dtype=float64>, 'ocean_proximity': <tf.Tensor 'ExpandDims_5:0' shape=(None, 1) dtype=string>}\n",
      "Consider rewriting this model with the Functional API.\n",
      "50/50 [==============================] - 1s 5ms/step - loss: 38472847360.0000 - mse: 38472847360.0000 - val_loss: 43213729792.0000 - val_mse: 43213729792.0000\n",
      "Epoch 2/32\n",
      "50/50 [==============================] - 0s 2ms/step - loss: 38393257984.0000 - mse: 38393257984.0000 - val_loss: 43151220736.0000 - val_mse: 43151220736.0000\n",
      "Epoch 3/32\n",
      "50/50 [==============================] - 0s 2ms/step - loss: 38312108032.0000 - mse: 38312108032.0000 - val_loss: 43009552384.0000 - val_mse: 43009552384.0000\n",
      "Epoch 4/32\n",
      "50/50 [==============================] - 0s 2ms/step - loss: 38102097920.0000 - mse: 38102097920.0000 - val_loss: 42686595072.0000 - val_mse: 42686595072.0000\n",
      "Epoch 5/32\n",
      "50/50 [==============================] - 0s 2ms/step - loss: 37695176704.0000 - mse: 37695176704.0000 - val_loss: 42118000640.0000 - val_mse: 42118000640.0000\n",
      "Epoch 6/32\n",
      "50/50 [==============================] - 0s 2ms/step - loss: 37009358848.0000 - mse: 37009358848.0000 - val_loss: 41199296512.0000 - val_mse: 41199296512.0000\n",
      "Epoch 7/32\n",
      "50/50 [==============================] - 0s 2ms/step - loss: 35937091584.0000 - mse: 35937091584.0000 - val_loss: 39758004224.0000 - val_mse: 39758004224.0000\n",
      "Epoch 8/32\n",
      "50/50 [==============================] - 0s 2ms/step - loss: 34203531264.0000 - mse: 34203531264.0000 - val_loss: 37388304384.0000 - val_mse: 37388304384.0000\n",
      "Epoch 9/32\n",
      "50/50 [==============================] - 0s 2ms/step - loss: 31454781440.0000 - mse: 31454781440.0000 - val_loss: 33717448704.0000 - val_mse: 33717448704.0000\n",
      "Epoch 10/32\n",
      "50/50 [==============================] - 0s 2ms/step - loss: 27689652224.0000 - mse: 27689652224.0000 - val_loss: 29331486720.0000 - val_mse: 29331486720.0000\n",
      "Epoch 11/32\n",
      "50/50 [==============================] - 0s 2ms/step - loss: 23742140416.0000 - mse: 23742140416.0000 - val_loss: 25068548096.0000 - val_mse: 25068548096.0000\n",
      "Epoch 12/32\n",
      "50/50 [==============================] - 0s 2ms/step - loss: 20303740928.0000 - mse: 20303740928.0000 - val_loss: 21449185280.0000 - val_mse: 21449185280.0000\n",
      "Epoch 13/32\n",
      "50/50 [==============================] - 0s 2ms/step - loss: 17893715968.0000 - mse: 17893715968.0000 - val_loss: 19143649280.0000 - val_mse: 19143649280.0000\n",
      "Epoch 14/32\n",
      "50/50 [==============================] - 0s 2ms/step - loss: 16742391808.0000 - mse: 16742391808.0000 - val_loss: 18005145600.0000 - val_mse: 18005145600.0000\n",
      "Epoch 15/32\n",
      "50/50 [==============================] - 0s 2ms/step - loss: 16295326720.0000 - mse: 16295326720.0000 - val_loss: 17665925120.0000 - val_mse: 17665925120.0000\n",
      "Epoch 16/32\n",
      "50/50 [==============================] - 0s 2ms/step - loss: 16157797376.0000 - mse: 16157797376.0000 - val_loss: 17422454784.0000 - val_mse: 17422454784.0000\n",
      "Epoch 17/32\n",
      "50/50 [==============================] - 0s 2ms/step - loss: 16102635520.0000 - mse: 16102635520.0000 - val_loss: 17391749120.0000 - val_mse: 17391749120.0000\n",
      "Epoch 18/32\n",
      "50/50 [==============================] - 0s 2ms/step - loss: 16053889024.0000 - mse: 16053889024.0000 - val_loss: 17288699904.0000 - val_mse: 17288699904.0000\n",
      "Epoch 19/32\n",
      "50/50 [==============================] - 0s 2ms/step - loss: 16014982144.0000 - mse: 16014982144.0000 - val_loss: 17232502784.0000 - val_mse: 17232502784.0000\n",
      "Epoch 20/32\n",
      "50/50 [==============================] - 0s 2ms/step - loss: 15980949504.0000 - mse: 15980949504.0000 - val_loss: 17188503552.0000 - val_mse: 17188503552.0000\n",
      "Epoch 21/32\n",
      "50/50 [==============================] - 0s 2ms/step - loss: 15941210112.0000 - mse: 15941210112.0000 - val_loss: 17153869824.0000 - val_mse: 17153869824.0000\n",
      "Epoch 22/32\n",
      "50/50 [==============================] - 0s 2ms/step - loss: 15912439808.0000 - mse: 15912439808.0000 - val_loss: 17100019712.0000 - val_mse: 17100019712.0000\n",
      "Epoch 23/32\n",
      "50/50 [==============================] - 0s 2ms/step - loss: 15878936576.0000 - mse: 15878936576.0000 - val_loss: 17067883520.0000 - val_mse: 17067883520.0000\n",
      "Epoch 24/32\n",
      "50/50 [==============================] - 0s 2ms/step - loss: 15843045376.0000 - mse: 15843045376.0000 - val_loss: 17062785024.0000 - val_mse: 17062785024.0000\n",
      "Epoch 25/32\n",
      "50/50 [==============================] - 0s 2ms/step - loss: 15806271488.0000 - mse: 15806271488.0000 - val_loss: 16988278784.0000 - val_mse: 16988278784.0000\n",
      "Epoch 26/32\n",
      "50/50 [==============================] - 0s 2ms/step - loss: 15779722240.0000 - mse: 15779722240.0000 - val_loss: 16942728192.0000 - val_mse: 16942728192.0000\n",
      "Epoch 27/32\n",
      "50/50 [==============================] - 0s 2ms/step - loss: 15745968128.0000 - mse: 15745968128.0000 - val_loss: 16922062848.0000 - val_mse: 16922062848.0000\n",
      "Epoch 28/32\n",
      "50/50 [==============================] - 0s 2ms/step - loss: 15706910720.0000 - mse: 15706910720.0000 - val_loss: 16918437888.0000 - val_mse: 16918437888.0000\n",
      "Epoch 29/32\n",
      "50/50 [==============================] - 0s 2ms/step - loss: 15667251200.0000 - mse: 15667251200.0000 - val_loss: 16884676608.0000 - val_mse: 16884676608.0000\n",
      "Epoch 30/32\n",
      "50/50 [==============================] - 0s 2ms/step - loss: 15626919936.0000 - mse: 15626919936.0000 - val_loss: 16818741248.0000 - val_mse: 16818741248.0000\n",
      "Epoch 31/32\n",
      "50/50 [==============================] - 0s 2ms/step - loss: 15613812736.0000 - mse: 15613812736.0000 - val_loss: 16778086400.0000 - val_mse: 16778086400.0000\n",
      "Epoch 32/32\n",
      "50/50 [==============================] - 0s 2ms/step - loss: 15569390592.0000 - mse: 15569390592.0000 - val_loss: 16723801088.0000 - val_mse: 16723801088.0000\n"
     ]
    }
   ],
   "source": [
    "# Model create\n",
    "feature_layer = tf.keras.layers.DenseFeatures(feature_columns, dtype='float64')\n",
    "\n",
    "model = tf.keras.Sequential([\n",
    "  feature_layer,\n",
    "  layers.Dense(12, input_dim=8, activation='relu'),\n",
    "  layers.Dense(8, activation='relu'),\n",
    "  layers.Dense(1, activation='linear',  name='median_house_value')\n",
    "])\n",
    "\n",
    "# Model compile\n",
    "model.compile(optimizer='adam',\n",
    "              loss='mse',\n",
    "              metrics=['mse'])\n",
    "\n",
    "# Model Fit\n",
    "history = model.fit(train_ds,\n",
    "                    validation_data=val_ds,\n",
    "                    epochs=32)"
   ]
  },
  {
   "cell_type": "markdown",
   "metadata": {},
   "source": [
    "Next we show loss as  Mean Square Error (MSE).  Remember that MSE is the most commonly used regression loss function. MSE is the sum of squared distances between our target variable (e.g. housing median age) and predicted values."
   ]
  },
  {
   "cell_type": "code",
   "execution_count": 101,
   "metadata": {
    "colab": {
     "base_uri": "https://localhost:8080/",
     "height": 71
    },
    "colab_type": "code",
    "id": "vo7hhkPqm6Jx",
    "outputId": "938907f6-b6c8-497c-a8f6-0f1cdbf336c9"
   },
   "outputs": [
    {
     "name": "stdout",
     "output_type": "stream",
     "text": [
      "50/50 [==============================] - 0s 1ms/step - loss: 15536936960.0000 - mse: 15536936960.0000\n",
      "Mean Squared Error 15536936960.0\n"
     ]
    }
   ],
   "source": [
    "loss, mse = model.evaluate(train_ds)\n",
    "print(\"Mean Squared Error\", mse)"
   ]
  },
  {
   "cell_type": "markdown",
   "metadata": {
    "colab_type": "text",
    "id": "252EPxGp7-FJ"
   },
   "source": [
    "#### Visualize the model loss curve\n",
    "\n",
    "Next, we will use matplotlib to draw the model's loss curves for training and validation.  A line plot is also created showing the mean squared error loss over the training epochs for both the train (blue) and test (orange) sets."
   ]
  },
  {
   "cell_type": "code",
   "execution_count": 102,
   "metadata": {},
   "outputs": [],
   "source": [
    "def plot_curves(history, metrics):\n",
    "    nrows = 1\n",
    "    ncols = 2\n",
    "    fig = plt.figure(figsize=(10, 5))\n",
    "\n",
    "    for idx, key in enumerate(metrics):  \n",
    "        ax = fig.add_subplot(nrows, ncols, idx+1)\n",
    "        plt.plot(history.history[key])\n",
    "        plt.plot(history.history['val_{}'.format(key)])\n",
    "        plt.title('model {}'.format(key))\n",
    "        plt.ylabel(key)\n",
    "        plt.xlabel('epoch')\n",
    "        plt.legend(['train', 'validation'], loc='upper left');  "
   ]
  },
  {
   "cell_type": "code",
   "execution_count": 103,
   "metadata": {},
   "outputs": [
    {
     "data": {
      "image/png": "[encoded data removed]",
      "text/plain": [
       "<Figure size 1000x500 with 2 Axes>"
      ]
     },
     "metadata": {},
     "output_type": "display_data"
    }
   ],
   "source": [
    "plot_curves(history, ['loss', 'mse'])"
   ]
  },
  {
   "cell_type": "markdown",
   "metadata": {
    "colab_type": "text",
    "id": "wqkozY268xi7"
   },
   "source": [
    "### Load test data"
   ]
  },
  {
   "cell_type": "markdown",
   "metadata": {
    "colab_type": "text",
    "id": "uf4TyVJ_Dzxe"
   },
   "source": [
    "Next, we read in the test.csv file and validate that there are no null values.  "
   ]
  },
  {
   "cell_type": "markdown",
   "metadata": {},
   "source": [
    "Again, we can use .describe() to see some summary statistics for the numeric fields in our dataframe.  The count shows 500.000000 for all feature columns. Thus, there are no missing values."
   ]
  },
  {
   "cell_type": "code",
   "execution_count": 104,
   "metadata": {
    "colab": {
     "base_uri": "https://localhost:8080/",
     "height": 222
    },
    "colab_type": "code",
    "id": "b4C4BmhV8ch9",
    "outputId": "82bcc9d3-4432-4068-ab82-6a6abbe4a024"
   },
   "outputs": [
    {
     "data": {
      "text/html": [
       "<div>\n",
       "<style scoped>\n",
       "    .dataframe tbody tr th:only-of-type {\n",
       "        vertical-align: middle;\n",
       "    }\n",
       "\n",
       "    .dataframe tbody tr th {\n",
       "        vertical-align: top;\n",
       "    }\n",
       "\n",
       "    .dataframe thead th {\n",
       "        text-align: right;\n",
       "    }\n",
       "</style>\n",
       "<table border=\"1\" class=\"dataframe\">\n",
       "  <thead>\n",
       "    <tr style=\"text-align: right;\">\n",
       "      <th></th>\n",
       "      <th>longitude</th>\n",
       "      <th>latitude</th>\n",
       "      <th>housing_median_age</th>\n",
       "      <th>total_rooms</th>\n",
       "      <th>total_bedrooms</th>\n",
       "      <th>population</th>\n",
       "      <th>households</th>\n",
       "      <th>median_income</th>\n",
       "      <th>median_house_value</th>\n",
       "    </tr>\n",
       "  </thead>\n",
       "  <tbody>\n",
       "    <tr>\n",
       "      <th>count</th>\n",
       "      <td>500.000000</td>\n",
       "      <td>500.000000</td>\n",
       "      <td>500.000000</td>\n",
       "      <td>500.000000</td>\n",
       "      <td>500.000000</td>\n",
       "      <td>500.000000</td>\n",
       "      <td>500.000000</td>\n",
       "      <td>500.000000</td>\n",
       "      <td>500.000000</td>\n",
       "    </tr>\n",
       "    <tr>\n",
       "      <th>mean</th>\n",
       "      <td>-121.503780</td>\n",
       "      <td>37.815960</td>\n",
       "      <td>30.672000</td>\n",
       "      <td>2493.322000</td>\n",
       "      <td>486.980000</td>\n",
       "      <td>1224.456000</td>\n",
       "      <td>451.708000</td>\n",
       "      <td>3.520527</td>\n",
       "      <td>164377.606000</td>\n",
       "    </tr>\n",
       "    <tr>\n",
       "      <th>std</th>\n",
       "      <td>1.031906</td>\n",
       "      <td>0.851201</td>\n",
       "      <td>13.644367</td>\n",
       "      <td>2170.515278</td>\n",
       "      <td>364.279017</td>\n",
       "      <td>980.648332</td>\n",
       "      <td>343.433119</td>\n",
       "      <td>1.649059</td>\n",
       "      <td>91028.084843</td>\n",
       "    </tr>\n",
       "    <tr>\n",
       "      <th>min</th>\n",
       "      <td>-124.230000</td>\n",
       "      <td>36.150000</td>\n",
       "      <td>2.000000</td>\n",
       "      <td>60.000000</td>\n",
       "      <td>13.000000</td>\n",
       "      <td>31.000000</td>\n",
       "      <td>15.000000</td>\n",
       "      <td>0.864100</td>\n",
       "      <td>44400.000000</td>\n",
       "    </tr>\n",
       "    <tr>\n",
       "      <th>25%</th>\n",
       "      <td>-122.210000</td>\n",
       "      <td>37.597500</td>\n",
       "      <td>19.000000</td>\n",
       "      <td>1352.500000</td>\n",
       "      <td>283.750000</td>\n",
       "      <td>704.250000</td>\n",
       "      <td>263.750000</td>\n",
       "      <td>2.393450</td>\n",
       "      <td>93200.000000</td>\n",
       "    </tr>\n",
       "    <tr>\n",
       "      <th>50%</th>\n",
       "      <td>-122.030000</td>\n",
       "      <td>37.780000</td>\n",
       "      <td>31.000000</td>\n",
       "      <td>2056.000000</td>\n",
       "      <td>402.000000</td>\n",
       "      <td>1011.000000</td>\n",
       "      <td>377.000000</td>\n",
       "      <td>3.197000</td>\n",
       "      <td>144850.000000</td>\n",
       "    </tr>\n",
       "    <tr>\n",
       "      <th>75%</th>\n",
       "      <td>-120.597500</td>\n",
       "      <td>37.962500</td>\n",
       "      <td>41.000000</td>\n",
       "      <td>3003.250000</td>\n",
       "      <td>592.500000</td>\n",
       "      <td>1481.250000</td>\n",
       "      <td>543.250000</td>\n",
       "      <td>4.381225</td>\n",
       "      <td>212675.000000</td>\n",
       "    </tr>\n",
       "    <tr>\n",
       "      <th>max</th>\n",
       "      <td>-119.120000</td>\n",
       "      <td>41.920000</td>\n",
       "      <td>52.000000</td>\n",
       "      <td>28258.000000</td>\n",
       "      <td>3864.000000</td>\n",
       "      <td>12203.000000</td>\n",
       "      <td>3701.000000</td>\n",
       "      <td>11.706400</td>\n",
       "      <td>500001.000000</td>\n",
       "    </tr>\n",
       "  </tbody>\n",
       "</table>\n",
       "</div>"
      ],
      "text/plain": [
       "        longitude    latitude  housing_median_age   total_rooms  \\\n",
       "count  500.000000  500.000000          500.000000    500.000000   \n",
       "mean  -121.503780   37.815960           30.672000   2493.322000   \n",
       "std      1.031906    0.851201           13.644367   2170.515278   \n",
       "min   -124.230000   36.150000            2.000000     60.000000   \n",
       "25%   -122.210000   37.597500           19.000000   1352.500000   \n",
       "50%   -122.030000   37.780000           31.000000   2056.000000   \n",
       "75%   -120.597500   37.962500           41.000000   3003.250000   \n",
       "max   -119.120000   41.920000           52.000000  28258.000000   \n",
       "\n",
       "       total_bedrooms    population   households  median_income  \\\n",
       "count      500.000000    500.000000   500.000000     500.000000   \n",
       "mean       486.980000   1224.456000   451.708000       3.520527   \n",
       "std        364.279017    980.648332   343.433119       1.649059   \n",
       "min         13.000000     31.000000    15.000000       0.864100   \n",
       "25%        283.750000    704.250000   263.750000       2.393450   \n",
       "50%        402.000000   1011.000000   377.000000       3.197000   \n",
       "75%        592.500000   1481.250000   543.250000       4.381225   \n",
       "max       3864.000000  12203.000000  3701.000000      11.706400   \n",
       "\n",
       "       median_house_value  \n",
       "count          500.000000  \n",
       "mean        164377.606000  \n",
       "std          91028.084843  \n",
       "min          44400.000000  \n",
       "25%          93200.000000  \n",
       "50%         144850.000000  \n",
       "75%         212675.000000  \n",
       "max         500001.000000  "
      ]
     },
     "execution_count": 104,
     "metadata": {},
     "output_type": "execute_result"
    }
   ],
   "source": [
    "test_data = pd.read_csv('../data/housing-test.csv')\n",
    "test_data.describe()"
   ]
  },
  {
   "cell_type": "markdown",
   "metadata": {
    "colab_type": "text",
    "id": "nY2Yrt8fC7RW"
   },
   "source": [
    "Now that we have created an input pipeline using tf.data and compiled a Keras Sequential Model, we now create the input function for the test data and to initialize the test_predict variable."
   ]
  },
  {
   "cell_type": "code",
   "execution_count": 105,
   "metadata": {
    "colab": {},
    "colab_type": "code",
    "id": "8rMdDeGDCwpT"
   },
   "outputs": [],
   "source": [
    "# TODO 1f -- Your code here\n",
    "def test_input_fn(features, batch_size=256):\n",
    "    \"\"\"An input function for prediction.\"\"\"\n",
    "    # Convert the inputs to a Dataset without labels.\n",
    "    return tf.data.Dataset.from_tensor_slices(dict(features)).batch(batch_size)"
   ]
  },
  {
   "cell_type": "code",
   "execution_count": 106,
   "metadata": {},
   "outputs": [
    {
     "name": "stdout",
     "output_type": "stream",
     "text": [
      "500\n",
      "{'longitude': <tf.Tensor: shape=(5,), dtype=float64, numpy=array([-121.8 , -122.26, -120.8 , -122.17, -122.14])>, 'latitude': <tf.Tensor: shape=(5,), dtype=float64, numpy=array([39.75, 37.85, 38.31, 37.71, 37.71])>, 'housing_median_age': <tf.Tensor: shape=(5,), dtype=int64, numpy=array([28, 52, 37, 38, 18])>, 'total_rooms': <tf.Tensor: shape=(5,), dtype=int64, numpy=array([2551, 3618, 1341,  890, 3905])>, 'total_bedrooms': <tf.Tensor: shape=(5,), dtype=int64, numpy=array([ 378,  768,  256,  200, 1007])>, 'population': <tf.Tensor: shape=(5,), dtype=int64, numpy=array([1011, 1508,  533,  481, 2197])>, 'households': <tf.Tensor: shape=(5,), dtype=int64, numpy=array([ 374,  755,  242,  198, 1044])>, 'median_income': <tf.Tensor: shape=(5,), dtype=float64, numpy=array([4.3309, 3.2619, 3.2135, 3.244 , 3.6932])>, 'median_house_value': <tf.Tensor: shape=(5,), dtype=int64, numpy=array([125200, 309600, 123600, 179800, 166800])>, 'ocean_proximity': <tf.Tensor: shape=(5,), dtype=string, numpy=\n",
      "array([b'INLAND', b'NEAR BAY', b'INLAND', b'NEAR BAY', b'NEAR BAY'],\n",
      "      dtype=object)>}\n"
     ]
    }
   ],
   "source": [
    "print(len(dict(test_data)['longitude']))\n",
    "test_predict = test_input_fn(dict(test_data), 5)\n",
    "for a in test_predict.take(1):\n",
    "    print(a)"
   ]
  },
  {
   "cell_type": "markdown",
   "metadata": {
    "colab_type": "text",
    "id": "H5SkINtbDIdr"
   },
   "source": [
    "#### Prediction:  Linear Regression\n",
    "\n",
    "Before we begin to feature engineer our feature columns, we should predict the median house value.  By predicting the median house value now, we can then compare it with the median house value after feature engineering.\n",
    "\n",
    "To predict with Keras, you simply call [model.predict()](https://keras.io/models/model/#predict) and pass in the housing features you want to predict the median_house_value for. Note:  We are predicting the model locally."
   ]
  },
  {
   "cell_type": "code",
   "execution_count": 108,
   "metadata": {
    "colab": {},
    "colab_type": "code",
    "id": "uNc6TSoJDL7-"
   },
   "outputs": [
    {
     "name": "stdout",
     "output_type": "stream",
     "text": [
      "[[114130.55]\n",
      " [171535.33]\n",
      " [ 67166.78]\n",
      " [ 52909.31]\n",
      " [207127.95]]\n"
     ]
    },
    {
     "data": {
      "text/plain": [
       "0    125200\n",
       "1    309600\n",
       "2    123600\n",
       "3    179800\n",
       "4    166800\n",
       "Name: median_house_value, dtype: int64"
      ]
     },
     "execution_count": 108,
     "metadata": {},
     "output_type": "execute_result"
    }
   ],
   "source": [
    "predicted_median_house_value = model.predict(test_predict)\n",
    "print(predicted_median_house_value[0:5])\n",
    "test_data.iloc[0:5]['median_house_value']"
   ]
  },
  {
   "cell_type": "markdown",
   "metadata": {
    "colab_type": "text",
    "id": "HFXK1SKPDYgD"
   },
   "source": [
    "Next, we run two predictions in separate cells - one where ocean_proximity=INLAND and one where ocean_proximity= NEAR OCEAN. "
   ]
  },
  {
   "cell_type": "code",
   "execution_count": 76,
   "metadata": {
    "colab": {
     "base_uri": "https://localhost:8080/",
     "height": 34
    },
    "colab_type": "code",
    "id": "xepss0vhoHge",
    "outputId": "46842a26-eacd-4801-857b-18c6a8f2005c"
   },
   "outputs": [
    {
     "name": "stdout",
     "output_type": "stream",
     "text": [
      "WARNING:tensorflow:Layers in a Sequential model should only have a single input tensor, but we receive a <class 'dict'> input: {'longitude': <tf.Tensor 'ExpandDims_3:0' shape=(1, 1) dtype=float32>, 'latitude': <tf.Tensor 'ExpandDims_2:0' shape=(1, 1) dtype=float32>, 'housing_median_age': <tf.Tensor 'ExpandDims_1:0' shape=(1, 1) dtype=float32>, 'total_rooms': <tf.Tensor 'ExpandDims_8:0' shape=(1, 1) dtype=float32>, 'total_bedrooms': <tf.Tensor 'ExpandDims_7:0' shape=(1, 1) dtype=float32>, 'population': <tf.Tensor 'ExpandDims_6:0' shape=(1, 1) dtype=float32>, 'households': <tf.Tensor 'ExpandDims:0' shape=(1, 1) dtype=float32>, 'median_income': <tf.Tensor 'ExpandDims_4:0' shape=(1, 1) dtype=float32>, 'ocean_proximity': <tf.Tensor 'ExpandDims_5:0' shape=(1, 1) dtype=string>}\n",
      "Consider rewriting this model with the Functional API.\n"
     ]
    },
    {
     "data": {
      "text/plain": [
       "array([[356565.16]], dtype=float32)"
      ]
     },
     "execution_count": 76,
     "metadata": {},
     "output_type": "execute_result"
    }
   ],
   "source": [
    "# Ocean_proximity is INLAND\n",
    "model.predict({\n",
    "    'longitude': tf.convert_to_tensor([-121.86]),\n",
    "    'latitude': tf.convert_to_tensor([39.78]),\n",
    "    'housing_median_age': tf.convert_to_tensor([12.0]),\n",
    "    'total_rooms': tf.convert_to_tensor([7653.0]),\n",
    "    'total_bedrooms': tf.convert_to_tensor([1578.0]),\n",
    "    'population': tf.convert_to_tensor([3628.0]),\n",
    "    'households': tf.convert_to_tensor([1494.0]),\n",
    "    'median_income': tf.convert_to_tensor([3.0905]),\n",
    "    'ocean_proximity': tf.convert_to_tensor(['INLAND'])\n",
    "}, steps=1)"
   ]
  },
  {
   "cell_type": "code",
   "execution_count": 77,
   "metadata": {
    "colab": {
     "base_uri": "https://localhost:8080/",
     "height": 34
    },
    "colab_type": "code",
    "id": "qPssm8p4EZHh",
    "outputId": "2a55d427-7857-401c-f60d-edbb36be19ec"
   },
   "outputs": [
    {
     "data": {
      "text/plain": [
       "array([[196629.25]], dtype=float32)"
      ]
     },
     "execution_count": 77,
     "metadata": {},
     "output_type": "execute_result"
    }
   ],
   "source": [
    "# Ocean_proximity is NEAR OCEAN\n",
    "model.predict({\n",
    "    'longitude': tf.convert_to_tensor([-122.43]),\n",
    "    'latitude': tf.convert_to_tensor([37.63]),\n",
    "    'housing_median_age': tf.convert_to_tensor([34.0]),\n",
    "    'total_rooms': tf.convert_to_tensor([4135.0]),\n",
    "    'total_bedrooms': tf.convert_to_tensor([687.0]),\n",
    "    'population': tf.convert_to_tensor([2154.0]),\n",
    "    'households': tf.convert_to_tensor([742.0]),\n",
    "    'median_income': tf.convert_to_tensor([4.9732]),\n",
    "    'ocean_proximity': tf.convert_to_tensor(['NEAR OCEAN'])\n",
    "}, steps=1)"
   ]
  },
  {
   "cell_type": "markdown",
   "metadata": {
    "colab_type": "text",
    "id": "Txl-MRuLFE_8"
   },
   "source": [
    "The arrays returns a predicted value.  What do these numbers mean?  Let's compare this value to the test set.  \n",
    "\n",
    "Go to the test.csv you read in a few cells up.  Locate the first line and find the median_house_value - which should be 249,000 dollars near the ocean. What value did your model predicted for the median_house_value? Was it a solid model performance? Let's see if we can improve this a bit with feature engineering!  \n"
   ]
  },
  {
   "cell_type": "markdown",
   "metadata": {},
   "source": [
    "## Lab Task 2: Engineer features to create categorical and numerical features"
   ]
  },
  {
   "cell_type": "markdown",
   "metadata": {
    "colab_type": "text",
    "id": "78F1XH1Qwvbt"
   },
   "source": [
    "Now we create a cell that indicates which features will be used in the model.  \n",
    "Note:  Be sure to bucketize 'housing_median_age' and ensure that 'ocean_proximity' is one-hot encoded.  And, don't forget your numeric values!"
   ]
  },
  {
   "cell_type": "code",
   "execution_count": 116,
   "metadata": {
    "colab": {},
    "colab_type": "code",
    "id": "ZxSatLUxUmvI"
   },
   "outputs": [],
   "source": [
    "# TODO 2a -- Your code here\n",
    "numeric_cols = ['longitude', 'latitude', 'housing_median_age', 'total_rooms',\n",
    "                'total_bedrooms', 'population', 'households', 'median_income']\n",
    "\n",
    "bucketized_cols = ['housing_median_age']\n",
    "\n",
    "# indicator columns,Categorical features\n",
    "categorical_cols = ['ocean_proximity']"
   ]
  },
  {
   "cell_type": "markdown",
   "metadata": {
    "colab_type": "text",
    "id": "5HbypkYHxxwt"
   },
   "source": [
    "Next, we scale the numerical, bucktized, and categorical feature columns that we assigned to the variables in the preceding cell."
   ]
  },
  {
   "cell_type": "code",
   "execution_count": 117,
   "metadata": {
    "colab": {},
    "colab_type": "code",
    "id": "ExX5Akz0UnE-"
   },
   "outputs": [],
   "source": [
    "# Scalar def get_scal(feature):\n",
    "def get_scal(feature):\n",
    "    def minmax(x):\n",
    "        mini = train[feature].min()\n",
    "        maxi = train[feature].max()\n",
    "        return (x - mini)/(maxi-mini)\n",
    "        return(minmax)"
   ]
  },
  {
   "cell_type": "code",
   "execution_count": 118,
   "metadata": {
    "colab": {},
    "colab_type": "code",
    "id": "wzqcddUQUnKn"
   },
   "outputs": [],
   "source": [
    "# All numerical features - scaling\n",
    "feature_columns = []\n",
    "for header in numeric_cols:\n",
    "    scal_input_fn = get_scal(header)\n",
    "    feature_columns.append(fc.numeric_column(header,\n",
    "                                             normalizer_fn=scal_input_fn))"
   ]
  },
  {
   "cell_type": "markdown",
   "metadata": {
    "colab_type": "text",
    "id": "yYUpUZvgwrPe"
   },
   "source": [
    "### Categorical Feature\n",
    "In this dataset, 'ocean_proximity' is represented as a string.  We cannot feed strings directly to a model. Instead, we must first map them to numeric values. The categorical vocabulary columns provide a way to represent strings as a one-hot vector."
   ]
  },
  {
   "cell_type": "markdown",
   "metadata": {
    "colab_type": "text",
    "id": "sZnlnFZkyEbe"
   },
   "source": [
    "Next, we create a categorical feature using 'ocean_proximity'."
   ]
  },
  {
   "cell_type": "code",
   "execution_count": 119,
   "metadata": {
    "colab": {},
    "colab_type": "code",
    "id": "3Cf6SoFTUnc6"
   },
   "outputs": [],
   "source": [
    "# TODO 2b -- Your code here\n",
    "for feature_name in categorical_cols:\n",
    "    vocabulary = housing_df[feature_name].unique()\n",
    "    categorical_c = fc.categorical_column_with_vocabulary_list(feature_name, vocabulary)\n",
    "    one_hot = fc.indicator_column(categorical_c)\n",
    "    feature_columns.append(one_hot)\n"
   ]
  },
  {
   "cell_type": "markdown",
   "metadata": {
    "colab_type": "text",
    "id": "qnGyWaijzShj"
   },
   "source": [
    "### Bucketized Feature\n",
    "\n",
    "Often, you don't want to feed a number directly into the model, but instead split its value into different categories based on numerical ranges. Consider our raw data that represents a homes' age. Instead of representing the house age as a numeric column, we could split the home age into several buckets using a [bucketized column](https://www.tensorflow.org/api_docs/python/tf/feature_column/bucketized_column). Notice the one-hot values below describe which age range each row matches."
   ]
  },
  {
   "cell_type": "markdown",
   "metadata": {
    "colab_type": "text",
    "id": "7ZRlFyP7fOw-"
   },
   "source": [
    "Next we create a bucketized column using 'housing_median_age'\n"
   ]
  },
  {
   "cell_type": "code",
   "execution_count": 120,
   "metadata": {
    "colab": {},
    "colab_type": "code",
    "id": "xB-yiVLmUnXp"
   },
   "outputs": [],
   "source": [
    "# TODO 2c -- Your code here\n",
    "age = fc.numeric_column(\"housing_median_age\")\n",
    "\n",
    "# Bucketized cols\n",
    "age_buckets = fc.bucketized_column(age, boundaries=[10, 20, 30, 40, 50, 60, 80, 100])\n",
    "feature_columns.append(age_buckets)"
   ]
  },
  {
   "cell_type": "markdown",
   "metadata": {
    "colab_type": "text",
    "id": "Ri4_wssOg943"
   },
   "source": [
    "### Feature Cross\n",
    "\n",
    "Combining features into a single feature, better known as [feature crosses](https://developers.google.com/machine-learning/glossary/#feature_cross), enables a model to learn separate weights for each combination of features."
   ]
  },
  {
   "cell_type": "markdown",
   "metadata": {
    "colab_type": "text",
    "id": "a6HHJl3J0j0T"
   },
   "source": [
    "Next, we create a feature cross of 'housing_median_age' and 'ocean_proximity'."
   ]
  },
  {
   "cell_type": "code",
   "execution_count": 121,
   "metadata": {
    "colab": {},
    "colab_type": "code",
    "id": "JVLnG0WbUnkl"
   },
   "outputs": [],
   "source": [
    "# TODO 2d -- Your code here\n",
    "vocabulary = housing_df['ocean_proximity'].unique()\n",
    "ocean_proximity = fc.categorical_column_with_vocabulary_list('ocean_proximity',\n",
    "                                                             vocabulary)\n",
    "\n",
    "crossed_feature = fc.crossed_column([age_buckets, ocean_proximity],\n",
    "                                    hash_bucket_size=1000)\n",
    "crossed_feature = fc.indicator_column(crossed_feature)\n",
    "feature_columns.append(crossed_feature)"
   ]
  },
  {
   "cell_type": "markdown",
   "metadata": {
    "colab_type": "text",
    "id": "hiz6HCWg1CXO"
   },
   "source": [
    "Next, we should validate the total number of feature columns.  Compare this number to the number of numeric features you input earlier."
   ]
  },
  {
   "cell_type": "code",
   "execution_count": 122,
   "metadata": {
    "colab": {
     "base_uri": "https://localhost:8080/",
     "height": 34
    },
    "colab_type": "code",
    "id": "6P3Ewc3_Unsv",
    "outputId": "42c1c4a6-89f8-4685-b2d0-e76a90cdf9ee"
   },
   "outputs": [
    {
     "name": "stdout",
     "output_type": "stream",
     "text": [
      "Total number of feature columns:  11\n"
     ]
    }
   ],
   "source": [
    "print('Total number of feature columns: ', len(feature_columns))"
   ]
  },
  {
   "cell_type": "markdown",
   "metadata": {
    "colab_type": "text",
    "id": "lNr00mP41sJp"
   },
   "source": [
    "Next, we will run this cell to compile and fit the Keras Sequential model.  This is the same model we ran earlier."
   ]
  },
  {
   "cell_type": "code",
   "execution_count": 123,
   "metadata": {
    "colab": {
     "base_uri": "https://localhost:8080/",
     "height": 1000
    },
    "colab_type": "code",
    "id": "4Dwal3oxUoCe",
    "outputId": "1ae08747-7dbe-47a5-b3e7-87581e460b1b"
   },
   "outputs": [
    {
     "name": "stdout",
     "output_type": "stream",
     "text": [
      "Epoch 1/32\n",
      "WARNING:tensorflow:Layers in a Sequential model should only have a single input tensor, but we receive a <class 'dict'> input: {'longitude': <tf.Tensor 'ExpandDims_3:0' shape=(None, 1) dtype=float64>, 'latitude': <tf.Tensor 'ExpandDims_2:0' shape=(None, 1) dtype=float64>, 'housing_median_age': <tf.Tensor 'ExpandDims_1:0' shape=(None, 1) dtype=int64>, 'total_rooms': <tf.Tensor 'ExpandDims_8:0' shape=(None, 1) dtype=int64>, 'total_bedrooms': <tf.Tensor 'ExpandDims_7:0' shape=(None, 1) dtype=int64>, 'population': <tf.Tensor 'ExpandDims_6:0' shape=(None, 1) dtype=int64>, 'households': <tf.Tensor 'ExpandDims:0' shape=(None, 1) dtype=int64>, 'median_income': <tf.Tensor 'ExpandDims_4:0' shape=(None, 1) dtype=float64>, 'ocean_proximity': <tf.Tensor 'ExpandDims_5:0' shape=(None, 1) dtype=string>}\n",
      "Consider rewriting this model with the Functional API.\n",
      "WARNING:tensorflow:Layers in a Sequential model should only have a single input tensor, but we receive a <class 'dict'> input: {'longitude': <tf.Tensor 'ExpandDims_3:0' shape=(None, 1) dtype=float64>, 'latitude': <tf.Tensor 'ExpandDims_2:0' shape=(None, 1) dtype=float64>, 'housing_median_age': <tf.Tensor 'ExpandDims_1:0' shape=(None, 1) dtype=int64>, 'total_rooms': <tf.Tensor 'ExpandDims_8:0' shape=(None, 1) dtype=int64>, 'total_bedrooms': <tf.Tensor 'ExpandDims_7:0' shape=(None, 1) dtype=int64>, 'population': <tf.Tensor 'ExpandDims_6:0' shape=(None, 1) dtype=int64>, 'households': <tf.Tensor 'ExpandDims:0' shape=(None, 1) dtype=int64>, 'median_income': <tf.Tensor 'ExpandDims_4:0' shape=(None, 1) dtype=float64>, 'ocean_proximity': <tf.Tensor 'ExpandDims_5:0' shape=(None, 1) dtype=string>}\n",
      "Consider rewriting this model with the Functional API.\n",
      "30/50 [=================>............] - ETA: 0s - loss: 38209007616.0000 - mse: 38209007616.0000 WARNING:tensorflow:Layers in a Sequential model should only have a single input tensor, but we receive a <class 'dict'> input: {'longitude': <tf.Tensor 'ExpandDims_3:0' shape=(None, 1) dtype=float64>, 'latitude': <tf.Tensor 'ExpandDims_2:0' shape=(None, 1) dtype=float64>, 'housing_median_age': <tf.Tensor 'ExpandDims_1:0' shape=(None, 1) dtype=int64>, 'total_rooms': <tf.Tensor 'ExpandDims_8:0' shape=(None, 1) dtype=int64>, 'total_bedrooms': <tf.Tensor 'ExpandDims_7:0' shape=(None, 1) dtype=int64>, 'population': <tf.Tensor 'ExpandDims_6:0' shape=(None, 1) dtype=int64>, 'households': <tf.Tensor 'ExpandDims:0' shape=(None, 1) dtype=int64>, 'median_income': <tf.Tensor 'ExpandDims_4:0' shape=(None, 1) dtype=float64>, 'ocean_proximity': <tf.Tensor 'ExpandDims_5:0' shape=(None, 1) dtype=string>}\n",
      "Consider rewriting this model with the Functional API.\n",
      "50/50 [==============================] - 1s 6ms/step - loss: 38221012992.0000 - mse: 38221012992.0000 - val_loss: 42856337408.0000 - val_mse: 42856337408.0000\n",
      "Epoch 2/32\n",
      "50/50 [==============================] - 0s 2ms/step - loss: 37858955264.0000 - mse: 37858955264.0000 - val_loss: 42287390720.0000 - val_mse: 42287390720.0000\n",
      "Epoch 3/32\n",
      "50/50 [==============================] - 0s 2ms/step - loss: 37155790848.0000 - mse: 37155790848.0000 - val_loss: 41329647616.0000 - val_mse: 41329647616.0000\n",
      "Epoch 4/32\n",
      "50/50 [==============================] - 0s 2ms/step - loss: 36042240000.0000 - mse: 36042240000.0000 - val_loss: 39879258112.0000 - val_mse: 39879258112.0000\n",
      "Epoch 5/32\n",
      "50/50 [==============================] - 0s 2ms/step - loss: 34360868864.0000 - mse: 34360868864.0000 - val_loss: 37663711232.0000 - val_mse: 37663711232.0000\n",
      "Epoch 6/32\n",
      "50/50 [==============================] - 0s 2ms/step - loss: 31935520768.0000 - mse: 31935520768.0000 - val_loss: 34691158016.0000 - val_mse: 34691158016.0000\n",
      "Epoch 7/32\n",
      "50/50 [==============================] - 0s 2ms/step - loss: 28962064384.0000 - mse: 28962064384.0000 - val_loss: 31168712704.0000 - val_mse: 31168712704.0000\n",
      "Epoch 8/32\n",
      "50/50 [==============================] - 0s 2ms/step - loss: 25689462784.0000 - mse: 25689462784.0000 - val_loss: 27515899904.0000 - val_mse: 27515899904.0000\n",
      "Epoch 9/32\n",
      "50/50 [==============================] - 0s 2ms/step - loss: 22527614976.0000 - mse: 22527614976.0000 - val_loss: 24122333184.0000 - val_mse: 24122333184.0000\n",
      "Epoch 10/32\n",
      "50/50 [==============================] - 0s 2ms/step - loss: 19878852608.0000 - mse: 19878852608.0000 - val_loss: 21385381888.0000 - val_mse: 21385381888.0000\n",
      "Epoch 11/32\n",
      "50/50 [==============================] - 0s 2ms/step - loss: 17976768512.0000 - mse: 17976768512.0000 - val_loss: 19464040448.0000 - val_mse: 19464040448.0000\n",
      "Epoch 12/32\n",
      "50/50 [==============================] - 0s 2ms/step - loss: 16847024128.0000 - mse: 16847024128.0000 - val_loss: 18244622336.0000 - val_mse: 18244622336.0000\n",
      "Epoch 13/32\n",
      "50/50 [==============================] - 0s 2ms/step - loss: 16267063296.0000 - mse: 16267063296.0000 - val_loss: 17654456320.0000 - val_mse: 17654456320.0000\n",
      "Epoch 14/32\n",
      "50/50 [==============================] - 0s 2ms/step - loss: 16042753024.0000 - mse: 16042753024.0000 - val_loss: 17349677056.0000 - val_mse: 17349677056.0000\n",
      "Epoch 15/32\n",
      "50/50 [==============================] - 0s 2ms/step - loss: 15922307072.0000 - mse: 15922307072.0000 - val_loss: 17211117568.0000 - val_mse: 17211117568.0000\n",
      "Epoch 16/32\n",
      "50/50 [==============================] - 0s 2ms/step - loss: 15855691776.0000 - mse: 15855691776.0000 - val_loss: 17125417984.0000 - val_mse: 17125417984.0000\n",
      "Epoch 17/32\n",
      "50/50 [==============================] - 0s 2ms/step - loss: 15814674432.0000 - mse: 15814674432.0000 - val_loss: 17035014144.0000 - val_mse: 17035014144.0000\n",
      "Epoch 18/32\n",
      "50/50 [==============================] - 0s 2ms/step - loss: 15782778880.0000 - mse: 15782778880.0000 - val_loss: 16969394176.0000 - val_mse: 16969394176.0000\n",
      "Epoch 19/32\n",
      "50/50 [==============================] - 0s 2ms/step - loss: 15745900544.0000 - mse: 15745900544.0000 - val_loss: 16935649280.0000 - val_mse: 16935649280.0000\n",
      "Epoch 20/32\n",
      "50/50 [==============================] - 0s 2ms/step - loss: 15713333248.0000 - mse: 15713333248.0000 - val_loss: 16908503040.0000 - val_mse: 16908503040.0000\n",
      "Epoch 21/32\n",
      "50/50 [==============================] - 0s 2ms/step - loss: 15676005376.0000 - mse: 15676005376.0000 - val_loss: 16833186816.0000 - val_mse: 16833186816.0000\n",
      "Epoch 22/32\n",
      "50/50 [==============================] - 0s 2ms/step - loss: 15640400896.0000 - mse: 15640400896.0000 - val_loss: 16813433856.0000 - val_mse: 16813433856.0000\n",
      "Epoch 23/32\n",
      "50/50 [==============================] - 0s 2ms/step - loss: 15622008832.0000 - mse: 15622008832.0000 - val_loss: 16793149440.0000 - val_mse: 16793149440.0000\n",
      "Epoch 24/32\n",
      "50/50 [==============================] - 0s 2ms/step - loss: 15573435392.0000 - mse: 15573435392.0000 - val_loss: 16752747520.0000 - val_mse: 16752747520.0000\n",
      "Epoch 25/32\n",
      "50/50 [==============================] - 0s 2ms/step - loss: 15534930944.0000 - mse: 15534930944.0000 - val_loss: 16670127104.0000 - val_mse: 16670127104.0000\n",
      "Epoch 26/32\n",
      "50/50 [==============================] - 0s 2ms/step - loss: 15505423360.0000 - mse: 15505423360.0000 - val_loss: 16641761280.0000 - val_mse: 16641761280.0000\n",
      "Epoch 27/32\n",
      "50/50 [==============================] - 0s 2ms/step - loss: 15468681216.0000 - mse: 15468681216.0000 - val_loss: 16637536256.0000 - val_mse: 16637536256.0000\n",
      "Epoch 28/32\n",
      "50/50 [==============================] - 0s 2ms/step - loss: 15430346752.0000 - mse: 15430346752.0000 - val_loss: 16578979840.0000 - val_mse: 16578979840.0000\n",
      "Epoch 29/32\n",
      "50/50 [==============================] - 0s 2ms/step - loss: 15414302720.0000 - mse: 15414302720.0000 - val_loss: 16518990848.0000 - val_mse: 16518990848.0000\n",
      "Epoch 30/32\n",
      "50/50 [==============================] - 0s 2ms/step - loss: 15358141440.0000 - mse: 15358141440.0000 - val_loss: 16487271424.0000 - val_mse: 16487271424.0000\n",
      "Epoch 31/32\n",
      "50/50 [==============================] - 0s 2ms/step - loss: 15323660288.0000 - mse: 15323660288.0000 - val_loss: 16484032512.0000 - val_mse: 16484032512.0000\n",
      "Epoch 32/32\n",
      "50/50 [==============================] - 0s 2ms/step - loss: 15282456576.0000 - mse: 15282456576.0000 - val_loss: 16425146368.0000 - val_mse: 16425146368.0000\n"
     ]
    }
   ],
   "source": [
    "# Model create\n",
    "feature_layer = tf.keras.layers.DenseFeatures(feature_columns,\n",
    "                                              dtype='float64')\n",
    "\n",
    "model2 = tf.keras.Sequential([\n",
    "  feature_layer,\n",
    "  layers.Dense(12, input_dim=8, activation='relu'),\n",
    "  layers.Dense(8, activation='relu'),\n",
    "  layers.Dense(1, activation='linear',  name='median_house_value')\n",
    "])\n",
    "\n",
    "# Model compile\n",
    "model2.compile(optimizer='adam',\n",
    "              loss='mse',\n",
    "              metrics=['mse'])\n",
    "\n",
    "# Model Fit\n",
    "history = model2.fit(train_ds,\n",
    "                    validation_data=val_ds,\n",
    "                    epochs=32)"
   ]
  },
  {
   "cell_type": "markdown",
   "metadata": {
    "colab_type": "text",
    "id": "3LdUQszM16Oj"
   },
   "source": [
    "Next, we show loss and mean squared error then plot the model."
   ]
  },
  {
   "cell_type": "code",
   "execution_count": 124,
   "metadata": {
    "colab": {
     "base_uri": "https://localhost:8080/",
     "height": 71
    },
    "colab_type": "code",
    "id": "ZtFSpkd9UoAW",
    "outputId": "bac4836e-c4f1-4b29-876d-91fe1b51a5a7"
   },
   "outputs": [
    {
     "name": "stdout",
     "output_type": "stream",
     "text": [
      "50/50 [==============================] - 0s 1ms/step - loss: 15260685312.0000 - mse: 15260685312.0000\n",
      "Mean Squared Error 15260685312.0\n"
     ]
    }
   ],
   "source": [
    "loss, mse = model2.evaluate(train_ds)\n",
    "print(\"Mean Squared Error\", mse)"
   ]
  },
  {
   "cell_type": "code",
   "execution_count": 125,
   "metadata": {
    "colab": {
     "base_uri": "https://localhost:8080/",
     "height": 350
    },
    "colab_type": "code",
    "id": "O8kWMa6xUn-M",
    "outputId": "05ed9323-1102-4245-a40b-88543f11b0f3"
   },
   "outputs": [
    {
     "data": {
      "image/png": "[encoded data removed]",
      "text/plain": [
       "<Figure size 1000x500 with 2 Axes>"
      ]
     },
     "metadata": {},
     "output_type": "display_data"
    }
   ],
   "source": [
    "plot_curves(history, ['loss', 'mse'])"
   ]
  },
  {
   "cell_type": "markdown",
   "metadata": {
    "colab_type": "text",
    "id": "C4tWwOQt2e-P"
   },
   "source": [
    "Next we create a prediction model.  Note:  You may use the same values from the previous prediciton.  "
   ]
  },
  {
   "cell_type": "code",
   "execution_count": 126,
   "metadata": {},
   "outputs": [
    {
     "name": "stdout",
     "output_type": "stream",
     "text": [
      "WARNING:tensorflow:Layers in a Sequential model should only have a single input tensor, but we receive a <class 'dict'> input: {'longitude': <tf.Tensor 'ExpandDims_3:0' shape=(None, 1) dtype=float64>, 'latitude': <tf.Tensor 'ExpandDims_2:0' shape=(None, 1) dtype=float64>, 'housing_median_age': <tf.Tensor 'ExpandDims_1:0' shape=(None, 1) dtype=int64>, 'total_rooms': <tf.Tensor 'ExpandDims_9:0' shape=(None, 1) dtype=int64>, 'total_bedrooms': <tf.Tensor 'ExpandDims_8:0' shape=(None, 1) dtype=int64>, 'population': <tf.Tensor 'ExpandDims_7:0' shape=(None, 1) dtype=int64>, 'households': <tf.Tensor 'ExpandDims:0' shape=(None, 1) dtype=int64>, 'median_income': <tf.Tensor 'ExpandDims_5:0' shape=(None, 1) dtype=float64>, 'median_house_value': <tf.Tensor 'ExpandDims_4:0' shape=(None, 1) dtype=int64>, 'ocean_proximity': <tf.Tensor 'ExpandDims_6:0' shape=(None, 1) dtype=string>}\n",
      "Consider rewriting this model with the Functional API.\n",
      "old pred: [[114130.55] [171535.33] [ 67166.78] [ 52909.31] [207127.95]])\n",
      "new pred:\n",
      "[[116024.11 ]\n",
      " [172662.   ]\n",
      " [ 68726.875]\n",
      " [ 53746.55 ]\n",
      " [204283.39 ]]\n"
     ]
    },
    {
     "data": {
      "text/plain": [
       "0    125200\n",
       "1    309600\n",
       "2    123600\n",
       "3    179800\n",
       "4    166800\n",
       "Name: median_house_value, dtype: int64"
      ]
     },
     "execution_count": 126,
     "metadata": {},
     "output_type": "execute_result"
    }
   ],
   "source": [
    "# TODO 2e -- Your code here\n",
    "predicted_median_house_value = model2.predict(test_predict)\n",
    "old_pred = \"[[114130.55]\\\n",
    " [171535.33]\\\n",
    " [ 67166.78]\\\n",
    " [ 52909.31]\\\n",
    " [207127.95]])\"\n",
    "print('old pred:', old_pred)\n",
    "print('new pred:')\n",
    "print(predicted_median_house_value[0:5])\n",
    "test_data.iloc[0:5]['median_house_value']"
   ]
  },
  {
   "cell_type": "markdown",
   "metadata": {
    "colab_type": "text",
    "id": "rcbdA3arXkej"
   },
   "source": [
    "### Analysis \n",
    "\n",
    "The array returns a predicted value.  Compare this value to the test set you ran earlier. Your predicted value may be a bit better.\n",
    "\n",
    "Now that you have your \"feature engineering template\" setup, you can experiment by creating additional features.  For example, you can create derived features, such as households per population, and see how they impact the model.  You can also experiment with replacing the features you used to create the feature cross.\n",
    " "
   ]
  },
  {
   "cell_type": "markdown",
   "metadata": {},
   "source": [
    "Copyright 2022 Google Inc.\n",
    "Licensed under the Apache License, Version 2.0 (the \"License\"); you may not use this file except in compliance with the License. You may obtain a copy of the License at\n",
    "http://www.apache.org/licenses/LICENSE-2.0\n",
    "Unless required by applicable law or agreed to in writing, software distributed under the License is distributed on an \"AS IS\" BASIS, WITHOUT WARRANTIES OR CONDITIONS OF ANY KIND, either express or implied. See the License for the specific language governing permissions and limitations under the License."
   ]
  }
 ],
 "metadata": {
  "colab": {
   "collapsed_sections": [],
   "name": "Basic Feature Engineering in Keras.ipynb",
   "provenance": [],
   "toc_visible": true
  },
  "environment": {
   "kernel": "python3",
   "name": "tf2-gpu.2-6.m108",
   "type": "gcloud",
   "uri": "gcr.io/deeplearning-platform-release/tf2-gpu.2-6:m108"
  },
  "kernelspec": {
   "display_name": "Python 3 (ipykernel)",
   "language": "python",
   "name": "python3"
  },
  "language_info": {
   "codemirror_mode": {
    "name": "ipython",
    "version": 3
   },
   "file_extension": ".py",
   "mimetype": "text/x-python",
   "name": "python",
   "nbconvert_exporter": "python",
   "pygments_lexer": "ipython3",
   "version": "3.9.16"
  }
 },
 "nbformat": 4,
 "nbformat_minor": 4
}
